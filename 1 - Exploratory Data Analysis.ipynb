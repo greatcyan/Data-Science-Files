{
 "cells": [
  {
   "cell_type": "markdown",
   "id": "10db762e-4920-4aa7-9655-a628481183b3",
   "metadata": {},
   "source": [
    "### Exploratory Data Analysis using Python"
   ]
  },
  {
   "cell_type": "markdown",
   "id": "0dbae227-2cb6-4c2e-8434-38280f9676a0",
   "metadata": {},
   "source": [
    "Importing necessary libraries:"
   ]
  },
  {
   "cell_type": "code",
   "execution_count": null,
   "id": "b7d1ca51-cd86-4d03-a5e3-cf90c70c0f19",
   "metadata": {},
   "outputs": [],
   "source": [
    "import numpy as np\n",
    "import pandas as pd\n",
    "import matplotlib.pyplot as plt\n",
    "import seaborn as sns\n",
    "sns.set_style(\"whitegrid\")\n",
    "sns.set_context(\"paper\", font_scale=1.0) \n",
    "\n",
    "%matplotlib inline"
   ]
  },
  {
   "cell_type": "code",
   "execution_count": null,
   "id": "d55269ee-df5c-4eab-a364-e00551377e77",
   "metadata": {},
   "outputs": [],
   "source": [
    "# Set Options for display\n",
    "pd.options.display.max_rows = 1000\n",
    "pd.options.display.max_columns = 100\n",
    "pd.options.display.float_format = '{:.2f}'.format\n",
    "\n",
    "#Filter Warnings\n",
    "import warnings\n",
    "warnings.filterwarnings('ignore')"
   ]
  },
  {
   "cell_type": "markdown",
   "id": "8f6dc8e6-d7ea-4f3a-9e58-bc0b650a6ec1",
   "metadata": {},
   "source": [
    "Load the dataset:"
   ]
  },
  {
   "cell_type": "code",
   "execution_count": null,
   "id": "f32e90b1-ec48-4a6c-98ed-ef6e39e8141f",
   "metadata": {},
   "outputs": [],
   "source": [
    "# to check your working directory\n",
    "%pwd\n",
    "\n",
    "# to change your working directory, use\n",
    "# %cd"
   ]
  },
  {
   "cell_type": "code",
   "execution_count": null,
   "id": "1f7290cd-1bee-4ae8-8f84-5aae7341e9a0",
   "metadata": {},
   "outputs": [],
   "source": [
    "df = pd.read_csv('/Users/radgerald/Documents/EDA for Lexmark/datasets/Ad-data.csv')"
   ]
  },
  {
   "cell_type": "markdown",
   "id": "8ee61aeb-fef8-4fbd-b99a-2ff521724ce6",
   "metadata": {},
   "source": [
    "Describe the data:"
   ]
  },
  {
   "cell_type": "code",
   "execution_count": null,
   "id": "f7ef24fe-c489-49c0-8004-eff96ebaedd0",
   "metadata": {},
   "outputs": [],
   "source": [
    "df.head()"
   ]
  },
  {
   "cell_type": "code",
   "execution_count": null,
   "id": "38e0191d-0d4c-4d13-b642-673df0b2c6eb",
   "metadata": {},
   "outputs": [],
   "source": [
    "# check if the data is loaded correctly\n",
    "df.tail()"
   ]
  },
  {
   "cell_type": "code",
   "execution_count": null,
   "id": "4563521e-9464-4781-a434-229474c0824e",
   "metadata": {},
   "outputs": [],
   "source": [
    "# check the dimensions\n",
    "df.shape"
   ]
  },
  {
   "cell_type": "code",
   "execution_count": null,
   "id": "0ff80ba7-44be-44c3-8b4c-e2f70cfda7d3",
   "metadata": {},
   "outputs": [],
   "source": [
    "# check the features\n",
    "df.info()"
   ]
  },
  {
   "cell_type": "code",
   "execution_count": null,
   "id": "014911e0-c6ea-45b9-87f1-9cc11c1428ac",
   "metadata": {},
   "outputs": [],
   "source": [
    "# check the column names\n",
    "df.columns"
   ]
  },
  {
   "cell_type": "markdown",
   "id": "593b7d28-a3f0-48dc-9f04-5e7f9a5036f3",
   "metadata": {},
   "source": [
    "## Verify Data Quality\n",
    "\n",
    "Look out for the following:\n",
    "- Unexpected missing values\n",
    "- Incorrect or unexpected data types and formats\n",
    "- Duplicates\n",
    "- Unexpected dimensions (i.e. missing rows or columns)\n",
    "- Incorrect spelling\n",
    "- Unexpected outliers or anomalous values\n",
    "- Inconsistent or incorrect units of measurement \n"
   ]
  },
  {
   "cell_type": "code",
   "execution_count": null,
   "id": "9ec106e0-f5ad-4402-b80e-66da6a81607d",
   "metadata": {},
   "outputs": [],
   "source": [
    "# check for unexpected missing values\n",
    "total = df.isnull().sum().sort_values(ascending=False)\n",
    "total"
   ]
  },
  {
   "cell_type": "code",
   "execution_count": null,
   "id": "5fb1ff85-c9f8-4b26-a0c8-0d9ab7c6d104",
   "metadata": {},
   "outputs": [],
   "source": [
    "### Assume blank link_clicks can be represented by 0, drop the column\n",
    "df['link_clicks'].fillna(0, inplace=True)"
   ]
  },
  {
   "cell_type": "code",
   "execution_count": null,
   "id": "b0a6d6db-3d43-40b9-8009-67b72c2edb35",
   "metadata": {},
   "outputs": [],
   "source": [
    "total = df.isnull().sum().sort_values(ascending=False)\n",
    "total"
   ]
  },
  {
   "cell_type": "code",
   "execution_count": null,
   "id": "391f08d7-5f4c-43c3-8d1b-59a73fa3acaf",
   "metadata": {},
   "outputs": [],
   "source": [
    "# check for incorrect or unexpected data type and format\n",
    "df.dtypes"
   ]
  },
  {
   "cell_type": "code",
   "execution_count": null,
   "id": "9f05365a-13a8-47ad-b412-e6eff55baf53",
   "metadata": {},
   "outputs": [],
   "source": [
    "# Convert Date to datetime format\n",
    "df['Date']= pd.to_datetime(df['Date'])"
   ]
  },
  {
   "cell_type": "code",
   "execution_count": null,
   "id": "96e49674-fa3b-4916-8b52-5a4bad34b2b8",
   "metadata": {},
   "outputs": [],
   "source": [
    "# check for duplicates\n",
    "df.duplicated()"
   ]
  },
  {
   "cell_type": "code",
   "execution_count": null,
   "id": "cb9eb4c2-6776-432d-b444-d24530462bfa",
   "metadata": {},
   "outputs": [],
   "source": [
    "df.duplicated().value_counts()"
   ]
  },
  {
   "cell_type": "code",
   "execution_count": null,
   "id": "aaaf4d76-0cb7-4038-909f-32f8988a8e71",
   "metadata": {},
   "outputs": [],
   "source": [
    "# Assume upon checking with data owner that duplicates are not expected and should be dropped"
   ]
  },
  {
   "cell_type": "code",
   "execution_count": null,
   "id": "cfbfde30-822d-49ff-b6e8-409b311ee870",
   "metadata": {},
   "outputs": [],
   "source": [
    "# handling duplicates\n",
    "df.drop_duplicates(inplace=True)"
   ]
  },
  {
   "cell_type": "code",
   "execution_count": null,
   "id": "d82ab68b-e354-40e1-8a62-63128f64f260",
   "metadata": {},
   "outputs": [],
   "source": [
    "df.duplicated().value_counts()"
   ]
  },
  {
   "cell_type": "code",
   "execution_count": null,
   "id": "6e0c2fc7-f0e9-431e-af50-46f7bf1f32f9",
   "metadata": {},
   "outputs": [],
   "source": [
    "# check categorical columns\n",
    "# split the dataset into categorical and numerical features\n",
    "\n",
    "# categorical features Only\n",
    "df_cat = df.select_dtypes(include=['object'])\n",
    "\n",
    "# numerical features Only\n",
    "df_num = df.select_dtypes(include=['int64','float64'])"
   ]
  },
  {
   "cell_type": "code",
   "execution_count": null,
   "id": "20f22ea0-d4fa-43d7-b08e-b308b492bc29",
   "metadata": {},
   "outputs": [],
   "source": [
    "# check for misspellings and mixed cases for categorical data\n",
    "\n",
    "# describe the Categorical Features. Check if Number of Unique Values is as expected. \n",
    "df.describe(include=['object'])"
   ]
  },
  {
   "cell_type": "code",
   "execution_count": null,
   "id": "eed691cd-66a7-4f35-9c21-5bf986539100",
   "metadata": {},
   "outputs": [],
   "source": [
    "# other Methods to Check: Value Counts\n",
    "df_cat.age.value_counts()"
   ]
  },
  {
   "cell_type": "code",
   "execution_count": null,
   "id": "011b5314-4c6c-4113-af91-dc8fe811c4b5",
   "metadata": {},
   "outputs": [],
   "source": [
    "# other Methods to Check: Unique\n",
    "df_cat.campaign_platform.unique()"
   ]
  },
  {
   "cell_type": "code",
   "execution_count": null,
   "id": "97575588-8d2c-4b5f-8678-4bc383102fcd",
   "metadata": {},
   "outputs": [],
   "source": [
    "# other Methods to Check: Number of Unique\n",
    "df_cat.campaign_type.nunique()"
   ]
  },
  {
   "cell_type": "code",
   "execution_count": null,
   "id": "753bd3f0-2f42-49df-9cb7-c48bc227e1a3",
   "metadata": {},
   "outputs": [],
   "source": [
    "# for loop to go over all the features and print out the unique values for each feature.\n",
    "\n",
    "for cat_col in df_cat.columns:\n",
    "    print (df[cat_col].value_counts())\n",
    "    print (\"\\n---------\")"
   ]
  },
  {
   "cell_type": "code",
   "execution_count": null,
   "id": "e0fc4446-ca49-4ae8-ac32-bef1286a2dda",
   "metadata": {},
   "outputs": [],
   "source": [
    "# extract data features\n",
    "\n",
    "df['Year'] = df.Date.dt.year\n",
    "df['Month'] = df.Date.dt.month\n",
    "df['Day']=df.Date.dt.day\n",
    "df['Week'] = df.Date.dt.week"
   ]
  },
  {
   "cell_type": "code",
   "execution_count": null,
   "id": "25be280d-b337-45c9-af89-9aa295b3bef9",
   "metadata": {},
   "outputs": [],
   "source": [
    "df.groupby('Month')['clicks'].max()"
   ]
  },
  {
   "cell_type": "code",
   "execution_count": null,
   "id": "8fbfeba3-ed22-49e2-8086-288c57a4919a",
   "metadata": {},
   "outputs": [],
   "source": [
    "# check numneric columns\n",
    "\n",
    "# check skewness\n",
    "\n",
    "# check the Number of Numerical Features\n",
    "df_num.shape"
   ]
  },
  {
   "cell_type": "code",
   "execution_count": null,
   "id": "d4f2f52f-fa21-443b-86ee-cf19f5d744bc",
   "metadata": {},
   "outputs": [],
   "source": [
    "# describe the Numerical Features. Check if the Mean, Min, and Max values are as expected.\n",
    "df_num.describe()"
   ]
  },
  {
   "cell_type": "code",
   "execution_count": null,
   "id": "396ec682-3f31-43d6-8fd7-bf8d22ddbe7c",
   "metadata": {},
   "outputs": [],
   "source": [
    "# All features can be plotted on a histogram\n",
    "df.clicks.hist()"
   ]
  },
  {
   "cell_type": "code",
   "execution_count": null,
   "id": "f62fec39-3e7a-4e05-a126-01413a383622",
   "metadata": {},
   "outputs": [],
   "source": [
    "sns.distplot(df['clicks'])"
   ]
  },
  {
   "cell_type": "code",
   "execution_count": null,
   "id": "eda71d4f-5c8f-4417-b5b4-bd9f527cc6c9",
   "metadata": {},
   "outputs": [],
   "source": [
    "# box plots\n",
    "\n",
    "sns.boxplot(df['clicks'])"
   ]
  },
  {
   "cell_type": "markdown",
   "id": "3c3178ed-c317-45d2-90dc-f04dcabdb5a4",
   "metadata": {},
   "source": [
    "What can you obseve about the target variable Sale Price?\n",
    "- How is it distributed?\n",
    "- Is the data skewed?\n",
    "- Are there outliers?"
   ]
  },
  {
   "cell_type": "code",
   "execution_count": null,
   "id": "337c73e8-bdf6-45bd-a070-8fc7e4ad5a99",
   "metadata": {},
   "outputs": [],
   "source": [
    "# handling skewness\n",
    "\n",
    "#sns.kdeplot(data = df, x = 'clicks')\n",
    "sns.kdeplot(df.clicks)"
   ]
  },
  {
   "cell_type": "code",
   "execution_count": null,
   "id": "17ae4a3e-f720-4c44-96b0-18c5722db57d",
   "metadata": {},
   "outputs": [],
   "source": [
    "# check conversions\n",
    "\n",
    "df['clicks_log'] = np.log(1+df['clicks'])\n",
    "sns.kdeplot(data = df['clicks_log'])"
   ]
  },
  {
   "cell_type": "code",
   "execution_count": null,
   "id": "69d53868-814b-49f1-90be-6858cb182da2",
   "metadata": {},
   "outputs": [],
   "source": [
    "df['clicks_sqrt'] = np.sqrt(df['clicks'])\n",
    "sns.kdeplot(data = df['clicks_sqrt'])"
   ]
  },
  {
   "cell_type": "code",
   "execution_count": null,
   "id": "24be3cae-c0f8-4a5f-b7e9-591def1df9c2",
   "metadata": {},
   "outputs": [],
   "source": [
    "print('Original:' , df['clicks'].skew())\n",
    "print('Log Transform:' , df['clicks_log'].skew())\n",
    "print('Square Root Transform:' , df['clicks_sqrt'].skew())"
   ]
  },
  {
   "cell_type": "code",
   "execution_count": null,
   "id": "f3ac7fc3-c3c7-4d93-ba78-2907a3508db1",
   "metadata": {},
   "outputs": [],
   "source": [
    "df['spends_log'] = np.log(1+df['spends'])\n",
    "df['spends_sqrt'] = np.sqrt(df['spends'])\n",
    "print('Original:' , df['spends'].skew())\n",
    "print('Log Transform:' , df['spends_log'].skew())\n",
    "print('Square Root Transform:' , df['spends_sqrt'].skew())"
   ]
  },
  {
   "cell_type": "code",
   "execution_count": null,
   "id": "2896bc4a-cef7-407b-915a-2c88321a1adf",
   "metadata": {},
   "outputs": [],
   "source": [
    "df['impressions_log'] = np.log(1+df['impressions'])\n",
    "df['impressions_sqrt'] = np.sqrt(df['impressions'])\n",
    "print('Original:' , df['impressions'].skew())\n",
    "print('Log Transform:' , df['impressions_log'].skew())\n",
    "print('Square Root Transform:' , df['impressions_sqrt'].skew())"
   ]
  },
  {
   "cell_type": "code",
   "execution_count": null,
   "id": "2d925a14-fa5a-4557-ad0e-4f494a58cbc9",
   "metadata": {},
   "outputs": [],
   "source": [
    "df['link_clicks_log'] = np.log(1+df['link_clicks'])\n",
    "df['link_clicks_sqrt'] = np.sqrt(df['link_clicks'])\n",
    "print('Original:' , df['link_clicks'].skew())\n",
    "print('Log Transform:' , df['link_clicks_log'].skew())\n",
    "print('Square Root Transform:' , df['link_clicks_sqrt'].skew())"
   ]
  },
  {
   "cell_type": "code",
   "execution_count": null,
   "id": "5f51b4ac-6f8d-4981-8845-9ca5a63d39ca",
   "metadata": {},
   "outputs": [],
   "source": [
    "df.drop(['clicks_sqrt','spends_sqrt','impressions_sqrt', 'link_clicks_sqrt'], axis = 1, inplace = True)"
   ]
  },
  {
   "cell_type": "code",
   "execution_count": null,
   "id": "703733bc-6af1-4256-8266-d1a4550dc738",
   "metadata": {},
   "outputs": [],
   "source": [
    "df.clicks_log.hist()"
   ]
  },
  {
   "cell_type": "code",
   "execution_count": null,
   "id": "d9425813-e7de-4e9c-8a07-8e803a790ad2",
   "metadata": {},
   "outputs": [],
   "source": [
    "sns.boxplot(data = df['clicks_log'],orient='h')"
   ]
  },
  {
   "cell_type": "code",
   "execution_count": null,
   "id": "10234fbd-4f9f-438f-a7d3-42dcc05fde87",
   "metadata": {},
   "outputs": [],
   "source": [
    "# handling unexpected outliers\n",
    "\n",
    "# can remove outliers using the IQR method where any value below Q1-1.5*IQR or above Q3+1.5*IQR is an Outlier\n",
    "\n",
    "def remove_Outliers(df,col_name):\n",
    "    print(\"Orig DF Size:\"+ str(df.shape) )\n",
    "    Q1 = np.quantile(df[col_name],0.25)\n",
    "\n",
    "    Q3 = np.quantile(df[col_name],0.75)\n",
    "\n",
    "    IQR = Q3 - Q1\n",
    "\n",
    "    lower_limit = Q1 - (1.5*IQR)\n",
    "    upper_limit = Q3 + (1.5*IQR)\n",
    "\n",
    "    print(\"Lower Limit: %.2f\" % lower_limit)\n",
    "    print(\"Upper Limit: %.2f\" % upper_limit)\n",
    "    \n",
    "    df_new = df[(df[col_name] > lower_limit) & (df[col_name] < upper_limit)]\n",
    "    print(\"New DF Size:\"+ str(df_new.shape) )\n",
    "    return df_new\n"
   ]
  },
  {
   "cell_type": "code",
   "execution_count": null,
   "id": "9a70805b-6984-4153-9bed-816acc2b8165",
   "metadata": {},
   "outputs": [],
   "source": [
    "df.shape"
   ]
  },
  {
   "cell_type": "code",
   "execution_count": null,
   "id": "a07a5e68-e32d-4193-9f66-12f2c9054825",
   "metadata": {},
   "outputs": [],
   "source": [
    "df_temp = remove_Outliers(df, 'clicks_log')\n",
    "df_temp.shape"
   ]
  },
  {
   "cell_type": "code",
   "execution_count": null,
   "id": "eb95460b-db39-4950-bf98-f673199dc625",
   "metadata": {},
   "outputs": [],
   "source": [
    "df_temp.clicks_log.hist()"
   ]
  },
  {
   "cell_type": "code",
   "execution_count": null,
   "id": "0fb5e1ca-cedb-4518-be7f-be0abf86312b",
   "metadata": {},
   "outputs": [],
   "source": [
    "# make outlier removal permanent\n",
    "df = df_temp"
   ]
  },
  {
   "cell_type": "code",
   "execution_count": null,
   "id": "600f791f-ab9b-4f5b-aa9a-b09764131d69",
   "metadata": {},
   "outputs": [],
   "source": [
    "# Categorical Variables\n",
    "\n",
    "# for categorical variables, you can use a countplot\n",
    "\n",
    "sns.countplot(df.campaign_platform)"
   ]
  },
  {
   "cell_type": "markdown",
   "id": "6a7d478a-bce8-40fc-8466-e74e8f715f10",
   "metadata": {},
   "source": [
    "Multivariate Plots to Understand Relatonships between Features, Test Hypothesis and Check Assumptions"
   ]
  },
  {
   "cell_type": "code",
   "execution_count": null,
   "id": "e852f333-b21f-4160-a933-12e226593bd4",
   "metadata": {},
   "outputs": [],
   "source": [
    "# correlation matrix\n",
    "corrmat = df.corr()"
   ]
  },
  {
   "cell_type": "code",
   "execution_count": null,
   "id": "9ae60cda-81ef-4dff-a019-60e10d9edf41",
   "metadata": {},
   "outputs": [],
   "source": [
    "corrmat"
   ]
  },
  {
   "cell_type": "code",
   "execution_count": null,
   "id": "4872efb8-6abc-48a6-b01f-398b8704a07e",
   "metadata": {},
   "outputs": [],
   "source": [
    "sns.heatmap(corrmat,  cmap=\"vlag\", center = 0,  vmax=1, square=True, linewidths=.5)"
   ]
  },
  {
   "cell_type": "code",
   "execution_count": null,
   "id": "d722ecef-c4de-4c9c-bd59-eca78b551fcd",
   "metadata": {},
   "outputs": [],
   "source": [
    "# Feature sorted by correlation to Clicks_log, from positive to negative\n",
    "corr = corrmat.sort_values('clicks_log', ascending=False)\n",
    "\n",
    "sns.barplot(corr.clicks_log[1:], corr.index[1:], orient='h')\n",
    "\n",
    "plt.show()"
   ]
  },
  {
   "cell_type": "markdown",
   "id": "91d0ef97-2209-4533-8538-4596b02e36b0",
   "metadata": {},
   "source": [
    "Quantitative vs Quantitative"
   ]
  },
  {
   "cell_type": "code",
   "execution_count": null,
   "id": "6d48ccf6-6aeb-4647-a2f7-69a9a102eef0",
   "metadata": {},
   "outputs": [],
   "source": [
    "sns.scatterplot(x='spends', y='clicks', data = df)"
   ]
  },
  {
   "cell_type": "code",
   "execution_count": null,
   "id": "ff0adb09-d361-4fab-882c-2cd7a9bd5c75",
   "metadata": {},
   "outputs": [],
   "source": [
    "sns.scatterplot(x='spends_log', y='clicks_log', data = df)"
   ]
  },
  {
   "cell_type": "code",
   "execution_count": null,
   "id": "323841d0-8320-4bf1-9019-d4b21f3af6d7",
   "metadata": {},
   "outputs": [],
   "source": [
    "sns.regplot(x='spends', y='clicks', data = df)"
   ]
  },
  {
   "cell_type": "code",
   "execution_count": null,
   "id": "d4ec4343-d3bd-40ad-ab32-87d521db798d",
   "metadata": {},
   "outputs": [],
   "source": [
    "sns.jointplot(x='spends_log', y='clicks_log', data=df)"
   ]
  },
  {
   "cell_type": "code",
   "execution_count": null,
   "id": "fb98215d-1a4c-469c-9a2d-2b46fcf5dfc6",
   "metadata": {},
   "outputs": [],
   "source": [
    "# Impressions vs Spends\n",
    "sns.jointplot(x='spends_log', y='impressions_log', data=df, kind='reg')"
   ]
  },
  {
   "cell_type": "code",
   "execution_count": null,
   "id": "056f378e-4c70-4120-8fd5-ef4660875bf4",
   "metadata": {},
   "outputs": [],
   "source": [
    "df_metrics = df[['campaign_platform','spends','spends_log', 'clicks', 'clicks_log', 'impressions', 'impressions_log','link_clicks','link_clicks_log']]\n",
    "\n",
    "#Original Code\n",
    "#sns.pairplot(df_metrics, hue='campaign_platform', kind='reg')\n",
    "\n",
    "#Alternative Code\n",
    "sns.pairplot(df_metrics, hue='campaign_platform', diag_kws={'bw': 1})"
   ]
  },
  {
   "cell_type": "markdown",
   "id": "9c497b1d-2c73-408c-b61a-c0b227f3b5d1",
   "metadata": {},
   "source": [
    "Violin Plots"
   ]
  },
  {
   "cell_type": "code",
   "execution_count": null,
   "id": "5b7d1d55-f56a-483f-816b-bf836d9f4c07",
   "metadata": {},
   "outputs": [],
   "source": [
    "# Violinplots on SalePrice given Functional feature\n",
    "sns.violinplot(data=df,x=\"campaign_type\", y=\"clicks_log\")"
   ]
  },
  {
   "cell_type": "code",
   "execution_count": null,
   "id": "5d4036ef-98ee-44df-bff3-169c4bf5c5c2",
   "metadata": {},
   "outputs": [],
   "source": [
    "# Violinplots on SalePrice given Functional feature\n",
    "sns.stripplot(data=df,x=\"subchannel\", y=\"clicks\")"
   ]
  },
  {
   "cell_type": "code",
   "execution_count": null,
   "id": "9ce9f5ee-08a0-4e5a-89af-c054f9f3a13f",
   "metadata": {},
   "outputs": [],
   "source": [
    "sns.catplot(data=df,x=\"age\", y=\"clicks_log\", hue = \"device\", kind=\"point\")"
   ]
  },
  {
   "cell_type": "code",
   "execution_count": null,
   "id": "bedf5868-c1ec-4716-8927-338d7e278178",
   "metadata": {},
   "outputs": [],
   "source": [
    "sns.catplot(data=df,x=\"age\", y=\"clicks_log\", hue = \"subchannel\", kind=\"point\")"
   ]
  },
  {
   "cell_type": "code",
   "execution_count": null,
   "id": "e844f23f-18e6-4eda-9e86-a5c1f49d3e76",
   "metadata": {},
   "outputs": [],
   "source": [
    "sns.barplot(data=df, x='Month', y='clicks')"
   ]
  },
  {
   "cell_type": "code",
   "execution_count": null,
   "id": "2c542247-cd7e-4de2-b6d0-b769012cbc7a",
   "metadata": {},
   "outputs": [],
   "source": [
    "sns.boxplot(data=df, x='Month', y='clicks_log')"
   ]
  },
  {
   "cell_type": "markdown",
   "id": "de367a99-b4f1-42d2-b404-1650e7bf9418",
   "metadata": {},
   "source": [
    "Data Preparation - Category to Numeric"
   ]
  },
  {
   "cell_type": "markdown",
   "id": "1a271795-ce1f-47f1-a0d6-e89ec1246206",
   "metadata": {},
   "source": [
    "Convert ordinal features to numeric:"
   ]
  },
  {
   "cell_type": "code",
   "execution_count": null,
   "id": "1c0c3620-67c8-4881-9e44-278fa151206a",
   "metadata": {},
   "outputs": [],
   "source": [
    "from sklearn.preprocessing import LabelEncoder\n",
    "from sklearn.preprocessing import OrdinalEncoder"
   ]
  },
  {
   "cell_type": "code",
   "execution_count": null,
   "id": "cf2798fb-b79d-4f02-a9c3-8f21843e6b3c",
   "metadata": {},
   "outputs": [],
   "source": [
    "df.age.values"
   ]
  },
  {
   "cell_type": "code",
   "execution_count": null,
   "id": "527f3d71-04b3-4f80-8d78-362bcfe14ab2",
   "metadata": {},
   "outputs": [],
   "source": [
    "sns.countplot(data=df, x=df.age)"
   ]
  },
  {
   "cell_type": "code",
   "execution_count": null,
   "id": "3f43b89c-f395-42b0-b970-b75d2d9d65a3",
   "metadata": {},
   "outputs": [],
   "source": [
    "df.age.value_counts()"
   ]
  },
  {
   "cell_type": "code",
   "execution_count": null,
   "id": "a0e97726-4b6a-4f35-9587-907e1132b3e1",
   "metadata": {},
   "outputs": [],
   "source": [
    "#Using Label Encode\n",
    "le = LabelEncoder()\n",
    "df[\"age_le\"] = le.fit_transform(df['age'])"
   ]
  },
  {
   "cell_type": "code",
   "execution_count": null,
   "id": "a7833198-71fa-4b10-9565-dc50c8613718",
   "metadata": {},
   "outputs": [],
   "source": [
    "df.age_le"
   ]
  },
  {
   "cell_type": "code",
   "execution_count": null,
   "id": "6bccdd52-c4fe-4076-b060-69f1a561858c",
   "metadata": {},
   "outputs": [],
   "source": [
    "age_vc = df.age.value_counts().sort_values(ascending=False)\n",
    "age_le_vc = df.age_le.value_counts().sort_values(ascending=False)\n",
    "pd.DataFrame([age_vc.index.values,age_le_vc.index.values,age_vc.values], index=['age','age_le','values']).T"
   ]
  },
  {
   "cell_type": "code",
   "execution_count": null,
   "id": "29ed961a-4ff3-4e51-8e32-29e46e90d9ba",
   "metadata": {},
   "outputs": [],
   "source": [
    "# Using substitution\n",
    "df['age_ord'] = df['age']\n",
    "df = df.replace({'age_ord':{'18-24':1,'25-34':2,'35-44':3, 'Undetermined': 4, '45-54':5, '55-64': 6,'65 or more':7}})"
   ]
  },
  {
   "cell_type": "code",
   "execution_count": null,
   "id": "3890532c-2d77-4d37-bfd4-22e86e78a8a5",
   "metadata": {},
   "outputs": [],
   "source": [
    "age_vc = df.age.value_counts().sort_values(ascending=False)\n",
    "age_ord_vc = df.age_ord.value_counts().sort_values(ascending=False)\n",
    "pd.DataFrame([age_vc.index.values,age_ord_vc.index.values,age_vc.values], index=['age','age_ord','values']).T"
   ]
  },
  {
   "cell_type": "code",
   "execution_count": null,
   "id": "b739f598-8a5a-4466-9dd6-c975e3cee779",
   "metadata": {},
   "outputs": [],
   "source": [
    "#Drop age column and keep age_ord\n",
    "\n",
    "df.drop(['age', 'age_le'],axis = 1, inplace = True)"
   ]
  },
  {
   "cell_type": "markdown",
   "id": "3a420a89-6ae2-4a8e-af06-9e57376cdf40",
   "metadata": {},
   "source": [
    "Convert nominal features to numeric"
   ]
  },
  {
   "cell_type": "code",
   "execution_count": null,
   "id": "014b862a-6fad-4f7e-b8b0-4d1eff8c9ad3",
   "metadata": {},
   "outputs": [],
   "source": [
    "df.dtypes"
   ]
  },
  {
   "cell_type": "code",
   "execution_count": null,
   "id": "854ec1d1-28a5-499d-9ed5-bfe477968a91",
   "metadata": {},
   "outputs": [],
   "source": [
    "df_cat = df.select_dtypes(include='object')\n",
    "\n",
    "df_cat_dummies = pd.get_dummies(df_cat)"
   ]
  },
  {
   "cell_type": "code",
   "execution_count": null,
   "id": "4b862e0e-475e-4fcc-bd69-cd0444f9efd5",
   "metadata": {},
   "outputs": [],
   "source": [
    "df_cat_dummies.head()"
   ]
  },
  {
   "cell_type": "code",
   "execution_count": null,
   "id": "e18e3cf9-68c6-4b84-8ca7-d298dca847ea",
   "metadata": {},
   "outputs": [],
   "source": [
    "#join the encoded columns to the original dataframe\n",
    "df = df.join(df_cat_dummies)"
   ]
  },
  {
   "cell_type": "code",
   "execution_count": null,
   "id": "f26226b1-d28d-4732-a582-ea77ffb9c0fc",
   "metadata": {},
   "outputs": [],
   "source": [
    "df.head()"
   ]
  },
  {
   "cell_type": "code",
   "execution_count": null,
   "id": "fa650283-e5a4-471d-aa32-45e96aa103d8",
   "metadata": {},
   "outputs": [],
   "source": [
    "#drop original columns\n",
    "df.drop(columns = df_cat.columns, axis = 1, inplace = True)"
   ]
  },
  {
   "cell_type": "code",
   "execution_count": null,
   "id": "e2acfe36-9b03-46ca-8ea4-512c01dac114",
   "metadata": {},
   "outputs": [],
   "source": [
    "df.head()"
   ]
  },
  {
   "cell_type": "code",
   "execution_count": null,
   "id": "2a8a2760-412b-4632-b15f-527b9823083f",
   "metadata": {},
   "outputs": [],
   "source": [
    "#Check correlations of all columns\n",
    "corrmat = df.corr()\n",
    "plt.figure(figsize=(10,10))\n",
    "sns.heatmap(corrmat,  cmap=\"vlag\", center = 0,  vmax=.9, square=True, linewidths=.5)"
   ]
  },
  {
   "cell_type": "markdown",
   "id": "3841b542-d396-49b1-be98-8946922b8a3e",
   "metadata": {},
   "source": [
    "Data Preparation - Scaling"
   ]
  },
  {
   "cell_type": "code",
   "execution_count": null,
   "id": "7e9e04bb-a01e-4eed-b56f-22bcb94cdc1c",
   "metadata": {},
   "outputs": [],
   "source": [
    "df.shape"
   ]
  },
  {
   "cell_type": "code",
   "execution_count": null,
   "id": "54662ef8-1c3b-4261-962c-4e0bf24674df",
   "metadata": {},
   "outputs": [],
   "source": [
    "df.clicks.describe()"
   ]
  },
  {
   "cell_type": "code",
   "execution_count": null,
   "id": "cbdb0cba-6613-44c4-81b5-f722be35ad55",
   "metadata": {},
   "outputs": [],
   "source": [
    "df.describe()"
   ]
  },
  {
   "cell_type": "code",
   "execution_count": null,
   "id": "1dd2ec5e-5700-44dc-ad02-be2fab5f4353",
   "metadata": {},
   "outputs": [],
   "source": [
    "#Separate Features and Target\n",
    "df_x = df.drop([\"clicks\",\"clicks_log\"], axis=1)\n",
    "y = df[[\"clicks\",\"clicks_log\"]]"
   ]
  },
  {
   "cell_type": "code",
   "execution_count": null,
   "id": "29d01cc4-ff1f-4ddb-95dc-ae0854ea1edd",
   "metadata": {},
   "outputs": [],
   "source": [
    "df_x.drop(\"Date\", axis=1,inplace = True)"
   ]
  },
  {
   "cell_type": "code",
   "execution_count": null,
   "id": "568cd07e-d860-45ef-956e-01dacfc260a5",
   "metadata": {},
   "outputs": [],
   "source": [
    "#Import the MinMax Scaler\n",
    "from sklearn.preprocessing import MinMaxScaler, StandardScaler, RobustScaler"
   ]
  },
  {
   "cell_type": "code",
   "execution_count": null,
   "id": "f1dea676-2086-4bd2-8033-adb5abda56ed",
   "metadata": {},
   "outputs": [],
   "source": [
    "#NOTE: Only scale the predictor variables, NOT the target variable\n",
    "\n",
    "#Instantiate the Scaler\n",
    "scaler = MinMaxScaler()\n",
    "\n",
    "#Fit to the data set\n",
    "scaler.fit(df_x)\n",
    "\n",
    "#Apply to the data set\n",
    "scaled_data = scaler.transform(df_x)\n",
    "\n",
    "\n",
    "#Optional:\n",
    "#Convert to DataFrame for viewing\n",
    "df_minmax = pd.DataFrame(scaled_data, columns=df_x.columns, index=df_x.index)"
   ]
  },
  {
   "cell_type": "code",
   "execution_count": null,
   "id": "11dfe74a-a1a0-4eea-8bd3-df414d344436",
   "metadata": {},
   "outputs": [],
   "source": [
    "df_minmax.describe()"
   ]
  },
  {
   "cell_type": "code",
   "execution_count": null,
   "id": "25e96b96-409a-453a-91a7-879ea8ae39f5",
   "metadata": {},
   "outputs": [],
   "source": [
    "#combine scaled data with target columns\n",
    "df_prep = df_minmax.join(y)\n",
    "\n",
    "df_prep.head()"
   ]
  },
  {
   "cell_type": "code",
   "execution_count": null,
   "id": "e8a17572-5ef6-43e9-a6cb-19c7b74f35fb",
   "metadata": {},
   "outputs": [],
   "source": [
    "#Save as a csv\n",
    "df_prep.to_csv('/Users/radgerald/Documents/EDA for Lexmark/datasets/Ad-data_prep.csv')"
   ]
  },
  {
   "cell_type": "code",
   "execution_count": null,
   "id": "6b29c4b5-f89f-4128-93ca-eaca65c053aa",
   "metadata": {},
   "outputs": [],
   "source": []
  }
 ],
 "metadata": {
  "kernelspec": {
   "display_name": "Python 3 (ipykernel)",
   "language": "python",
   "name": "python3"
  },
  "language_info": {
   "codemirror_mode": {
    "name": "ipython",
    "version": 3
   },
   "file_extension": ".py",
   "mimetype": "text/x-python",
   "name": "python",
   "nbconvert_exporter": "python",
   "pygments_lexer": "ipython3",
   "version": "3.11.5"
  }
 },
 "nbformat": 4,
 "nbformat_minor": 5
}
