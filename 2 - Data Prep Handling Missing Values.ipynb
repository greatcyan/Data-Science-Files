{
 "cells": [
  {
   "cell_type": "markdown",
   "id": "2f768035-66be-479c-b422-e2dc5ea6c355",
   "metadata": {},
   "source": [
    "### Data Preparation - Handling Missing Values"
   ]
  },
  {
   "cell_type": "markdown",
   "id": "28a48aa7-141f-4daa-bbd4-1679c9c02750",
   "metadata": {},
   "source": [
    "Dataset: Housing_train.csv"
   ]
  },
  {
   "cell_type": "markdown",
   "id": "2e1ab337-6fd6-45c4-890b-25540916b87c",
   "metadata": {},
   "source": [
    "Importing libraries:"
   ]
  },
  {
   "cell_type": "code",
   "execution_count": null,
   "id": "45e6a258-2169-45ff-812d-d026188abda0",
   "metadata": {},
   "outputs": [],
   "source": [
    "import pandas as pd\n",
    "import matplotlib.pyplot as plt\n",
    "import seaborn as sns\n",
    "import numpy as np\n",
    "\n",
    "\n",
    "%matplotlib inline"
   ]
  },
  {
   "cell_type": "code",
   "execution_count": null,
   "id": "2f28a9dc-b5b2-400d-8e8f-8fd8df577ce3",
   "metadata": {},
   "outputs": [],
   "source": [
    "# Set Options for display\n",
    "pd.options.display.max_rows = 100\n",
    "pd.options.display.max_columns = 100\n",
    "pd.options.display.float_format = '{:.2f}'.format\n",
    "\n",
    "#Filter Warnings\n",
    "import warnings\n",
    "warnings.filterwarnings('ignore')"
   ]
  },
  {
   "cell_type": "markdown",
   "id": "52650190-aa6f-4424-9d38-ed83afc356a0",
   "metadata": {},
   "source": [
    "Load the dataset:"
   ]
  },
  {
   "cell_type": "code",
   "execution_count": null,
   "id": "b1f371c4-7af3-4690-a60f-2fdc9e06f4c5",
   "metadata": {},
   "outputs": [],
   "source": [
    "df = pd.read_csv(\"../datasets/Housing_train.csv\", index_col = 'Id')"
   ]
  },
  {
   "cell_type": "markdown",
   "id": "50254865-02bf-4027-94a6-e0f8a443e1d8",
   "metadata": {},
   "source": [
    "Handle missing data"
   ]
  },
  {
   "cell_type": "code",
   "execution_count": null,
   "id": "9cff1753-5d5b-4dd0-8340-990f5da0dbaa",
   "metadata": {},
   "outputs": [],
   "source": [
    "#missing data\n",
    "\n",
    "#Gets the total number of missing data\n",
    "total = df.isnull().sum().sort_values(ascending=False)\n",
    "\n",
    "#Get % of Null\n",
    "percent = (df.isnull().sum()/df.isnull().count()).sort_values(ascending=False)\n",
    "\n",
    "missing_data = pd.concat([total, percent], axis=1, keys=['Total', 'Percent'])\n",
    "\n",
    "missing_data.head(20)"
   ]
  },
  {
   "cell_type": "markdown",
   "id": "32e183e3-178b-4408-bdd8-f914f9218369",
   "metadata": {},
   "source": [
    "What should we do with \"PoolQC\"?"
   ]
  },
  {
   "cell_type": "code",
   "execution_count": null,
   "id": "a429c119-3603-43cf-b46f-90528dc1cf57",
   "metadata": {},
   "outputs": [],
   "source": [
    "df.PoolQC.value_counts()"
   ]
  },
  {
   "cell_type": "code",
   "execution_count": null,
   "id": "f3e87ec0-6407-4ff4-a09a-ff4fedb04d52",
   "metadata": {},
   "outputs": [],
   "source": [
    "df_temp = df.fillna({'PoolQC':'None'},inplace=False)"
   ]
  },
  {
   "cell_type": "code",
   "execution_count": null,
   "id": "dd94e52d-5e8c-4859-8003-c6cf894bccca",
   "metadata": {},
   "outputs": [],
   "source": [
    "df_temp.groupby(\"PoolQC\")['SalePrice'].mean()"
   ]
  },
  {
   "cell_type": "markdown",
   "id": "26ca2c9c-8f38-4aa5-b347-30292d360c45",
   "metadata": {},
   "source": [
    "Keep PoolQC and Rows with PoolQC, as it informs price. Make change permanent on Data Frame"
   ]
  },
  {
   "cell_type": "code",
   "execution_count": null,
   "id": "4f250c89-7b93-4715-ad95-25f553d9ab1c",
   "metadata": {},
   "outputs": [],
   "source": [
    "df.fillna({'PoolQC':'None'}, inplace=True)"
   ]
  },
  {
   "cell_type": "markdown",
   "id": "c1a71ef9-481c-4781-8278-00d5f7cf433c",
   "metadata": {},
   "source": [
    "What should we do with \"MiscFeature? Assume all missing values mean there are no misc features for the property"
   ]
  },
  {
   "cell_type": "code",
   "execution_count": null,
   "id": "9bfb7137-81a0-4711-be1f-702d2046ca03",
   "metadata": {},
   "outputs": [],
   "source": [
    "df  = df.fillna({'MiscFeature':'None'})"
   ]
  },
  {
   "cell_type": "markdown",
   "id": "041c1f7c-4f66-4c1f-8a49-14bb88388fbb",
   "metadata": {},
   "source": [
    "Inspect if the rows tdf_temp= df.fillna({'FireplaceQu':'None'})hat are missing for FireplaceQu are the ones without Fireplaces"
   ]
  },
  {
   "cell_type": "code",
   "execution_count": null,
   "id": "ae66ccba-567d-4a0a-97dc-8debddab648b",
   "metadata": {},
   "outputs": [],
   "source": [
    "df_temp= df.fillna({'FireplaceQu':'None'})"
   ]
  },
  {
   "cell_type": "code",
   "execution_count": null,
   "id": "1f605a3f-4d27-4223-bfae-79240e167c52",
   "metadata": {},
   "outputs": [],
   "source": [
    "df_temp.FireplaceQu.value_counts()"
   ]
  },
  {
   "cell_type": "code",
   "execution_count": null,
   "id": "cadba990-c7a2-4d0c-9c17-4e28182b639c",
   "metadata": {},
   "outputs": [],
   "source": [
    "pd.crosstab(df_temp.Fireplaces, df_temp.FireplaceQu)"
   ]
  },
  {
   "cell_type": "code",
   "execution_count": null,
   "id": "2dbd59dc-1b06-425c-b6d2-ad4f364850ff",
   "metadata": {},
   "outputs": [],
   "source": [
    "df.fillna({'FireplaceQu':'None'}, inplace=True)"
   ]
  },
  {
   "cell_type": "code",
   "execution_count": null,
   "id": "dfa86c6d-e6d0-4d99-95c8-5b4343d3a4a7",
   "metadata": {},
   "outputs": [],
   "source": [
    "df.fillna({'FireplaceQu':'None'}, inplace = True)"
   ]
  },
  {
   "cell_type": "markdown",
   "id": "5cdd0e40-8244-43ad-92ab-ceee764efdf9",
   "metadata": {},
   "source": [
    "Assume we know Alley and Fence doesn't inform price, drop the columns"
   ]
  },
  {
   "cell_type": "code",
   "execution_count": null,
   "id": "afe4f6cb-0d03-46a9-afa7-0a5d96e4e8ce",
   "metadata": {},
   "outputs": [],
   "source": [
    "df.drop(columns = ['Alley', 'Fence'], axis=1,  inplace = True )"
   ]
  },
  {
   "cell_type": "code",
   "execution_count": null,
   "id": "75f6124f-2325-47aa-8871-0eec98483822",
   "metadata": {},
   "outputs": [],
   "source": [
    "df.shape"
   ]
  },
  {
   "cell_type": "markdown",
   "id": "72f9781b-5202-4bbd-9a33-e077e478b40a",
   "metadata": {},
   "source": [
    "Fill in with imputed value (mean) for LotFrontage"
   ]
  },
  {
   "cell_type": "code",
   "execution_count": null,
   "id": "e703878c-f0a6-4742-9ac6-12e28399fbd9",
   "metadata": {},
   "outputs": [],
   "source": [
    "df.LotFrontage.describe()"
   ]
  },
  {
   "cell_type": "code",
   "execution_count": null,
   "id": "e9542785-419d-49df-8c01-8df0d02bb430",
   "metadata": {},
   "outputs": [],
   "source": [
    "LF_mean = df.LotFrontage.mean()"
   ]
  },
  {
   "cell_type": "code",
   "execution_count": null,
   "id": "75d21598-48b6-4dac-bcc0-899ba49eee87",
   "metadata": {},
   "outputs": [],
   "source": [
    "df.LotFrontage.fillna(LF_mean,inplace=True)"
   ]
  },
  {
   "cell_type": "markdown",
   "id": "09d6a10f-f512-46fc-b217-f0806a8550d8",
   "metadata": {},
   "source": [
    "Fill in LotFrontage with imputed value based on LotArea"
   ]
  },
  {
   "cell_type": "markdown",
   "id": "89305247-a6d0-4384-91f9-233d549088d2",
   "metadata": {},
   "source": [
    "Let's try using some factor of LotArea"
   ]
  },
  {
   "cell_type": "code",
   "execution_count": null,
   "id": "a9867502-4503-4d1d-8ba5-17253c180f2f",
   "metadata": {},
   "outputs": [],
   "source": [
    "df_temp['PercentLotArea']=df_temp['LotArea']*.45\n",
    "df_temp['LotFrontage'].corr(df_temp['PercentLotArea'])"
   ]
  },
  {
   "cell_type": "markdown",
   "id": "765222e2-e208-40d3-83d0-8fe8567ddbcf",
   "metadata": {},
   "source": [
    "Let's try to see if using the square root of Lot Area would yield higher correlation"
   ]
  },
  {
   "cell_type": "code",
   "execution_count": null,
   "id": "18e48a87-def3-4dea-898c-5cb60d54fc69",
   "metadata": {},
   "outputs": [],
   "source": [
    "df_temp['SqrtLotArea']=np.sqrt(df_temp['LotArea'])\n",
    "df_temp['LotFrontage'].corr(df_temp['SqrtLotArea'])"
   ]
  },
  {
   "cell_type": "code",
   "execution_count": null,
   "id": "b085d956-beb7-4f8f-af84-55cf120d9ca3",
   "metadata": {},
   "outputs": [],
   "source": [
    "df['SqrtLotArea']=np.sqrt(df['LotArea'])"
   ]
  },
  {
   "cell_type": "markdown",
   "id": "d951a8ff-26f5-4a1e-b52a-7529a0117c8e",
   "metadata": {},
   "source": [
    "Check Basement Features"
   ]
  },
  {
   "cell_type": "markdown",
   "id": "d34d515e-542d-414a-bac5-0187e29e1777",
   "metadata": {},
   "source": [
    "Do the blank categorical features correspond to 0 in the numerical features?"
   ]
  },
  {
   "cell_type": "code",
   "execution_count": null,
   "id": "d1907892-8c22-4f77-8750-2b3a275671f6",
   "metadata": {},
   "outputs": [],
   "source": [
    "#List of Basement Features\n",
    "basement_cols=['BsmtQual','BsmtCond','BsmtExposure','BsmtFinType1','BsmtFinType2','BsmtFinSF1','BsmtFinSF2']"
   ]
  },
  {
   "cell_type": "code",
   "execution_count": null,
   "id": "0e79d5af-fb70-49b0-a2f2-81b762635000",
   "metadata": {},
   "outputs": [],
   "source": [
    "df_temp[basement_cols][df_temp['BsmtQual'].isnull()==True]"
   ]
  },
  {
   "cell_type": "markdown",
   "id": "34925a6f-0ae7-45f7-ba16-b4262ca891cb",
   "metadata": {},
   "source": [
    "So in the cases where the categorical variables are NaN, the numerical ones are 0. Which means there's no basement, so the categorical ones should also be set to \"None\"."
   ]
  },
  {
   "cell_type": "code",
   "execution_count": null,
   "id": "bf94339a-2a13-4e29-a998-bf6f3b574553",
   "metadata": {},
   "outputs": [],
   "source": [
    "#For loop to fill in missing values\n",
    "for col in basement_cols:\n",
    "    \n",
    "    if df[col].dtype==np.object:\n",
    "        df[col] = df[col].fillna('None')\n",
    "        \n",
    "    else:\n",
    "        df[col] = df[col].fillna(0)"
   ]
  },
  {
   "cell_type": "markdown",
   "id": "87a06d01-4bfb-40d0-be5e-6593824fece8",
   "metadata": {},
   "source": [
    "Check Garage Features\n",
    "\n",
    "Note: Not all Garage Features have the same number of missing rows"
   ]
  },
  {
   "cell_type": "code",
   "execution_count": null,
   "id": "2f34022c-d62a-444b-ab8a-87577bc32544",
   "metadata": {},
   "outputs": [],
   "source": [
    "sns.violinplot(x=df[\"GarageCars\"],y=df[\"SalePrice\"])"
   ]
  },
  {
   "cell_type": "markdown",
   "id": "2c7bee3e-1e33-45fe-aab0-a3c5c33450e5",
   "metadata": {},
   "source": [
    "No Garage appears to inform SalePrice, fill in with None for categorical and 0 for numeric SF"
   ]
  },
  {
   "cell_type": "code",
   "execution_count": null,
   "id": "78ae309f-5531-45f8-9dd6-805c031c9523",
   "metadata": {},
   "outputs": [],
   "source": [
    "#List of Garage Features\n",
    "garage_cols=['GarageType','GarageQual','GarageCond','GarageYrBlt','GarageFinish']\n",
    "\n",
    "#For loop to fill in missing values\n",
    "for col in garage_cols:\n",
    "    \n",
    "    if df[col].dtype==np.object:\n",
    "        df[col] = df[col].fillna('None')\n",
    "        \n",
    "    else:\n",
    "        df[col] = df[col].fillna(0)"
   ]
  },
  {
   "cell_type": "markdown",
   "id": "70003f70-30b3-4e8b-9b27-4cd1eb5e6c9c",
   "metadata": {},
   "source": [
    "How to handle Electrical with just one row missing?"
   ]
  },
  {
   "cell_type": "code",
   "execution_count": null,
   "id": "b007b3fb-dc57-49cd-9a28-0d46f4fd2da6",
   "metadata": {},
   "outputs": [],
   "source": [
    "#We can replace missing values with most frequent ones.\n",
    "df_temp = df.copy()\n",
    "df_temp[\"Electrical\"] = df[\"Electrical\"].fillna('SBrkr')"
   ]
  },
  {
   "cell_type": "code",
   "execution_count": null,
   "id": "c4bc1900-3cc7-4c9a-a1c0-8fad5cba5f3b",
   "metadata": {},
   "outputs": [],
   "source": [
    "#OR We can drop the row altogether\n",
    "df.dropna(subset = [\"Electrical\"], inplace=True, axis = 0, how='all')"
   ]
  },
  {
   "cell_type": "code",
   "execution_count": null,
   "id": "3a06d63d-511b-41e8-8a1e-507a144b6c91",
   "metadata": {},
   "outputs": [],
   "source": [
    "df.shape"
   ]
  },
  {
   "cell_type": "markdown",
   "id": "c9dcbcfc-1129-4808-8060-03e16ae7492d",
   "metadata": {},
   "source": [
    "Handle the remaining columns with null values"
   ]
  },
  {
   "cell_type": "code",
   "execution_count": null,
   "id": "a3fc3c41-9772-4d99-ad50-aaa7dcfff248",
   "metadata": {},
   "outputs": [],
   "source": [
    "#Check if we still have null values present\n",
    "df.isnull().sum().sort_values(ascending=False).head()"
   ]
  },
  {
   "cell_type": "code",
   "execution_count": null,
   "id": "280d79ca-13cd-4465-9420-e7da404dd460",
   "metadata": {},
   "outputs": [],
   "source": [
    "#Let's drop the rows in this case since we have less than 10 rows with missing values left\n",
    "df.dropna(subset = [\"MasVnrType\",\"MasVnrArea\"], axis = 0, how='any', inplace=True)"
   ]
  },
  {
   "cell_type": "code",
   "execution_count": null,
   "id": "235acea9-e535-4444-8fd7-0079cb10bc01",
   "metadata": {},
   "outputs": [],
   "source": [
    "#Confirm that there are no more null values present\n",
    "df.isnull().sum().sort_values(ascending=False).head()"
   ]
  }
 ],
 "metadata": {
  "kernelspec": {
   "display_name": "Python 3 (ipykernel)",
   "language": "python",
   "name": "python3"
  },
  "language_info": {
   "codemirror_mode": {
    "name": "ipython",
    "version": 3
   },
   "file_extension": ".py",
   "mimetype": "text/x-python",
   "name": "python",
   "nbconvert_exporter": "python",
   "pygments_lexer": "ipython3",
   "version": "3.11.5"
  }
 },
 "nbformat": 4,
 "nbformat_minor": 5
}
