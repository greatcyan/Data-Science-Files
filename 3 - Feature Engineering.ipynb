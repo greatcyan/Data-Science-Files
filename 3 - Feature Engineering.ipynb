{
 "cells": [
  {
   "cell_type": "markdown",
   "id": "5cf333d7-bdb1-4294-a6bf-e35812dc2a8f",
   "metadata": {},
   "source": [
    "### Feature Engineering"
   ]
  },
  {
   "cell_type": "markdown",
   "id": "fcd8d314-ba55-4ebc-bada-54ae69452cb4",
   "metadata": {},
   "source": [
    "Dataset: Online Retail-12-2010.csv"
   ]
  },
  {
   "cell_type": "markdown",
   "id": "b31402b7-3c86-4eea-9a39-b46aa26a594c",
   "metadata": {},
   "source": [
    "Import libraries"
   ]
  },
  {
   "cell_type": "code",
   "execution_count": null,
   "id": "53f2bb82-7a0c-44e0-9f1a-c3d1d03b863d",
   "metadata": {},
   "outputs": [],
   "source": [
    "%matplotlib inline\n",
    "\n",
    "import numpy as np\n",
    "import pandas as pd\n",
    "import matplotlib.pyplot as plt\n",
    "import seaborn as sns\n",
    "sns.set_style(\"whitegrid\")\n",
    "sns.set_context(\"poster\")"
   ]
  },
  {
   "cell_type": "markdown",
   "id": "b0a4f46a-6a16-4b2c-96d0-ff21cb7f7d3c",
   "metadata": {},
   "source": [
    "Load the dataset\n",
    "- Import the Online Retail-12-2010.csv file into a pandas dataframe\n",
    "- Parse the date columns using the parse_dates argument"
   ]
  },
  {
   "cell_type": "code",
   "execution_count": null,
   "id": "f06a6f82-c2f2-4488-b691-0d2f343e89ec",
   "metadata": {},
   "outputs": [],
   "source": [
    "retail = pd.read_csv('../datasets/Online Retail-12-2010.csv', parse_dates=['InvoiceDate'])"
   ]
  },
  {
   "cell_type": "code",
   "execution_count": null,
   "id": "09c6cef6-bb85-4649-81c1-bed7ce45b362",
   "metadata": {},
   "outputs": [],
   "source": [
    "retail.head()"
   ]
  },
  {
   "cell_type": "code",
   "execution_count": null,
   "id": "7d803ecb-f9b8-447c-821a-634b2e3d53bc",
   "metadata": {},
   "outputs": [],
   "source": [
    "retail.dtypes"
   ]
  },
  {
   "cell_type": "code",
   "execution_count": null,
   "id": "c51eb722-627e-4926-8441-2ee4f31f187b",
   "metadata": {},
   "outputs": [],
   "source": [
    "retail.shape"
   ]
  },
  {
   "cell_type": "markdown",
   "id": "d507228a-7ee3-485f-abb9-f86792c325d9",
   "metadata": {},
   "source": [
    "Data Preparation\n",
    "\n",
    "Convert \"CustomerID\" to \"object\" dtype"
   ]
  },
  {
   "cell_type": "code",
   "execution_count": null,
   "id": "1fe4c7ad-4022-446e-a7a0-bcb0f27f47a3",
   "metadata": {},
   "outputs": [],
   "source": [
    "retail['CustomerID'] = retail['CustomerID'].astype(object)"
   ]
  },
  {
   "cell_type": "code",
   "execution_count": null,
   "id": "5e0b55ad-aca0-4f30-8a47-1222fb9a7de7",
   "metadata": {},
   "outputs": [],
   "source": [
    "retail.dtypes"
   ]
  },
  {
   "cell_type": "markdown",
   "id": "af2b3490-1417-4858-b9a5-433c7cd636df",
   "metadata": {},
   "source": [
    "Remove the rows without customer IDs"
   ]
  },
  {
   "cell_type": "markdown",
   "id": "8092522b-291a-4f02-9a9c-34dd9b2847b8",
   "metadata": {},
   "source": [
    "Check how many CustomerID's are null"
   ]
  },
  {
   "cell_type": "code",
   "execution_count": null,
   "id": "ab256698-3776-49f4-a3a4-6ef9627dade1",
   "metadata": {},
   "outputs": [],
   "source": [
    "retail.CustomerID.isnull().value_counts()"
   ]
  },
  {
   "cell_type": "markdown",
   "id": "f59397a1-9311-4f61-b262-7fe51ca23ab1",
   "metadata": {},
   "source": [
    "Remove the Null CustomerIDs"
   ]
  },
  {
   "cell_type": "code",
   "execution_count": null,
   "id": "8a0147e1-7eb4-4091-aacd-3991fa1a7169",
   "metadata": {},
   "outputs": [],
   "source": [
    "retail.dropna(subset=['CustomerID'], axis=0, inplace=True)"
   ]
  },
  {
   "cell_type": "code",
   "execution_count": null,
   "id": "9fd088f5-d3e0-49db-aacd-1c11f487b9e9",
   "metadata": {},
   "outputs": [],
   "source": [
    "retail.shape"
   ]
  },
  {
   "cell_type": "code",
   "execution_count": null,
   "id": "66d36c20-ec88-453a-8397-00f5029eb300",
   "metadata": {},
   "outputs": [],
   "source": [
    "retail.head()"
   ]
  },
  {
   "cell_type": "markdown",
   "id": "b85ffb14-8ff4-4490-88bb-54526d013cf9",
   "metadata": {},
   "source": [
    "Engineer/Create Features"
   ]
  },
  {
   "cell_type": "markdown",
   "id": "13eabb1e-97d0-46bf-a163-541ad6f56ecc",
   "metadata": {},
   "source": [
    "*Amount*\n",
    "\n",
    "Calculate the Amount from Existing Features\n",
    "Amount = Quantity * UnitPrice"
   ]
  },
  {
   "cell_type": "code",
   "execution_count": null,
   "id": "d8d0b32a-ffaf-454f-8f5d-3c3a19416b48",
   "metadata": {},
   "outputs": [],
   "source": [
    "retail['Amount'] = retail['Quantity'] * retail['UnitPrice']\n",
    "retail.head()"
   ]
  },
  {
   "cell_type": "markdown",
   "id": "33b68aa9-4073-4989-b8d0-a1f9f3b641bf",
   "metadata": {},
   "source": [
    "Extracting Date Time Features"
   ]
  },
  {
   "cell_type": "markdown",
   "id": "ca9f2352-37bf-40f6-b387-b7eaa9527c1b",
   "metadata": {},
   "source": [
    "*Hour*"
   ]
  },
  {
   "cell_type": "code",
   "execution_count": null,
   "id": "97537435-a54d-49b6-a16a-7f2c91095bad",
   "metadata": {},
   "outputs": [],
   "source": [
    "retail['Hour'] = retail['InvoiceDate'].dt.hour\n",
    "retail.head()"
   ]
  },
  {
   "cell_type": "markdown",
   "id": "7a0449d0-139b-416b-b95b-2b0cca4de37a",
   "metadata": {},
   "source": [
    "*Weekday (Name)*"
   ]
  },
  {
   "cell_type": "code",
   "execution_count": null,
   "id": "adc9fb88-4ddb-459a-93ee-f66a20fbdc09",
   "metadata": {},
   "outputs": [],
   "source": [
    "#retail['Day_Name'] = retail['InvoiceDate'].dt.weekday_name\n",
    "retail['Day_Name'] = retail['InvoiceDate'].dt.day_name()\n",
    "retail.head()"
   ]
  },
  {
   "cell_type": "markdown",
   "id": "b2d56dea-1c03-489c-81a4-56513cca85ae",
   "metadata": {},
   "source": [
    "*Weekday (Number)*\n",
    "\n",
    "Gets the Day of the week in numerical form. Will help us Identify if it is a weekday or a weekend.\n",
    "\n",
    "The day of the week with Monday=0, Sunday=6"
   ]
  },
  {
   "cell_type": "code",
   "execution_count": null,
   "id": "eeface96-0d24-4021-b4f3-2e7bdbf8b86b",
   "metadata": {},
   "outputs": [],
   "source": [
    "retail['Day_Number'] = retail['InvoiceDate'].dt.weekday\n",
    "retail.head()"
   ]
  },
  {
   "cell_type": "markdown",
   "id": "1b338244-b51e-4293-9d4e-90300694202d",
   "metadata": {},
   "source": [
    "Allows us to generate better features, such as the \"Is_Weekend Feature\""
   ]
  },
  {
   "cell_type": "code",
   "execution_count": null,
   "id": "ca8e1977-9aa8-4f4e-a63a-dc5fcda3c159",
   "metadata": {},
   "outputs": [],
   "source": [
    "#Use the Weekday Feature to generate a binary feature to Identify a Weekend\n",
    "retail['Is_Weekend'] = np.where(retail['Day_Number']>=5, 1, 0)\n",
    "\n",
    "retail.head()"
   ]
  },
  {
   "cell_type": "markdown",
   "id": "5b8f4850-5661-42e0-a94c-e7d80b762afc",
   "metadata": {},
   "source": [
    "Analyzing the data"
   ]
  },
  {
   "cell_type": "code",
   "execution_count": null,
   "id": "6c465b9d-07d2-4254-abf2-0bb3630f7244",
   "metadata": {},
   "outputs": [],
   "source": [
    "# What is the total amount sold?\n",
    "retail.Amount.sum()"
   ]
  },
  {
   "cell_type": "code",
   "execution_count": null,
   "id": "85ac7d01-f603-4699-9758-969d146db70e",
   "metadata": {},
   "outputs": [],
   "source": [
    "# What is the total quantity sold?\n",
    "retail.Quantity.sum()"
   ]
  },
  {
   "cell_type": "code",
   "execution_count": null,
   "id": "9e8ad271-328f-43ee-942e-017caaa55220",
   "metadata": {},
   "outputs": [],
   "source": [
    "# What is the total quantity sold for item with StockCode #: 10002\n",
    "retail[(retail.StockCode == \"10002\")].Quantity.sum()"
   ]
  },
  {
   "cell_type": "code",
   "execution_count": null,
   "id": "f8f0e2d3-eec6-4525-93e1-501e79e4238b",
   "metadata": {},
   "outputs": [],
   "source": [
    "# What time of day do they have the highest amount of sales\n",
    "sns.barplot(x=retail.Hour, y = retail.Amount, ci=0)"
   ]
  },
  {
   "cell_type": "markdown",
   "id": "838291a5-8bc5-47b8-8324-7ab6bbe7a193",
   "metadata": {},
   "source": [
    "Transform Data on a Per Customer Level"
   ]
  },
  {
   "cell_type": "code",
   "execution_count": null,
   "id": "9cc93603-8e70-44a4-9908-cddbb7996ced",
   "metadata": {},
   "outputs": [],
   "source": [
    "agg = {'InvoiceNo': 'nunique', # No. of Transactions\n",
    "      'Amount': 'sum', # Total Amount\n",
    "      'Quantity':'sum',\n",
    "      'Country':'first',\n",
    "      'Hour':['min','max'],\n",
    "      'Day_Name':'max'}\n",
    "\n",
    "\n",
    "customer_df = retail.groupby([\"CustomerID\"], as_index=False).agg(agg)"
   ]
  },
  {
   "cell_type": "code",
   "execution_count": null,
   "id": "d85f0060-55d4-4e13-a67c-bc1b7f154ed1",
   "metadata": {},
   "outputs": [],
   "source": [
    "customer_df.head()"
   ]
  },
  {
   "cell_type": "code",
   "execution_count": null,
   "id": "17810c6f-624a-4b68-a727-8fe88a95bd26",
   "metadata": {},
   "outputs": [],
   "source": [
    "customer_df.columns"
   ]
  },
  {
   "cell_type": "code",
   "execution_count": null,
   "id": "0bf15f8f-2d3e-4f8c-9cec-f8e19618bce0",
   "metadata": {},
   "outputs": [],
   "source": [
    "column_names = ['CustomerID','No_Transactions','Total_Amount','Total_Quantity','Country','Hour_Min','Hour_Max','Day_Max']\n",
    "\n",
    "customer_df.columns = column_names"
   ]
  },
  {
   "cell_type": "code",
   "execution_count": null,
   "id": "6017e3dc-6a72-4a07-b7a5-7b502a9376a4",
   "metadata": {},
   "outputs": [],
   "source": [
    "customer_df.head()"
   ]
  },
  {
   "cell_type": "code",
   "execution_count": null,
   "id": "fdeef86d-3095-4795-8b2e-7b72db5ec39f",
   "metadata": {},
   "outputs": [],
   "source": [
    "customer_df.Country.value_counts"
   ]
  }
 ],
 "metadata": {
  "kernelspec": {
   "display_name": "Python 3 (ipykernel)",
   "language": "python",
   "name": "python3"
  },
  "language_info": {
   "codemirror_mode": {
    "name": "ipython",
    "version": 3
   },
   "file_extension": ".py",
   "mimetype": "text/x-python",
   "name": "python",
   "nbconvert_exporter": "python",
   "pygments_lexer": "ipython3",
   "version": "3.11.5"
  }
 },
 "nbformat": 4,
 "nbformat_minor": 5
}
