{
 "cells": [
  {
   "cell_type": "markdown",
   "id": "80d145f3-ebd3-4411-b223-7d5c03cd1375",
   "metadata": {},
   "source": [
    "### Feature Selection "
   ]
  },
  {
   "cell_type": "markdown",
   "id": "5e102f05-ded4-4a65-8565-cea87e39ab8e",
   "metadata": {},
   "source": [
    "Dataset: Ad-data_prep.csv"
   ]
  },
  {
   "cell_type": "markdown",
   "id": "45505b83-2f9f-4721-88e9-91ae2ca77b7f",
   "metadata": {},
   "source": [
    "Import libraries"
   ]
  },
  {
   "cell_type": "code",
   "execution_count": null,
   "id": "40008597-b865-4e0b-9876-73e9ff2bb1ce",
   "metadata": {},
   "outputs": [],
   "source": [
    "import pandas as pd\n",
    "import matplotlib.pyplot as plt\n",
    "import seaborn as sns\n",
    "import numpy as np\n",
    "\n",
    "%matplotlib inline"
   ]
  },
  {
   "cell_type": "code",
   "execution_count": null,
   "id": "47aebb23-c11c-4c27-b02b-0a0da4637ca8",
   "metadata": {},
   "outputs": [],
   "source": [
    "# Set Options for display\n",
    "pd.options.display.max_rows = 100\n",
    "pd.options.display.max_columns = 100\n",
    "pd.options.display.float_format = '{:.2f}'.format"
   ]
  },
  {
   "cell_type": "markdown",
   "id": "ff93b3f7-b705-4b63-866f-5d03e6f81e24",
   "metadata": {},
   "source": [
    "Load the dataset"
   ]
  },
  {
   "cell_type": "code",
   "execution_count": null,
   "id": "82da8167-764b-4650-844d-b181f1c1866a",
   "metadata": {},
   "outputs": [],
   "source": [
    "df = pd.read_csv(\"../datasets/Ad-data_prep.csv\", index_col = 0)"
   ]
  },
  {
   "cell_type": "code",
   "execution_count": null,
   "id": "56e5372e-3c21-41fb-a7e5-3e6d62d6c39a",
   "metadata": {},
   "outputs": [],
   "source": [
    "df.head()"
   ]
  },
  {
   "cell_type": "code",
   "execution_count": null,
   "id": "6b6d4dcb-b652-4c50-a36a-a3de926b84b2",
   "metadata": {},
   "outputs": [],
   "source": [
    "df.shape"
   ]
  },
  {
   "cell_type": "markdown",
   "id": "c49fb40e-99d5-4f19-a573-b45f5e30553a",
   "metadata": {},
   "source": [
    "Separate Features from Target"
   ]
  },
  {
   "cell_type": "code",
   "execution_count": null,
   "id": "a7090967-ebe4-45d2-ad8e-90d920f8779c",
   "metadata": {},
   "outputs": [],
   "source": [
    "features = df.drop([\"clicks\",\"clicks_log\"], axis=1)\n",
    "target = df[[\"clicks\",\"clicks_log\"]]"
   ]
  },
  {
   "cell_type": "markdown",
   "id": "3da716dd-e679-4545-bde0-4d5f817df696",
   "metadata": {},
   "source": [
    "Feature Selection: Low Variance Filter"
   ]
  },
  {
   "cell_type": "code",
   "execution_count": null,
   "id": "249fd575-5372-4d1d-bafc-9a9449405bcd",
   "metadata": {},
   "outputs": [],
   "source": [
    "# Compute the variance and sort\n",
    "features.var().sort_values()[:60]"
   ]
  },
  {
   "cell_type": "code",
   "execution_count": null,
   "id": "2d50531d-5f08-4cb3-9fd3-bdb46d73e258",
   "metadata": {},
   "outputs": [],
   "source": [
    "# Import the VarianceThreshold Function\n",
    "from sklearn.feature_selection import VarianceThreshold"
   ]
  },
  {
   "cell_type": "code",
   "execution_count": null,
   "id": "73831f32-c942-45f3-8783-64361ca50db4",
   "metadata": {},
   "outputs": [],
   "source": [
    "# Instantiate the Function and Set the Threshold\n",
    "selector = VarianceThreshold(0.01)"
   ]
  },
  {
   "cell_type": "code",
   "execution_count": null,
   "id": "de31199c-deff-474f-b8ae-f8aaeba5a8c9",
   "metadata": {},
   "outputs": [],
   "source": [
    "# Apply the Function to filter out the Low Variance Columns/Features\n",
    "\n",
    "filtered_data = selector.fit_transform(features)\n",
    "\n",
    "\n",
    "filtered_features = pd.DataFrame(filtered_data, index=features.index)"
   ]
  },
  {
   "cell_type": "code",
   "execution_count": null,
   "id": "78e5df63-e30f-426a-bed4-83ccddaab602",
   "metadata": {},
   "outputs": [],
   "source": [
    "features.shape"
   ]
  },
  {
   "cell_type": "code",
   "execution_count": null,
   "id": "20c457b6-2bd8-4812-a769-b84d40af9adf",
   "metadata": {},
   "outputs": [],
   "source": [
    "filtered_data.shape"
   ]
  },
  {
   "cell_type": "code",
   "execution_count": null,
   "id": "e33bcab8-7730-43a4-b48e-b320df3a0936",
   "metadata": {},
   "outputs": [],
   "source": [
    "# Note, the DataFrame Created has no Column Names\n",
    "filtered_features.head()"
   ]
  },
  {
   "cell_type": "code",
   "execution_count": null,
   "id": "0f2966ea-2004-4814-8afe-c040f1e8fb73",
   "metadata": {},
   "outputs": [],
   "source": [
    "# Use this attribute to get Column Names\n",
    "selected = selector.get_support()\n",
    "\n",
    "# Rename the columns\n",
    "filtered_features.columns = features.columns[selected]"
   ]
  },
  {
   "cell_type": "code",
   "execution_count": null,
   "id": "30c831cb-4444-428a-bd4b-b432a5ede3a2",
   "metadata": {},
   "outputs": [],
   "source": [
    "features.columns"
   ]
  },
  {
   "cell_type": "code",
   "execution_count": null,
   "id": "c7fd64da-a1b1-4c6e-8238-62c8d12ad98e",
   "metadata": {},
   "outputs": [],
   "source": [
    "filtered_features.head()"
   ]
  },
  {
   "cell_type": "code",
   "execution_count": null,
   "id": "d9a601ab-e14f-4c06-b320-6d96be2852e0",
   "metadata": {},
   "outputs": [],
   "source": [
    "filtered_features.var().sort_values().head()"
   ]
  },
  {
   "cell_type": "code",
   "execution_count": null,
   "id": "4bad119a-8103-4ff4-9512-724b170a5853",
   "metadata": {},
   "outputs": [],
   "source": [
    "# Compare previous vs current number of Features\n",
    "print(\"No. of Features (Original): %i\" %len(features.columns))\n",
    "print(\"No. of Features (Variance Filter): %i\" %len(filtered_features.columns))"
   ]
  },
  {
   "cell_type": "markdown",
   "id": "10a3a2c5-3c44-4b28-b92e-db0edd573a8c",
   "metadata": {},
   "source": [
    "Feature Selection: High Correlation (Multicollinearity) Filter"
   ]
  },
  {
   "cell_type": "markdown",
   "id": "af44f574-7bd6-445e-aaab-2e3d88462b80",
   "metadata": {},
   "source": [
    "Correlation Filter Function"
   ]
  },
  {
   "cell_type": "code",
   "execution_count": null,
   "id": "6a75a9fd-7def-437c-a5ec-450771f86540",
   "metadata": {},
   "outputs": [],
   "source": [
    "# Create correlation matrix\n",
    "corr_matrix = filtered_features.corr().abs()"
   ]
  },
  {
   "cell_type": "code",
   "execution_count": null,
   "id": "be3e04d2-c616-47d8-a845-43e9d8adeaf0",
   "metadata": {},
   "outputs": [],
   "source": [
    "# Select upper triangle of correlation matrix\n",
    "upper = corr_matrix.where(np.triu(np.ones(corr_matrix.shape), k=1).astype('bool'))"
   ]
  },
  {
   "cell_type": "code",
   "execution_count": null,
   "id": "9ced4f63-a4c8-41db-8cf4-c6205bb2e3a2",
   "metadata": {},
   "outputs": [],
   "source": [
    "# Set the threshold\n",
    "threshold = 0.90"
   ]
  },
  {
   "cell_type": "code",
   "execution_count": null,
   "id": "dbf09a73-3b19-44ef-b780-5355d3eaf103",
   "metadata": {},
   "outputs": [],
   "source": [
    "# Find index of feature columns with correlation greater than threshold\n",
    "to_drop = [column for column in upper.columns if any(upper[column] > threshold)]"
   ]
  },
  {
   "cell_type": "code",
   "execution_count": null,
   "id": "7321b94a-b077-42fe-b5b5-135ea06cc9ba",
   "metadata": {},
   "outputs": [],
   "source": [
    "# View Features to Drop\n",
    "to_drop"
   ]
  },
  {
   "cell_type": "code",
   "execution_count": null,
   "id": "5adba698-6b77-4449-a876-7a4c4d65e560",
   "metadata": {},
   "outputs": [],
   "source": [
    "len(to_drop)"
   ]
  },
  {
   "cell_type": "code",
   "execution_count": null,
   "id": "dd45604f-c885-412e-81f4-c48fd03d2151",
   "metadata": {},
   "outputs": [],
   "source": [
    "# Drop Features\n",
    "filtered_features_2 = filtered_features.drop(to_drop, axis=1)"
   ]
  },
  {
   "cell_type": "code",
   "execution_count": null,
   "id": "7afe8742-1795-466c-be73-3604206713fc",
   "metadata": {},
   "outputs": [],
   "source": [
    "# Compare previous vs current number of Features\n",
    "print(\"No. of Features (Original): %i\" %len(features.columns))\n",
    "print(\"No. of Features (Variance Filter): %i\" %len(filtered_features.columns))\n",
    "print(\"No. of Features (Correlation Filter): %i\" %len(filtered_features_2.columns))"
   ]
  },
  {
   "cell_type": "markdown",
   "id": "53d673eb-c3a3-453c-b750-66954d295bb4",
   "metadata": {},
   "source": [
    "Custom Function"
   ]
  },
  {
   "cell_type": "code",
   "execution_count": null,
   "id": "e90d9d6d-80de-4fa5-a6be-938b93d759ef",
   "metadata": {},
   "outputs": [],
   "source": [
    "def correlation_filter(df,threshold):\n",
    "    # Create correlation matrix\n",
    "    corr_matrix = df.corr().abs()\n",
    "    \n",
    "    # Select upper triangle of correlation matrix\n",
    "    upper = corr_matrix.where(np.triu(np.ones(corr_matrix.shape), k=1).astype('bool'))\n",
    "    \n",
    "    # Find index of feature columns with correlation greater than threshold\n",
    "    to_drop = [column for column in upper.columns if any(upper[column] > threshold)]\n",
    "    \n",
    "    return to_drop"
   ]
  },
  {
   "cell_type": "code",
   "execution_count": null,
   "id": "7f98c5eb-cecd-4956-8e0a-62b3b6b7dac2",
   "metadata": {},
   "outputs": [],
   "source": [
    "# Test the function\n",
    "function_test = correlation_filter(filtered_features,threshold)"
   ]
  },
  {
   "cell_type": "code",
   "execution_count": null,
   "id": "ebc3f48a-93ea-480d-bfcd-df2c0d9a1b6c",
   "metadata": {},
   "outputs": [],
   "source": [
    "len(function_test)"
   ]
  },
  {
   "cell_type": "code",
   "execution_count": null,
   "id": "d3a6dcfd-b948-4849-8e1e-514111781e23",
   "metadata": {},
   "outputs": [],
   "source": [
    "function_test"
   ]
  },
  {
   "cell_type": "markdown",
   "id": "fa2aa241-f3bd-4e50-8791-4b76a069add8",
   "metadata": {},
   "source": [
    "Verification"
   ]
  },
  {
   "cell_type": "code",
   "execution_count": null,
   "id": "2d2c4aaa-fad8-4919-9284-bbc94a21b431",
   "metadata": {},
   "outputs": [],
   "source": [
    "# Print out top correlated features\n",
    "\n",
    "# Reshape the Matrix\n",
    "correlated = corr_matrix.unstack()\n",
    "\n",
    "# Reset Index from Multi-index to single index\n",
    "correlated = correlated.reset_index(level=0).reset_index()\n",
    "\n",
    "# Rename Columns\n",
    "correlated.columns = [\"Feature1\", \"Feature2\", \"Correlation\"]\n",
    "\n",
    "# Sort by Correlation Value\n",
    "corr_sorted = correlated.sort_values(\"Correlation\", ascending=False)"
   ]
  },
  {
   "cell_type": "code",
   "execution_count": null,
   "id": "a1c8f28d-6ddc-4df6-b380-cbebd865874a",
   "metadata": {},
   "outputs": [],
   "source": [
    "correlated.head()"
   ]
  },
  {
   "cell_type": "code",
   "execution_count": null,
   "id": "bba7cab3-31d5-4f68-9116-3215118d9a17",
   "metadata": {},
   "outputs": [],
   "source": [
    "# Remove Self-Correlated Rows\n",
    "corr_sorted_pairs = corr_sorted[corr_sorted['Feature1'].values != corr_sorted['Feature2'].values]"
   ]
  },
  {
   "cell_type": "code",
   "execution_count": null,
   "id": "8e3ddc32-8ff9-410b-a2e6-4af8969d977a",
   "metadata": {},
   "outputs": [],
   "source": [
    "# Reset Index to easily filter out duplicate rows\n",
    "corr_sorted_pairs.reset_index(drop=True,inplace=True)"
   ]
  },
  {
   "cell_type": "code",
   "execution_count": null,
   "id": "638940d6-ecb8-48b6-b19d-d7e913327aa4",
   "metadata": {},
   "outputs": [],
   "source": [
    "# Skip Odd Rows to Retain only 1 pair combination\n",
    "corr_sorted_final = corr_sorted_pairs.iloc[::2]"
   ]
  },
  {
   "cell_type": "code",
   "execution_count": null,
   "id": "d00d76d3-2d76-4184-bf67-457bf5a4a037",
   "metadata": {},
   "outputs": [],
   "source": [
    "corr_sorted_final.Feature1.nunique()"
   ]
  },
  {
   "cell_type": "code",
   "execution_count": null,
   "id": "d8a854c7-3444-4a5b-8060-bfff602df19e",
   "metadata": {},
   "outputs": [],
   "source": [
    "# Select rows based on threshold\n",
    "corr_sorted_final_ver = corr_sorted_final[corr_sorted_final.Correlation > threshold]"
   ]
  },
  {
   "cell_type": "code",
   "execution_count": null,
   "id": "0e5bd2bd-d2df-4611-b60f-3ff0be6b6a84",
   "metadata": {},
   "outputs": [],
   "source": [
    "corr_sorted_final_ver"
   ]
  },
  {
   "cell_type": "code",
   "execution_count": null,
   "id": "ecddb35b-7d94-45f2-b104-313d5fd07c96",
   "metadata": {},
   "outputs": [],
   "source": [
    "to_drop"
   ]
  },
  {
   "cell_type": "markdown",
   "id": "473db585-7aef-4a48-82d8-572693ba56f9",
   "metadata": {},
   "source": [
    "View the final file and save to csv"
   ]
  },
  {
   "cell_type": "code",
   "execution_count": null,
   "id": "c8e975df-2dbc-4b6d-856b-7b156d9a8f15",
   "metadata": {},
   "outputs": [],
   "source": [
    "# Compare previous vs current number of Features\n",
    "print(\"No. of Features (Original): %i\" %len(features.columns))\n",
    "print(\"No. of Features (Variance Filter): %i\" %len(filtered_features.columns))\n",
    "print(\"No. of Features (Correlation Filter): %i\" %len(filtered_features_2.columns))"
   ]
  },
  {
   "cell_type": "code",
   "execution_count": null,
   "id": "1126ab4c-9e1a-462c-9a9b-aee32642dad5",
   "metadata": {},
   "outputs": [],
   "source": [
    "df_final = filtered_features_2.join(target)"
   ]
  },
  {
   "cell_type": "code",
   "execution_count": null,
   "id": "a009f3d6-821b-45a6-839c-e24dcea0d419",
   "metadata": {},
   "outputs": [],
   "source": [
    "df_final.shape"
   ]
  },
  {
   "cell_type": "code",
   "execution_count": null,
   "id": "e45925c8-a4b6-423c-b0aa-c901f71a19fe",
   "metadata": {},
   "outputs": [],
   "source": [
    "df_final.head()"
   ]
  }
 ],
 "metadata": {
  "kernelspec": {
   "display_name": "Python 3 (ipykernel)",
   "language": "python",
   "name": "python3"
  },
  "language_info": {
   "codemirror_mode": {
    "name": "ipython",
    "version": 3
   },
   "file_extension": ".py",
   "mimetype": "text/x-python",
   "name": "python",
   "nbconvert_exporter": "python",
   "pygments_lexer": "ipython3",
   "version": "3.11.5"
  }
 },
 "nbformat": 4,
 "nbformat_minor": 5
}
