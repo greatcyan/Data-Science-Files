{
 "cells": [
  {
   "cell_type": "markdown",
   "id": "8dcd24b8-5dc7-41ad-802f-35eb8fe095ba",
   "metadata": {},
   "source": [
    "# Object Oriented Programming\n",
    "\n",
    "As a modern programming language, python features object oriented programming features. While OOP is a broad and deep domain, we will be introduced to its concepts in this discussion.\n",
    "\n",
    "One of the main philosophies of OOP is the concept of encapsulation and data hiding. OOP achieves these concepts through classes. Classes are able to encapsulate data and code through attributes and methods. Lets look at an example of a class.\n",
    "\n",
    "## Methods\n",
    "\n",
    "Methods are functions inside class definitions. A class' method can only be invoked with respect to the class that owns it."
   ]
  },
  {
   "cell_type": "code",
   "execution_count": 2,
   "id": "ba816940-00ac-459a-8ec9-6c6fffec3f35",
   "metadata": {},
   "outputs": [],
   "source": [
    "class ExampleClass:\n",
    "    def exampleMethod(self):\n",
    "        print('this is an example method')"
   ]
  },
  {
   "cell_type": "markdown",
   "id": "45797fac-2db9-44e4-8f46-54ca4a7e32c5",
   "metadata": {},
   "source": [
    "This class is called `ExampleClass` and it contains one method called `exampleMethod()`. In the example below we can see how `exampleMethod()` is called with respect to `ExampleClass`"
   ]
  },
  {
   "cell_type": "code",
   "execution_count": 4,
   "id": "41480b05-03b9-4f8b-a137-0246b8fd91c2",
   "metadata": {},
   "outputs": [
    {
     "name": "stdout",
     "output_type": "stream",
     "text": [
      "this is an example method\n"
     ]
    }
   ],
   "source": [
    "inst = ExampleClass()\n",
    "\n",
    "inst.exampleMethod()"
   ]
  },
  {
   "cell_type": "markdown",
   "id": "9cf3639f-7451-49e1-b8cc-c88ef1d40c03",
   "metadata": {},
   "source": [
    "In the example above we create an **instance**/**object** of `ExampleClass` called `objectInstance`. In the same way `3` is an instance of `int` and `'word'` is an instance of `str`, the variable `inst` is an instance of `ExamnpleClass()`.\n",
    "\n",
    "> Creating an instance of a class is also known as instantiation\n",
    "\n",
    "With an instance of `ExampleClass()` we can invoke its method `exampleMethod()` using dot notation: `inst.exampleMethod()`.\n",
    "\n",
    "In the definition of `exampleMethod()` note that we pass a parameter called `self` but we dont pass an argument during invokation. In an instance's method, the first parameter defined (in this case `self`) is a reference to the instance itself. When invoking said method, the instance is passed by default through dot reference so we dont pass it as an argument. You'll see a clearer example of this later."
   ]
  },
  {
   "cell_type": "markdown",
   "id": "7217443e-7e50-4543-b804-a2e3b5cd1e0d",
   "metadata": {},
   "source": [
    "## Attributes\n",
    "\n",
    "Attributes are variables associated to a class. We use attributes to encapsulate and hide data within classes. To create attributes associated to an object instance, we must define a special python methods called `__init__()`."
   ]
  },
  {
   "cell_type": "code",
   "execution_count": 5,
   "id": "29eb486c-329b-45cb-a310-c6535402e72b",
   "metadata": {},
   "outputs": [],
   "source": [
    "class ExampleClass2:\n",
    "    def __init__(self):\n",
    "        self.attr1 = 6\n",
    "        self.attr2 = 'word'\n",
    "        localVar = 5\n",
    "        \n",
    "    def exampleMethod(self):\n",
    "        print('this is an example method')"
   ]
  },
  {
   "cell_type": "markdown",
   "id": "f3fea362-dc4a-43f9-86e7-7311d7c28a22",
   "metadata": {},
   "source": [
    "In the example above we create two attributes inside `ExampleClass2`: `attr1`, and `attr2`. An attribute is created by creating an assignment associated to the object instance `self`. This is also done using dot notation (e.g. `self.attr = 6`)"
   ]
  },
  {
   "cell_type": "code",
   "execution_count": 7,
   "id": "0427bb96-53f5-4968-9b86-b96ffccc0012",
   "metadata": {},
   "outputs": [
    {
     "name": "stdout",
     "output_type": "stream",
     "text": [
      "6\n",
      "word\n"
     ]
    }
   ],
   "source": [
    "inst2 = ExampleClass2()\n",
    "\n",
    "print(inst2.attr1)\n",
    "print(inst2.attr2)"
   ]
  },
  {
   "cell_type": "markdown",
   "id": "140ffcd9-4736-4daf-81b3-01a98ce8b3f8",
   "metadata": {},
   "source": [
    "Note that even though `lovalVar` is created inside the `__init__()` function, it will not be associated to the instance/class. This is because we did not use the dot notation to create the assignment. A variable such as this will only be a local variable of the `__init_()` function (usable only within the definition of `__init__()`)"
   ]
  },
  {
   "cell_type": "code",
   "execution_count": 8,
   "id": "4ebf11b7-f54a-466e-b50d-00090f63b702",
   "metadata": {},
   "outputs": [
    {
     "ename": "AttributeError",
     "evalue": "'ExampleClass2' object has no attribute 'localVar'",
     "output_type": "error",
     "traceback": [
      "\u001b[1;31m---------------------------------------------------------------------------\u001b[0m",
      "\u001b[1;31mAttributeError\u001b[0m                            Traceback (most recent call last)",
      "Cell \u001b[1;32mIn[8], line 1\u001b[0m\n\u001b[1;32m----> 1\u001b[0m \u001b[38;5;28mprint\u001b[39m(\u001b[43minst2\u001b[49m\u001b[38;5;241;43m.\u001b[39;49m\u001b[43mlocalVar\u001b[49m)\n",
      "\u001b[1;31mAttributeError\u001b[0m: 'ExampleClass2' object has no attribute 'localVar'"
     ]
    }
   ],
   "source": [
    "print(inst2.localVar)"
   ]
  },
  {
   "cell_type": "markdown",
   "id": "b8b225be-d631-42f2-b902-6901ee8765d5",
   "metadata": {},
   "source": [
    "When you create an instance of a class (e.g. `inst2.ExampleClass2()`) you are actually calling the `__init__()` function associated to that class. The `__init__()` function is called to initialize/prepare the attributes of the instance. The `__init__()` function can also defined with paramters. This allows us to create unique instances of a class."
   ]
  },
  {
   "cell_type": "code",
   "execution_count": 22,
   "id": "e9b1afd4-a37e-4b27-8724-7ba4519fcbea",
   "metadata": {},
   "outputs": [],
   "source": [
    "class Fraction:\n",
    "    def __init__(self, num, denom):\n",
    "        self.numerator = num\n",
    "        self.denominator = denom\n",
    "\n",
    "    def product(self,frac):\n",
    "        sum = Fraction(self.numerator * frac.numerator, self.denominator * frac.denominator)\n",
    "        return sum"
   ]
  },
  {
   "cell_type": "code",
   "execution_count": 23,
   "id": "ba51c71e-57c5-4672-be3b-2878e58f2228",
   "metadata": {},
   "outputs": [
    {
     "name": "stdout",
     "output_type": "stream",
     "text": [
      "1/2\n",
      "3/4\n",
      "3/8\n"
     ]
    }
   ],
   "source": [
    "frac1 = Fraction(1,2)\n",
    "frac2 = Fraction(3,4)\n",
    "\n",
    "print(str(frac1.numerator) + '/' + str(frac1.denominator))\n",
    "print(str(frac2.numerator) + '/' + str(frac2.denominator))\n",
    "\n",
    "frac3 =  frac1.product(frac2)\n",
    "\n",
    "print(str(frac3.numerator) + '/' + str(frac3.denominator))"
   ]
  },
  {
   "cell_type": "markdown",
   "id": "19891c29-9e3f-4301-9d25-31f439aaf5cc",
   "metadata": {},
   "source": [
    "In the example above we can see how we have two instances of fraction (`frac1` and `frac2`). These instances have their own associated attributes called `numerator` and `denominator`. "
   ]
  },
  {
   "cell_type": "markdown",
   "id": "df77e21e-d7b3-4b9f-a296-27b118efdd11",
   "metadata": {},
   "source": [
    "Just like any variable an attribute can be modified through reassignment"
   ]
  },
  {
   "cell_type": "code",
   "execution_count": 24,
   "id": "78b59809-b303-4454-89a1-e345bccfb497",
   "metadata": {},
   "outputs": [
    {
     "name": "stdout",
     "output_type": "stream",
     "text": [
      "2/2\n"
     ]
    }
   ],
   "source": [
    "frac1.numerator = 2\n",
    "\n",
    "print(str(frac1.numerator) + '/' + str(frac1.denominator))"
   ]
  },
  {
   "cell_type": "markdown",
   "id": "cde8d75d-e97d-4d6b-82bf-b9a337c85b8d",
   "metadata": {},
   "source": [
    "## Inheritance\n",
    "\n",
    "One important OOP concept is inheritance. Inheritance allows us to build classes from existing classes. A new class that is created through inheritance will **inherit** attributes and methods from another class."
   ]
  },
  {
   "cell_type": "code",
   "execution_count": 31,
   "id": "93962e67-6b92-4546-a67a-7db8a76ee47a",
   "metadata": {},
   "outputs": [],
   "source": [
    "class Class1:\n",
    "    def __init__(self, param1):\n",
    "        self.attr1 = param1\n",
    "\n",
    "    def method1(self):\n",
    "        print('I am an  instance of Class1 with the attribute' + str(self.attr1))\n",
    "\n",
    "class Class2(Class1):\n",
    "    def method2(self):\n",
    "        print('this is a specialized a method')"
   ]
  },
  {
   "cell_type": "code",
   "execution_count": 30,
   "id": "9dbfc1d7-952d-487f-be5f-5c79fd8537b7",
   "metadata": {},
   "outputs": [
    {
     "name": "stdout",
     "output_type": "stream",
     "text": [
      "I am an  instance of Class1 with the attribute3\n",
      "this is specialized a method\n"
     ]
    }
   ],
   "source": [
    "c2 = Class2(3)\n",
    "c2.method1()\n",
    "c2.method2()"
   ]
  },
  {
   "cell_type": "markdown",
   "id": "4bfcf702-d499-4d9c-ac8e-5e540d276aab",
   "metadata": {},
   "source": [
    "In the example above `Class2` is defined to inherit from `Class1` through the syntax (`class Class2(Class1):`). Even though `Class2` doesn't contain definitions of `method1()` amd `__init__()`, we can still said methods since they are automatically inherited by `Class2`. As you can see in this example ineheritance helps us reduce code duplication. We dont have to rewrite the inherited methods, we simply define an inheritance relationship. This also helps with maintainability since we only have one copy `method1()`. \n",
    "\n",
    "We can also inherit from multiple classes that inherit from other classes. Creating a hierarchal structure of class relationships:"
   ]
  },
  {
   "cell_type": "code",
   "execution_count": 32,
   "id": "32a4a0f6-2225-456e-ae2b-c7ce820c805f",
   "metadata": {},
   "outputs": [],
   "source": [
    "class Class3(Class2):\n",
    "    def method3(self):\n",
    "        print('this is an even more specialized method')"
   ]
  },
  {
   "cell_type": "code",
   "execution_count": 33,
   "id": "925db661-64e5-4974-9fea-523747af97db",
   "metadata": {},
   "outputs": [
    {
     "name": "stdout",
     "output_type": "stream",
     "text": [
      "I am an  instance of Class1 with the attribute3\n",
      "this is a specialized a method\n",
      "this is an even more specialized method\n"
     ]
    }
   ],
   "source": [
    "c3 = Class3(3)\n",
    "c3.method1()\n",
    "c3.method2()\n",
    "c3.method3()"
   ]
  },
  {
   "cell_type": "markdown",
   "id": "246c8956-c205-48eb-a4ff-bececec5f140",
   "metadata": {},
   "source": [
    "## Method overriding\n",
    "\n",
    "Sometimes an inheriting class (child) might need to modify an inherited (parent) method. To do this we simply redefine the inherited method with the same name. When said modified method is called it will invoke the child class' version of the method instead. In such scenario we the parent method is **overridden** by the child method."
   ]
  },
  {
   "cell_type": "code",
   "execution_count": 34,
   "id": "10b10e16-998c-4d2a-b4f6-fb058144f618",
   "metadata": {},
   "outputs": [],
   "source": [
    "class Class4(Class2):\n",
    "    def method2(self):\n",
    "        print('this specialized a method is OVERRIDDEN')"
   ]
  },
  {
   "cell_type": "code",
   "execution_count": 36,
   "id": "e7f6ab9b-f764-4e13-a0c0-d9addcc288e5",
   "metadata": {},
   "outputs": [
    {
     "name": "stdout",
     "output_type": "stream",
     "text": [
      "I am an  instance of Class1 with the attribute3\n",
      "this specialized a method is OVERRIDDEN\n"
     ]
    }
   ],
   "source": [
    "c4 = Class4(3)\n",
    "c4.method1()\n",
    "c4.method2()"
   ]
  },
  {
   "cell_type": "code",
   "execution_count": null,
   "id": "2050b6b4-43c7-4520-b07c-85196624ba29",
   "metadata": {},
   "outputs": [],
   "source": []
  }
 ],
 "metadata": {
  "kernelspec": {
   "display_name": "Python 3 (ipykernel)",
   "language": "python",
   "name": "python3"
  },
  "language_info": {
   "codemirror_mode": {
    "name": "ipython",
    "version": 3
   },
   "file_extension": ".py",
   "mimetype": "text/x-python",
   "name": "python",
   "nbconvert_exporter": "python",
   "pygments_lexer": "ipython3",
   "version": "3.12.3"
  }
 },
 "nbformat": 4,
 "nbformat_minor": 5
}
