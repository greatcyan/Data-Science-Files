{
 "cells": [
  {
   "cell_type": "markdown",
   "id": "19014411-bd3b-4617-b22b-f30b46060d79",
   "metadata": {},
   "source": [
    "# Trying to break python\n",
    "\n",
    "Write the following instructions as python code. Check the output of your code and answer the questions below it. Number zero is considered bonus item. Use it as an example. \n",
    "\n",
    "Try to experiment with your code beyond the instructions provided to investigate why it produces the outputs it produces."
   ]
  },
  {
   "cell_type": "markdown",
   "id": "593a0849-1574-48f6-94f1-5cb372ba4140",
   "metadata": {},
   "source": [
    "0. Create a variable called `del` and assign to it the value 7"
   ]
  },
  {
   "cell_type": "code",
   "execution_count": 2,
   "id": "41a4ec04-739e-4fe2-bf91-b817cbd5bfe0",
   "metadata": {},
   "outputs": [
    {
     "ename": "SyntaxError",
     "evalue": "invalid syntax (3682094425.py, line 2)",
     "output_type": "error",
     "traceback": [
      "\u001b[1;36m  Cell \u001b[1;32mIn[2], line 2\u001b[1;36m\u001b[0m\n\u001b[1;33m    del = 7\u001b[0m\n\u001b[1;37m        ^\u001b[0m\n\u001b[1;31mSyntaxError\u001b[0m\u001b[1;31m:\u001b[0m invalid syntax\n"
     ]
    }
   ],
   "source": [
    "#Write your code here\n",
    "del = 7"
   ]
  },
  {
   "cell_type": "raw",
   "id": "32361851-3fc9-4c7d-b7da-92c888daf3d0",
   "metadata": {},
   "source": [
    "a. What is the output of your code? did the code result in an error? What kind of error did it result it?\n",
    "There is no output. It caused a SyntaxError.\n",
    "b. Why do you think it produced the output it produced?\n",
    "del is a reserved keyword. The keyword is used to delete entries from lists and dictionaries. Naming variables with reserved words is not allowed. Because of this, the code resulted in a syntax error"
   ]
  },
  {
   "cell_type": "markdown",
   "id": "9252e268-3290-45fd-a923-064982997b49",
   "metadata": {},
   "source": [
    "1. Write the expression $12 \\div 0$ in python"
   ]
  },
  {
   "cell_type": "code",
   "execution_count": 1,
   "id": "34412ee5-f198-4731-9b8f-5720dbf36783",
   "metadata": {},
   "outputs": [
    {
     "ename": "ZeroDivisionError",
     "evalue": "division by zero",
     "output_type": "error",
     "traceback": [
      "\u001b[1;31m---------------------------------------------------------------------------\u001b[0m",
      "\u001b[1;31mZeroDivisionError\u001b[0m                         Traceback (most recent call last)",
      "Cell \u001b[1;32mIn[1], line 2\u001b[0m\n\u001b[0;32m      1\u001b[0m \u001b[38;5;66;03m#Write your code here\u001b[39;00m\n\u001b[1;32m----> 2\u001b[0m \u001b[38;5;241m12\u001b[39m\u001b[38;5;241m/\u001b[39m\u001b[38;5;241m0\u001b[39m\n",
      "\u001b[1;31mZeroDivisionError\u001b[0m: division by zero"
     ]
    }
   ],
   "source": [
    "#Write your code here\n",
    "12/0"
   ]
  },
  {
   "cell_type": "raw",
   "id": "0e2d5d1f-0b19-411a-b030-f334e673cc34",
   "metadata": {},
   "source": [
    "a. What is the output of your code? did the code result in an error? What kind of error did it result it?\n",
    "It caused a ZeroDivisionError: division by zero\n",
    "\n",
    "b. Why do you think it produced the output it produced?\n",
    "It is undefined operation. Any number divided by zero always result to zero.\n"
   ]
  },
  {
   "cell_type": "markdown",
   "id": "03f819de-8b96-4241-ba95-040a36fb6dcb",
   "metadata": {},
   "source": [
    "2. Write the expression $x + 10$ in python"
   ]
  },
  {
   "cell_type": "code",
   "execution_count": 3,
   "id": "e162d0f6-29c3-4d84-8c5e-80d77142630c",
   "metadata": {},
   "outputs": [
    {
     "ename": "NameError",
     "evalue": "name 'x' is not defined",
     "output_type": "error",
     "traceback": [
      "\u001b[1;31m---------------------------------------------------------------------------\u001b[0m",
      "\u001b[1;31mNameError\u001b[0m                                 Traceback (most recent call last)",
      "Cell \u001b[1;32mIn[3], line 2\u001b[0m\n\u001b[0;32m      1\u001b[0m \u001b[38;5;66;03m#Write your code here\u001b[39;00m\n\u001b[1;32m----> 2\u001b[0m x\u001b[38;5;241m+\u001b[39m\u001b[38;5;241m10\u001b[39m\n",
      "\u001b[1;31mNameError\u001b[0m: name 'x' is not defined"
     ]
    }
   ],
   "source": [
    "#Write your code here\n",
    "x+10"
   ]
  },
  {
   "cell_type": "raw",
   "id": "34842d09-13d7-404b-8b82-e60b62be84f6",
   "metadata": {},
   "source": [
    "a. What is the output of your code? did the code result in an error? What kind of error did it result it?\n",
    "The code caused a NameError.\n",
    "\n",
    "b. Why do you think it produced the output it produced?\n",
    "x is not defined or declared.\n"
   ]
  },
  {
   "cell_type": "markdown",
   "id": "3868d1a4-4059-4c68-89d9-d64b5697a123",
   "metadata": {},
   "source": [
    "3. Create a list of integers with the elements $1,2,3,4,5$. Add 5 to the element at position 6"
   ]
  },
  {
   "cell_type": "code",
   "execution_count": 3,
   "id": "676de74b-4536-4cc9-8af5-696ab0e62766",
   "metadata": {},
   "outputs": [
    {
     "ename": "IndexError",
     "evalue": "list index out of range",
     "output_type": "error",
     "traceback": [
      "\u001b[1;31m---------------------------------------------------------------------------\u001b[0m",
      "\u001b[1;31mIndexError\u001b[0m                                Traceback (most recent call last)",
      "Cell \u001b[1;32mIn[3], line 3\u001b[0m\n\u001b[0;32m      1\u001b[0m \u001b[38;5;66;03m#Write your code here\u001b[39;00m\n\u001b[0;32m      2\u001b[0m mylist \u001b[38;5;241m=\u001b[39m [\u001b[38;5;241m1\u001b[39m,\u001b[38;5;241m2\u001b[39m,\u001b[38;5;241m3\u001b[39m,\u001b[38;5;241m4\u001b[39m,\u001b[38;5;241m5\u001b[39m]\n\u001b[1;32m----> 3\u001b[0m mylist[\u001b[38;5;241m6\u001b[39m]\u001b[38;5;241m+\u001b[39m\u001b[38;5;241m5\u001b[39m\n",
      "\u001b[1;31mIndexError\u001b[0m: list index out of range"
     ]
    }
   ],
   "source": [
    "#Write your code here\n",
    "mylist = [1,2,3,4,5]\n",
    "mylist[6]+5"
   ]
  },
  {
   "cell_type": "raw",
   "id": "290dbbfd-0d07-4726-abaa-4fc380c115b9",
   "metadata": {},
   "source": [
    "a. What is the output of your code? did the code result in an error? What kind of error did it result it?\n",
    "The code caused an Index Error.\n",
    "\n",
    "\n",
    "b. Why do you think it produced the output it produced?\n",
    "There is no position 6 in the list."
   ]
  },
  {
   "cell_type": "markdown",
   "id": "39f5ae74-52d0-439a-a3ee-6d89d98e1697",
   "metadata": {},
   "source": [
    "4. Create a dictionary with the following key-value pairs\n",
    "| key | value |\n",
    "|-----|-------|\n",
    "|\"item code\"|21015|\n",
    "|\"name\"|\"Canned Tomatoes\"|\n",
    "|\"price\"|89.65|\n",
    "\n",
    "print the value associated a non-existent key called: \"location\""
   ]
  },
  {
   "cell_type": "code",
   "execution_count": 9,
   "id": "d49b36f4-d187-4d03-9029-669edc66a849",
   "metadata": {},
   "outputs": [
    {
     "ename": "NameError",
     "evalue": "name 'location' is not defined",
     "output_type": "error",
     "traceback": [
      "\u001b[1;31m---------------------------------------------------------------------------\u001b[0m",
      "\u001b[1;31mNameError\u001b[0m                                 Traceback (most recent call last)",
      "Cell \u001b[1;32mIn[9], line 3\u001b[0m\n\u001b[0;32m      1\u001b[0m \u001b[38;5;66;03m#Write your code here\u001b[39;00m\n\u001b[0;32m      2\u001b[0m mydictionary \u001b[38;5;241m=\u001b[39m {\u001b[38;5;124m\"\u001b[39m\u001b[38;5;124mitem code\u001b[39m\u001b[38;5;124m\"\u001b[39m:\u001b[38;5;241m21015\u001b[39m, \u001b[38;5;124m\"\u001b[39m\u001b[38;5;124mname\u001b[39m\u001b[38;5;124m\"\u001b[39m: \u001b[38;5;124m\"\u001b[39m\u001b[38;5;124mCanned Tomatoes\u001b[39m\u001b[38;5;124m\"\u001b[39m,\u001b[38;5;124m\"\u001b[39m\u001b[38;5;124mprice\u001b[39m\u001b[38;5;124m\"\u001b[39m:\u001b[38;5;241m89.65\u001b[39m}\n\u001b[1;32m----> 3\u001b[0m mydictionary[location]\n",
      "\u001b[1;31mNameError\u001b[0m: name 'location' is not defined"
     ]
    }
   ],
   "source": [
    "#Write your code here\n",
    "mydictionary = {\"item code\":21015, \"name\": \"Canned Tomatoes\",\"price\":89.65}\n",
    "mydictionary[location]"
   ]
  },
  {
   "cell_type": "raw",
   "id": "9c2492a4-89f5-4475-be4a-ce4c686d5a97",
   "metadata": {},
   "source": [
    "a. What is the output of your code? did the code result in an error? What kind of error did it result it?\n",
    "It caused a NameError\n",
    "\n",
    "b. Why do you think it produced the output it produced?\n",
    "location key is non-existent in the dictionary\n"
   ]
  },
  {
   "cell_type": "markdown",
   "id": "08470630-3d35-4bc5-a88e-da8e769b5015",
   "metadata": {},
   "source": [
    "5. Create a list of integers with the elements $1,2,3,4,5$. Print the element at position -1 (negative one)"
   ]
  },
  {
   "cell_type": "code",
   "execution_count": 19,
   "id": "7f39b1de-9043-4a06-b533-43b209391d43",
   "metadata": {
    "editable": true,
    "slideshow": {
     "slide_type": ""
    },
    "tags": []
   },
   "outputs": [
    {
     "data": {
      "text/plain": [
       "5"
      ]
     },
     "execution_count": 19,
     "metadata": {},
     "output_type": "execute_result"
    }
   ],
   "source": [
    "#Write your code here\n",
    "mylist[-1]"
   ]
  },
  {
   "cell_type": "raw",
   "id": "91569031-956f-405f-b14c-f80bf080186f",
   "metadata": {
    "editable": true,
    "raw_mimetype": "",
    "slideshow": {
     "slide_type": ""
    },
    "tags": []
   },
   "source": [
    "a. What is the output of your code? did the code result in an error? What kind of error did it result it?\n",
    "The result is 5.\n",
    "\n",
    "b. Why do you think it produced the output it produced?\n",
    "In Python, using negative indexing allows you to access elements from the end of the list, with -1 being the last element.\n"
   ]
  },
  {
   "cell_type": "markdown",
   "id": "a30e1a72-119c-4fd1-a53d-d48d98650ddd",
   "metadata": {},
   "source": [
    "6. Create a list of integers with the elements $1,2,3,4,5$. Subtract 1 from the element at position 1.5"
   ]
  },
  {
   "cell_type": "code",
   "execution_count": 13,
   "id": "22210a12-16bf-4287-81bc-e5c6327ca0d9",
   "metadata": {},
   "outputs": [
    {
     "ename": "TypeError",
     "evalue": "list indices must be integers or slices, not float",
     "output_type": "error",
     "traceback": [
      "\u001b[1;31m---------------------------------------------------------------------------\u001b[0m",
      "\u001b[1;31mTypeError\u001b[0m                                 Traceback (most recent call last)",
      "Cell \u001b[1;32mIn[13], line 2\u001b[0m\n\u001b[0;32m      1\u001b[0m \u001b[38;5;66;03m#Write your code here\u001b[39;00m\n\u001b[1;32m----> 2\u001b[0m mylist[\u001b[38;5;241m1.5\u001b[39m]\u001b[38;5;241m-\u001b[39m\u001b[38;5;241m1\u001b[39m\n",
      "\u001b[1;31mTypeError\u001b[0m: list indices must be integers or slices, not float"
     ]
    }
   ],
   "source": [
    "#Write your code here\n",
    "mylist[1.5]-1"
   ]
  },
  {
   "cell_type": "raw",
   "id": "2774128f-ffac-48d5-afd6-49e2232ad157",
   "metadata": {},
   "source": [
    "a. What is the output of your code? did the code result in an error? What kind of error did it result it?\n",
    "It caused a TypeError.\n",
    "\n",
    "b. Why do you think it produced the output it produced?\n",
    "List indices must be integers or slicers, not float. Or it must be a whole number.\n"
   ]
  },
  {
   "cell_type": "markdown",
   "id": "426275b0-7a6b-426c-b413-9cddecc62ce0",
   "metadata": {},
   "source": [
    "7. Create a variable called `word` and assign to it the value `\"absurd\"`. Concatenate the `word` with the a tuple containing two zeroes."
   ]
  },
  {
   "cell_type": "code",
   "execution_count": 15,
   "id": "910e2f92-89f1-49e4-b705-9c7208f98e06",
   "metadata": {},
   "outputs": [
    {
     "ename": "TypeError",
     "evalue": "can only concatenate str (not \"tuple\") to str",
     "output_type": "error",
     "traceback": [
      "\u001b[1;31m---------------------------------------------------------------------------\u001b[0m",
      "\u001b[1;31mTypeError\u001b[0m                                 Traceback (most recent call last)",
      "Cell \u001b[1;32mIn[15], line 3\u001b[0m\n\u001b[0;32m      1\u001b[0m \u001b[38;5;66;03m#Write your code here\u001b[39;00m\n\u001b[0;32m      2\u001b[0m word \u001b[38;5;241m=\u001b[39m \u001b[38;5;124m\"\u001b[39m\u001b[38;5;124mabsurd\u001b[39m\u001b[38;5;124m\"\u001b[39m\n\u001b[1;32m----> 3\u001b[0m word \u001b[38;5;241m+\u001b[39m (\u001b[38;5;241m0\u001b[39m,\u001b[38;5;241m0\u001b[39m)\n",
      "\u001b[1;31mTypeError\u001b[0m: can only concatenate str (not \"tuple\") to str"
     ]
    }
   ],
   "source": [
    "#Write your code here\n",
    "word = \"absurd\"\n",
    "word + (0,0)"
   ]
  },
  {
   "cell_type": "raw",
   "id": "9bb5ce77-e9e0-4184-aabd-cde2a2b596a1",
   "metadata": {},
   "source": [
    "a. What is the output of your code? did the code result in an error? What kind of error did it result it?\n",
    "\n",
    "b. Why do you think it produced the output it produced?\n",
    "can only concatenate str (not \"tuple\") to str"
   ]
  }
 ],
 "metadata": {
  "kernelspec": {
   "display_name": "Python 3 (ipykernel)",
   "language": "python",
   "name": "python3"
  },
  "language_info": {
   "codemirror_mode": {
    "name": "ipython",
    "version": 3
   },
   "file_extension": ".py",
   "mimetype": "text/x-python",
   "name": "python",
   "nbconvert_exporter": "python",
   "pygments_lexer": "ipython3",
   "version": "3.11.7"
  }
 },
 "nbformat": 4,
 "nbformat_minor": 5
}
