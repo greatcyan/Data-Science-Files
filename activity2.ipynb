{
 "cells": [
  {
   "cell_type": "markdown",
   "id": "8a1e7667-3c0c-4b3c-821e-cc561714a1fb",
   "metadata": {
    "id": "8a1e7667-3c0c-4b3c-821e-cc561714a1fb"
   },
   "source": [
    "# Writing python code\n",
    "Follow the instructions by writing the appropriate python code"
   ]
  },
  {
   "cell_type": "markdown",
   "id": "f3d65cff-6c6d-49b7-820e-04831e267dbc",
   "metadata": {
    "id": "f3d65cff-6c6d-49b7-820e-04831e267dbc"
   },
   "source": [
    "1. Write the following expression in python\n",
    "\n",
    "$$\\frac{x + 3y - 2}{5x} - 3x + 2y^2$$"
   ]
  },
  {
   "cell_type": "code",
   "execution_count": 25,
   "id": "c97aea11-1361-4847-90a5-162fba5134fb",
   "metadata": {
    "id": "c97aea11-1361-4847-90a5-162fba5134fb"
   },
   "outputs": [
    {
     "data": {
      "text/plain": [
       "281.09354838709675"
      ]
     },
     "execution_count": 25,
     "metadata": {},
     "output_type": "execute_result"
    }
   ],
   "source": [
    "x = 3.1\n",
    "y = 12.0\n",
    "# Write your code here\n",
    "\n",
    "result = ((x + 3*y -2)/(5*x)) - (3*x) + (2*y**2) \n",
    "\n",
    "result"
   ]
  },
  {
   "cell_type": "markdown",
   "id": "219a6e4c-66f0-4e03-b262-c7e9dbe712ea",
   "metadata": {
    "id": "219a6e4c-66f0-4e03-b262-c7e9dbe712ea"
   },
   "source": [
    "# 2. In the cell below there is a variable called `mname`. This variable represents a person's middle name. Print the expression that corresponds to the middle initial of this person"
   ]
  },
  {
   "cell_type": "code",
   "execution_count": 14,
   "id": "0513dd3c-ea38-4d13-b30f-50a6f00558e0",
   "metadata": {
    "id": "0513dd3c-ea38-4d13-b30f-50a6f00558e0"
   },
   "outputs": [
    {
     "data": {
      "text/plain": [
       "'R'"
      ]
     },
     "execution_count": 14,
     "metadata": {},
     "output_type": "execute_result"
    }
   ],
   "source": [
    "mname = 'Reboquio'\n",
    "mname[0]\n",
    "#Write your code here"
   ]
  },
  {
   "cell_type": "markdown",
   "id": "5faf3668-3e0e-47b9-b8e3-5c05ec8fca7d",
   "metadata": {
    "id": "5faf3668-3e0e-47b9-b8e3-5c05ec8fca7d"
   },
   "source": [
    "3. In the cell below you have two variables: `fname`,`mname`, and `lname`. These variables represent a persons first name, middle name, and last name respectively. Print the expression that concatenates the string into the following format:\n",
    "\n",
    "> Mr. {First Name} {Middle Initial}. {Last Name}"
   ]
  },
  {
   "cell_type": "code",
   "execution_count": 31,
   "id": "c9b10a94-7851-4c23-960b-85b2e854dd31",
   "metadata": {
    "id": "c9b10a94-7851-4c23-960b-85b2e854dd31"
   },
   "outputs": [
    {
     "name": "stdout",
     "output_type": "stream",
     "text": [
      "Mr. Rub R. Abella\n"
     ]
    }
   ],
   "source": [
    "fname = 'Rub'\n",
    "mname = 'Reboquio'\n",
    "lname = 'Abella'\n",
    "#Write your code here\n",
    "\n",
    "m_initial = mname[0]\n",
    "fullname = \"Mr. \" + fname + \" \" + m_initial + \". \" + lname # fullname = f\"Mr. {fname} {m_initial}. {lname}\"\n",
    "\n",
    "print(fullname)"
   ]
  },
  {
   "cell_type": "markdown",
   "id": "a7926dfe-d7e0-4556-8711-fb2337cf5b99",
   "metadata": {
    "id": "a7926dfe-d7e0-4556-8711-fb2337cf5b99"
   },
   "source": [
    "4. In the cell below, you are given a list containing lists. Print the value of the second to the last element"
   ]
  },
  {
   "cell_type": "code",
   "execution_count": 36,
   "id": "5dd9e33b-e380-4db0-b204-c9d55625f2aa",
   "metadata": {
    "id": "5dd9e33b-e380-4db0-b204-c9d55625f2aa"
   },
   "outputs": [
    {
     "data": {
      "text/plain": [
       "'4th'"
      ]
     },
     "execution_count": 36,
     "metadata": {},
     "output_type": "execute_result"
    }
   ],
   "source": [
    "items = ['1st','2nd','3rd','4th','5th']\n",
    "#Write your code here\n",
    "items[-2]"
   ]
  },
  {
   "cell_type": "markdown",
   "id": "4144d952-e95e-4a60-bba1-a115c8f4e991",
   "metadata": {
    "id": "4144d952-e95e-4a60-bba1-a115c8f4e991"
   },
   "source": [
    "5. In the cell below, you are given a list containing lists. Print the value of the last element of the last list (the last list is the inner list in the last position of the outer list)"
   ]
  },
  {
   "cell_type": "code",
   "execution_count": 44,
   "id": "ede4c6a5-8691-4e40-8d35-99625f94c83d",
   "metadata": {
    "id": "ede4c6a5-8691-4e40-8d35-99625f94c83d"
   },
   "outputs": [
    {
     "data": {
      "text/plain": [
       "5"
      ]
     },
     "execution_count": 44,
     "metadata": {},
     "output_type": "execute_result"
    }
   ],
   "source": [
    "items = [[1,2,3],[1,2,3],[],[3,4,5],[6,5]]\n",
    "last_item = items[-1]\n",
    "last_item [-1]\n",
    "\n",
    "#Write your code here"
   ]
  }
 ],
 "metadata": {
  "colab": {
   "provenance": []
  },
  "kernelspec": {
   "display_name": "Python 3 (ipykernel)",
   "language": "python",
   "name": "python3"
  },
  "language_info": {
   "codemirror_mode": {
    "name": "ipython",
    "version": 3
   },
   "file_extension": ".py",
   "mimetype": "text/x-python",
   "name": "python",
   "nbconvert_exporter": "python",
   "pygments_lexer": "ipython3",
   "version": "3.11.7"
  }
 },
 "nbformat": 4,
 "nbformat_minor": 5
}
