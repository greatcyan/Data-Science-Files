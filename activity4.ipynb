{
 "cells": [
  {
   "cell_type": "markdown",
   "id": "fb43e22a-518d-41f5-8afa-a6bf9034406d",
   "metadata": {},
   "source": [
    "# Exercises on Loops\n",
    "\n",
    "Complete the following cells to produce the desired outputs"
   ]
  },
  {
   "cell_type": "markdown",
   "id": "9148c0c9-aee7-4081-8280-cbd875fde8c6",
   "metadata": {},
   "source": [
    "## 1 Horizontal Bar Chart\n",
    "\n",
    "In the cell below you are given a list of integers. You are to create a horizontal bar chart to rerpresent the data in the list.\n",
    "\n",
    "For every integer in the list, print a bar. The bar is created by repeating the character `#`. If the integer's value is n, the bar printed must be n `#`s long. \n",
    "Include numbering to label each bar. For example, given the data:\n",
    "```\n",
    "data = [3,2,4]\n",
    "```\n",
    "The chart should look like the following:\n",
    "```\n",
    "1. ###\n",
    "2. ##\n",
    "3. ####\n",
    "```"
   ]
  },
  {
   "cell_type": "code",
   "execution_count": 1,
   "id": "2dbe5e4d-ef6f-4a75-9c60-e418ac1c4371",
   "metadata": {},
   "outputs": [
    {
     "name": "stdout",
     "output_type": "stream",
     "text": [
      "1. #\n",
      "2. ###\n",
      "3. ##\n",
      "4. #####\n",
      "5. \n",
      "6. #######\n"
     ]
    }
   ],
   "source": [
    "values = [1,3,2,5,0,7]\n",
    "# Your code here\n",
    "i = 1\n",
    "for value in values:    \n",
    "    print(f\"{i}.\",\"#\" * value)\n",
    "    i += 1"
   ]
  },
  {
   "cell_type": "markdown",
   "id": "39e326a0-47cb-44c7-8c37-2bf5ca6801ba",
   "metadata": {},
   "source": [
    "## 2 Full Names\n",
    "In the cell below you are given three lists. A list of first names, a list of middle names, and a list of last names. \n",
    "\n",
    "For every triplet of first name, middle name, and last name. You are to print the full name in the following format \n",
    "\n",
    "```\n",
    "1. <First Name 1> <Middle Initial 1>. <Last Name1>\n",
    "2. <First Name 2> <Middle Initial 2>. <Last Name2>\n",
    "3. <First Name 3> <Middle Initial 3>. <Last Name3>\n",
    "```\n",
    "\n",
    "The first line should be combined from the first name, middle name, and last name found on index 0 of every list, the second line should be combined from the names found on index 2 of every list and so on. \n",
    "\n",
    "The correct output should look like th following:\n",
    "```\n",
    "1. James T. Brown\n",
    "2. Emma R. Davis\n",
    "3. Mohammed Y. Garcia\n",
    "4. Aisha M. Nguyen\n",
    "5. Satoshi J. Singh\n",
    "6. Yuki I. Ali\n",
    "```"
   ]
  },
  {
   "cell_type": "code",
   "execution_count": 3,
   "id": "814d7130-f1b1-452e-a5c3-d84bd7a9c076",
   "metadata": {},
   "outputs": [
    {
     "name": "stdout",
     "output_type": "stream",
     "text": [
      "1. James T. Brown\n",
      "2. Emma R. Davis\n",
      "3. Mohammed Y. Garcia\n",
      "4. Aisha M. Nguyen\n",
      "5. Satoshi J. Singh\n",
      "6. Yuki I. Ali\n"
     ]
    }
   ],
   "source": [
    "first_names = [\"James\", \"Emma\", \"Mohammed\", \"Aisha\", \"Satoshi\", \"Yuki\"]\n",
    "middle_names = [\"Thomas\", \"Rose\", \"Yusuke\", \"Mei\", \"Javier\", \"Isabella\"]\n",
    "last_names = [\"Brown\", \"Davis\", \"Garcia\", \"Nguyen\", \"Singh\", \"Ali\"]\n",
    "# Your code here\n",
    "appended_lists = zip(first_names, middle_names, last_names)\n",
    "appended_lists = [f\"{first} {middle[0]}. {last}\" for first, middle, last in appended_lists]\n",
    "\n",
    "i = 1\n",
    "for names in appended_lists:\n",
    "    print(f\"{i}.\", names)\n",
    "    i += 1\n",
    "        \n",
    "    "
   ]
  },
  {
   "cell_type": "markdown",
   "id": "2233ac14-4edf-4f8e-aa5b-4628badc9873",
   "metadata": {},
   "source": [
    "## 3 Full Names, Incomplete Data\n",
    "In the scenario below you're still working on the same lists. But this time some names are missing. Missing names are represented by empty strings (`''`).\n",
    "\n",
    "Similar to the previous task, print the combined names for every person. If the person is missing their first, middle or last name, do not print a line for the person. Skip to the next person instead. Make sure the numbering doesnt skip.\n",
    "\n",
    "The correct print should look like the following\n",
    "\n",
    "```\n",
    "1. Sarah G. Jones\n",
    "2. Liang Y. Li\n",
    "3. Ahmed J. Khan\n",
    "4. Priya M. Patel\n",
    "```"
   ]
  },
  {
   "cell_type": "code",
   "execution_count": 5,
   "id": "f55c785e-20f7-4bd9-a004-12c9a28df5bd",
   "metadata": {},
   "outputs": [
    {
     "name": "stdout",
     "output_type": "stream",
     "text": [
      "1. Sarah G. Jones\n",
      "2. Liang Y. Li\n",
      "3. Ahmed J. Khan\n",
      "4. Priya M. Patel\n"
     ]
    }
   ],
   "source": [
    "first_names = [\"Sarah\", \"James\", '', \"Liang\", \"Sakura\", \"Ahmed\", \"Priya\"]\n",
    "middle_names = [\"Grace\", \"Thomas\", \"Rose\", \"Yuki\", '', \"Jasmine\", \"Muhammad\"]\n",
    "last_names = [\"Jones\", '', \"Davis\", \"Li\", \"Yamamoto\", \"Khan\", \"Patel\"]\n",
    "\n",
    "# Your code here\n",
    "i = 0\n",
    "j = 1\n",
    "for names in first_names:\n",
    "    if names != \"\" and middle_names[i] != \"\"  and last_names[i] != \"\":\n",
    "        print(f\"{j}.\", names, f\"{middle_names[i][0]}.\", last_names[i])\n",
    "        j += 1\n",
    "    i += 1\n",
    "   \n"
   ]
  },
  {
   "cell_type": "markdown",
   "id": "e83f5049-b3c0-4660-9d47-253af460a030",
   "metadata": {},
   "source": [
    "## 4 Qualitative Transformation\n",
    "You are given a list of floats. Calculate the mean of all the floats in the list and store them to a variable.\n",
    "\n",
    "Create a new list containing elements that correspond to qualitative transformations of each float in the list. \n",
    "\n",
    "If the float is less than the mean, its corresponding transformation is 'Low'. If the float is greater than the mean, its corresponding transformation is 'High'. If it is equal to the mean, its corresponding transformation is 'Average'. \n",
    "\n",
    "For example, given the following list of floats:\n",
    "```\n",
    "data = [1.2, 3.1, 0.2]\n",
    "```\n",
    "With a mean of 1.5 the new list should be\n",
    "```\n",
    "transformation = ['Low', 'High', 'Low']\n",
    "```\n",
    "\n",
    "Print the new list containing the transformations"
   ]
  },
  {
   "cell_type": "code",
   "execution_count": 7,
   "id": "adca7f14-1f90-4767-9f6c-0d97375975e9",
   "metadata": {},
   "outputs": [
    {
     "name": "stdout",
     "output_type": "stream",
     "text": [
      "['Low', 'High', 'Low', 'Low', 'High', 'High', 'Low']\n"
     ]
    }
   ],
   "source": [
    "data = [1.2,3.1,0.2,-0.5,8.3,5.1,2.4]\n",
    "# Your code here\n",
    "mean = sum(data)/len(data)\n",
    "xform = []\n",
    "for num in data:    \n",
    "    if num < mean:\n",
    "        xform.append(\"Low\")\n",
    "    elif num > mean:\n",
    "        xform.append(\"High\")\n",
    "    else:\n",
    "        xform.append(\"Average\")    \n",
    "print(xform)"
   ]
  },
  {
   "cell_type": "markdown",
   "id": "ffba7804-ea0f-4abe-a247-cfbbc6ca156e",
   "metadata": {},
   "source": [
    "## 5 Minimum Value\n",
    "Given the list below, write python code to find the minimum (the minimum is the smallest value)"
   ]
  },
  {
   "cell_type": "code",
   "execution_count": 1,
   "id": "e2d83abd-88c3-4f9d-b6f2-c5b6636d5c07",
   "metadata": {},
   "outputs": [
    {
     "name": "stdout",
     "output_type": "stream",
     "text": [
      "-0.5\n"
     ]
    }
   ],
   "source": [
    "data = [1.2,3.1,0.2,-0.5,8.3,5.1,2.4]\n",
    "# Your code here\n",
    "min_num = data[0]\n",
    "\n",
    "for num in data:\n",
    "    if num < min_num:\n",
    "        min_num = num\n",
    "\n",
    "print(min_num)        \n"
   ]
  },
  {
   "cell_type": "raw",
   "id": "60dc6704-a164-41a2-a7d1-ce399ccafbf7",
   "metadata": {},
   "source": [
    "## 6 Sorting\n",
    "\n",
    "Given the list below. Write python code to create a new list containing the same values but sorted from smallest to largest (smallest value should be in index 0, largest should be in the last position)"
   ]
  },
  {
   "cell_type": "code",
   "execution_count": 1,
   "id": "7ec803a1-da6e-407d-9458-de09d4bbaa67",
   "metadata": {},
   "outputs": [
    {
     "name": "stdout",
     "output_type": "stream",
     "text": [
      "[-0.5, 0.2, 1.2, 2.4, 3.1, 5.1, 8.3]\n"
     ]
    }
   ],
   "source": [
    "data = [1.2,3.1,0.2,-0.5,8.3,5.1,2.4]\n",
    "# Your code here\n",
    "new_list = []\n",
    "\n",
    "while data:\n",
    "    min_val = min(data)\n",
    "    new_list.append(min_val)\n",
    "    data.remove(min_val)\n",
    "    \n",
    "print(new_list)\n"
   ]
  },
  {
   "cell_type": "code",
   "execution_count": null,
   "id": "7a366448-e8e4-464b-9f62-eb101957d997",
   "metadata": {},
   "outputs": [],
   "source": []
  }
 ],
 "metadata": {
  "kernelspec": {
   "display_name": "Python 3 (ipykernel)",
   "language": "python",
   "name": "python3"
  },
  "language_info": {
   "codemirror_mode": {
    "name": "ipython",
    "version": 3
   },
   "file_extension": ".py",
   "mimetype": "text/x-python",
   "name": "python",
   "nbconvert_exporter": "python",
   "pygments_lexer": "ipython3",
   "version": "3.11.7"
  }
 },
 "nbformat": 4,
 "nbformat_minor": 5
}
