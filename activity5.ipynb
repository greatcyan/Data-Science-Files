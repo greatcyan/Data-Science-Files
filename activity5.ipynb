{
 "cells": [
  {
   "cell_type": "markdown",
   "id": "19014411-bd3b-4617-b22b-f30b46060d79",
   "metadata": {},
   "source": [
    "# Trying to break python 2\n",
    "\n",
    "Write the following instructions as python code. Check the output of your code and answer the questions below it. Number zero is considered bonus item. Use it as an example. \n",
    "\n",
    "Try to experiment with your code beyond the instructions provided to investigate why it produces the outputs it produces."
   ]
  },
  {
   "cell_type": "markdown",
   "id": "9252e268-3290-45fd-a923-064982997b49",
   "metadata": {},
   "source": [
    "1. Below the function definition, invoke the function `funct()` but pass 2 arguments instead of 1"
   ]
  },
  {
   "cell_type": "code",
   "execution_count": 23,
   "id": "34412ee5-f198-4731-9b8f-5720dbf36783",
   "metadata": {},
   "outputs": [
    {
     "ename": "TypeError",
     "evalue": "funct() takes 1 positional argument but 2 were given",
     "output_type": "error",
     "traceback": [
      "\u001b[1;31m---------------------------------------------------------------------------\u001b[0m",
      "\u001b[1;31mTypeError\u001b[0m                                 Traceback (most recent call last)",
      "Cell \u001b[1;32mIn[23], line 4\u001b[0m\n\u001b[0;32m      1\u001b[0m \u001b[38;5;28;01mdef\u001b[39;00m \u001b[38;5;21mfunct\u001b[39m(x):\n\u001b[0;32m      2\u001b[0m     \u001b[38;5;28;01mreturn\u001b[39;00m x\n\u001b[1;32m----> 4\u001b[0m funct(\u001b[38;5;241m5\u001b[39m,\u001b[38;5;241m10\u001b[39m)\n",
      "\u001b[1;31mTypeError\u001b[0m: funct() takes 1 positional argument but 2 were given"
     ]
    }
   ],
   "source": [
    "def funct(x):\n",
    "    return x\n",
    "\n",
    "funct(5,10)"
   ]
  },
  {
   "cell_type": "raw",
   "id": "0e2d5d1f-0b19-411a-b030-f334e673cc34",
   "metadata": {},
   "source": [
    "a. What is the output of your code? did the code result in an error? What kind of error did it result it?\n",
    "TypeError  \n",
    "b. Why do you think it produced the output it produced?\n",
    "funct() takes 1 positional argument but 2 were given\n"
   ]
  },
  {
   "cell_type": "markdown",
   "id": "03f819de-8b96-4241-ba95-040a36fb6dcb",
   "metadata": {},
   "source": [
    "2. Replace the name of `g()` with `f()`, so that there are now two functions called `f()`"
   ]
  },
  {
   "cell_type": "code",
   "execution_count": 29,
   "id": "e162d0f6-29c3-4d84-8c5e-80d77142630c",
   "metadata": {},
   "outputs": [
    {
     "name": "stdout",
     "output_type": "stream",
     "text": [
      "hi\n"
     ]
    }
   ],
   "source": [
    "def f():\n",
    "    print('hello')\n",
    "\n",
    "def f():\n",
    "    print('hi')\n",
    "\n",
    "f()"
   ]
  },
  {
   "cell_type": "raw",
   "id": "34842d09-13d7-404b-8b82-e60b62be84f6",
   "metadata": {},
   "source": [
    "a. What is the output of your code? did the code result in an error? What kind of error did it result it?\n",
    "hi\n",
    "b. Why do you think it produced the output it produced?\n",
    "the first function \"f\" is overwritten with the recent defined function \"f\" that prints hi\n"
   ]
  },
  {
   "cell_type": "markdown",
   "id": "3868d1a4-4059-4c68-89d9-d64b5697a123",
   "metadata": {},
   "source": [
    "3. after the line `return 2`, add another return statement, this time returning `3`. Make sure that the second return statement is inside the body of `h()`"
   ]
  },
  {
   "cell_type": "code",
   "execution_count": 41,
   "id": "676de74b-4536-4cc9-8af5-696ab0e62766",
   "metadata": {},
   "outputs": [
    {
     "data": {
      "text/plain": [
       "2"
      ]
     },
     "execution_count": 41,
     "metadata": {},
     "output_type": "execute_result"
    }
   ],
   "source": [
    "def h():\n",
    "    return 2\n",
    "    return 3\n",
    "h()"
   ]
  },
  {
   "cell_type": "raw",
   "id": "290dbbfd-0d07-4726-abaa-4fc380c115b9",
   "metadata": {},
   "source": [
    "a. What is the output of your code? did the code result in an error? What kind of error did it result it?\n",
    "2\n",
    "b. Why do you think it produced the output it produced?\n",
    "When a return statement is executed in a function, it immediately terminates the function and returns the specified value. Any code after the return statement is not executed."
   ]
  }
 ],
 "metadata": {
  "kernelspec": {
   "display_name": "Python 3 (ipykernel)",
   "language": "python",
   "name": "python3"
  },
  "language_info": {
   "codemirror_mode": {
    "name": "ipython",
    "version": 3
   },
   "file_extension": ".py",
   "mimetype": "text/x-python",
   "name": "python",
   "nbconvert_exporter": "python",
   "pygments_lexer": "ipython3",
   "version": "3.11.7"
  }
 },
 "nbformat": 4,
 "nbformat_minor": 5
}
