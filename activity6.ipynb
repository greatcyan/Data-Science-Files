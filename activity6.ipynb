{
 "cells": [
  {
   "cell_type": "markdown",
   "id": "629258a9-4f16-4803-8b98-2ca9426ced68",
   "metadata": {},
   "source": [
    "# Exercises on Functions\n",
    "\n",
    "Implement the following functions:"
   ]
  },
  {
   "cell_type": "markdown",
   "id": "1418694d-91fb-44c9-92fe-ef7bb89e793e",
   "metadata": {},
   "source": [
    "#### `doubledInt()`\n",
    "- parameters: 1 integer\n",
    "- return: the integer doubled (x2)"
   ]
  },
  {
   "cell_type": "code",
   "execution_count": 16,
   "id": "57c34c4c",
   "metadata": {},
   "outputs": [
    {
     "data": {
      "text/plain": [
       "20"
      ]
     },
     "execution_count": 16,
     "metadata": {},
     "output_type": "execute_result"
    }
   ],
   "source": [
    "# your code here\n",
    "\n",
    "def doubledInt(x):\n",
    "    return x * 2\n",
    "\n",
    "doubledInt(10)"
   ]
  },
  {
   "cell_type": "markdown",
   "id": "10e9a0c1-9982-495f-937b-c043bb8cd852",
   "metadata": {},
   "source": [
    "#### `fullName()`\n",
    "- parameters: three strings: last name, first name, and middle name (optional parameter)\n",
    "- return: the full name in the following format: {first name} {middle initial}. {last name}. If no middle name is passed it instead returns the name in the following format: {first name} {last name}"
   ]
  },
  {
   "cell_type": "code",
   "execution_count": 77,
   "id": "e6965648-cd91-45a5-960f-1ab8357928e8",
   "metadata": {},
   "outputs": [
    {
     "data": {
      "text/plain": [
       "'Cyrus C. Baruc'"
      ]
     },
     "execution_count": 77,
     "metadata": {},
     "output_type": "execute_result"
    }
   ],
   "source": [
    "# your code here\n",
    "\n",
    "def fullName(lastname,firstname, middlename = \"\"):\n",
    "    try:\n",
    "        return f\"{firstname} {middlename[0]}. {lastname}\"\n",
    "    except IndexError:\n",
    "       return f\"{firstname} {lastname}\"\n",
    "        \n",
    "fullName(\"Baruc\",\"Cyrus\",\"C\")"
   ]
  },
  {
   "cell_type": "markdown",
   "id": "b165fbef",
   "metadata": {},
   "source": [
    "#### `largest()`\n",
    "- parameters: two floats\n",
    "- return: the larger value between the two floats"
   ]
  },
  {
   "cell_type": "code",
   "execution_count": 69,
   "id": "c4c3c065",
   "metadata": {},
   "outputs": [
    {
     "data": {
      "text/plain": [
       "91"
      ]
     },
     "execution_count": 69,
     "metadata": {},
     "output_type": "execute_result"
    }
   ],
   "source": [
    "# your code here\n",
    "\n",
    "def largest(x,y):\n",
    "    return max(x,y)\n",
    "\n",
    "largest(19,91)\n",
    "    "
   ]
  },
  {
   "cell_type": "markdown",
   "id": "5c2abbb3",
   "metadata": {},
   "source": [
    "#### `isVerticalLine()`\n",
    "- parameters: two (float,float) tuples which represent two points in a cartesian plane (x,y)\n",
    "- return: `True` if the points describe a vertical line and `False` otherwise"
   ]
  },
  {
   "cell_type": "code",
   "execution_count": 97,
   "id": "1f9afe1f",
   "metadata": {},
   "outputs": [
    {
     "data": {
      "text/plain": [
       "True"
      ]
     },
     "execution_count": 97,
     "metadata": {},
     "output_type": "execute_result"
    }
   ],
   "source": [
    "# your code here\n",
    "\n",
    "def isVerticalLine(point1, point2):\n",
    "    x1,y1 = point1\n",
    "    x2,y2 = point2\n",
    "    return x1 == x2 and y1 != y2\n",
    "\n",
    "isVerticalLine((0,4),(0,5))\n"
   ]
  },
  {
   "cell_type": "markdown",
   "id": "e1a0f503-0411-4103-9992-fdae811d8210",
   "metadata": {},
   "source": [
    "#### `head()`\n",
    "- parameters: one list, one integer (optional parameter)\n",
    "- return: if the list is empty it returns an empty list. if the integer is not passed, it returns the first element of the list, otherwise it returns a list of length n containing the first n elements of the list (where n is the value of the passed integer)"
   ]
  },
  {
   "cell_type": "code",
   "execution_count": 19,
   "id": "536d5769-8687-41b2-8da1-c5b3cb04f395",
   "metadata": {},
   "outputs": [
    {
     "data": {
      "text/plain": [
       "[2, 4, 6, 8, 10]"
      ]
     },
     "execution_count": 19,
     "metadata": {},
     "output_type": "execute_result"
    }
   ],
   "source": [
    "# your code here\n",
    "\n",
    "def head(list, n = 0):\n",
    "    if len(list) == 0:\n",
    "        return list\n",
    "    elif int == 0:\n",
    "        return list[0]\n",
    "    else:\n",
    "        return list[:n]\n",
    "\n",
    "x = [2,4,6,8,10,12,14,16,18,20]\n",
    "        \n",
    "head(x,5)"
   ]
  },
  {
   "cell_type": "markdown",
   "id": "7e0ba33f-6cc7-4ab6-af1b-13096d64c85d",
   "metadata": {},
   "source": [
    "#### `dictionary()`\n",
    "- parameters: two lists\n",
    "- return: `None` if the list are not of the same length, otherwise it returns a dictionary where the keys are the first list and values are the second list"
   ]
  },
  {
   "cell_type": "code",
   "execution_count": 25,
   "id": "986aa089-9f0c-4112-b16b-03c05d1866ed",
   "metadata": {},
   "outputs": [
    {
     "data": {
      "text/plain": [
       "{'Month': 7, 'Date': 11, 'Year': 2024}"
      ]
     },
     "execution_count": 25,
     "metadata": {},
     "output_type": "execute_result"
    }
   ],
   "source": [
    "# your code here\n",
    "def dictionary(list1, list2):\n",
    "    if len(list1) != len(list2):\n",
    "        return None\n",
    "    else:\n",
    "        return dict(zip(list1,list2))\n",
    "\n",
    "x = [\"Month\",\"Date\",\"Year\"]\n",
    "y = [7,11,2024]\n",
    "\n",
    "dictionary(x,y)\n",
    "    "
   ]
  },
  {
   "cell_type": "markdown",
   "id": "8c4aadb1",
   "metadata": {},
   "source": [
    "#### `mean()`\n",
    "- parameters: a list containining numbers\n",
    "- return: the mean value of the numbers in the list"
   ]
  },
  {
   "cell_type": "code",
   "execution_count": 33,
   "id": "133bae74",
   "metadata": {},
   "outputs": [
    {
     "data": {
      "text/plain": [
       "17.5"
      ]
     },
     "execution_count": 33,
     "metadata": {},
     "output_type": "execute_result"
    }
   ],
   "source": [
    "# your code here\n",
    "def mean(x):\n",
    "    return sum(x)/len(x)\n",
    "\n",
    "x = [5,10,15,20,25,30]\n",
    "mean(x)"
   ]
  },
  {
   "cell_type": "markdown",
   "id": "df25bf5d",
   "metadata": {},
   "source": [
    "#### `variance()`\n",
    "- parameters: a list containing numbers\n",
    "- return: the variance of the numbers in the list"
   ]
  },
  {
   "cell_type": "code",
   "execution_count": 40,
   "id": "cb80cb6b",
   "metadata": {},
   "outputs": [
    {
     "data": {
      "text/plain": [
       "59.10204081632653"
      ]
     },
     "execution_count": 40,
     "metadata": {},
     "output_type": "execute_result"
    }
   ],
   "source": [
    "# your code here\n",
    "def variance(list):\n",
    "    mean = sum(list)/len(list)\n",
    "    sq_dif = [(x-mean) ** 2 for x in list]\n",
    "    total_sq_dif = sum(sq_dif)\n",
    "    var = total_sq_dif / len(list)\n",
    "    return var\n",
    "\n",
    "nums =[5,10,15,20,21,22,30]\n",
    "\n",
    "variance(nums)\n",
    "        \n",
    "    "
   ]
  },
  {
   "cell_type": "markdown",
   "id": "7249041d-8fd1-4639-ab6c-7638023b7c04",
   "metadata": {},
   "source": [
    "#### `filterValues()`\n",
    "- parameters: a list of numbers, min value (optional paramater), max value (optional parameter)\n",
    "- return: the same list but filtered based on min and max. If an element is less than min, it is filtered out. If an element is greater than max, it is filtered out. If there is no min value passed, filter negative values. If there is no max value passed, filter values greater than 100"
   ]
  },
  {
   "cell_type": "code",
   "execution_count": 52,
   "id": "523bf6c8-8c11-49b6-abd9-7334910e1ada",
   "metadata": {},
   "outputs": [
    {
     "name": "stdout",
     "output_type": "stream",
     "text": [
      "[10, 50, 75, 30, 0]\n"
     ]
    }
   ],
   "source": [
    "# your code here\n",
    "def filterValues(numbers, min_value=None, max_value=None):\n",
    "    if min_value is None:\n",
    "        min_value = 0\n",
    "    if max_value is None:\n",
    "        max_value = 100\n",
    "\n",
    "    filtered_numbers = [num for num in numbers if min_value <= num <= max_value]\n",
    "    return filtered_numbers\n",
    "numbers = [10, -5, 120, 50, 200, 75, -10, 30, 0, 99, 101]\n",
    "\n",
    "print(filterValues(numbers, max_value = 80))\n",
    "\n"
   ]
  },
  {
   "cell_type": "code",
   "execution_count": null,
   "id": "a60f997f-f061-4c2d-8169-edf95d53e121",
   "metadata": {},
   "outputs": [],
   "source": []
  }
 ],
 "metadata": {
  "kernelspec": {
   "display_name": "Python 3 (ipykernel)",
   "language": "python",
   "name": "python3"
  },
  "language_info": {
   "codemirror_mode": {
    "name": "ipython",
    "version": 3
   },
   "file_extension": ".py",
   "mimetype": "text/x-python",
   "name": "python",
   "nbconvert_exporter": "python",
   "pygments_lexer": "ipython3",
   "version": "3.11.7"
  }
 },
 "nbformat": 4,
 "nbformat_minor": 5
}
