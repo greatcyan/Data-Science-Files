{
 "cells": [
  {
   "cell_type": "markdown",
   "id": "e0e51e61-6890-43f6-aa5c-ca9c77825104",
   "metadata": {},
   "source": [
    "# Exercises on OOP\n",
    "\n",
    "You are given the simple class called `Name`. Modify the cell below to make the `Name` class more useful\n",
    "\n",
    "1. Create an `__init__()` method for `Name`. This function must accept 3 parameters. Inside the `__init__()` method create three attributes: the first parameter must be assigned to the attribute `first`, the second parameter must be assigned to the attribute `middle` and the third paramter to the attribute `last`\n",
    "2. Create a method called `fullName()`. This returns the full name in the following format {first} {middle initial}. {last}\n",
    "   > Example: Rubelito R. Abella\n",
    "4. Create a method called `fullNameLastFirst()`. This returns the full name in the following format {last}, {first} {middle}.\n",
    "   > Example: Abella, Rubelito Reboquio"
   ]
  },
  {
   "cell_type": "code",
   "execution_count": 7,
   "id": "259366bd-bb14-4376-ae27-e845e766103c",
   "metadata": {},
   "outputs": [],
   "source": [
    "class Name:\n",
    "    def __init__(self):\n",
    "        self.first = \"Cyrus\"\n",
    "        self.middle = \"Cueva\"\n",
    "        self.last = \"Baruc\"\n",
    "        \n",
    "    def fullName(self):        \n",
    "        return f\"{self.first} {self.middle[0]}. {self.last}\"\n",
    "\n",
    "    def fullNameLastFirst(self):\n",
    "        return f\"{self.last}, {self.first}, {self.middle}\"\n",
    "       "
   ]
  },
  {
   "cell_type": "markdown",
   "id": "aeec5c6c-cae7-49f9-be82-187fdc608e88",
   "metadata": {},
   "source": [
    "When the `Name` function is complete, create a new class with the following instruction:\n",
    "1. Create a new class called `TitledName`. This class should inherit from `Name`.\n",
    "2. Override the `__init__()` class. Instead of accepting 4 parameters, this method accepts 4. The fourth parameter must be assigned to the attribute 'title'. \n",
    "3. Create a new method called `titledFullName()` This returns the full name in the following format {title} {first} {middle initial}. {last}\n",
    "   > Example: Mr. Rubelito R. Abella"
   ]
  },
  {
   "cell_type": "code",
   "execution_count": 9,
   "id": "6a367483-3a1f-46e1-a347-68dbab84fa51",
   "metadata": {},
   "outputs": [],
   "source": [
    "#Your code here\n",
    "class TitledName(Name):    \n",
    "    def __init__(self):\n",
    "        self.first = \"Cyrus\"\n",
    "        self.middle = \"Cueva\"\n",
    "        self.last = \"Baruc\"\n",
    "        self.title = \"Mr.\"\n",
    "    \n",
    "    def titledFullName(self):\n",
    "        return f\"{self.title} {self.first} {self.middle[0]}. {self.last}\"\n"
   ]
  },
  {
   "cell_type": "code",
   "execution_count": 23,
   "id": "8ba2cce7-e497-4cea-b087-9609ee21445e",
   "metadata": {},
   "outputs": [
    {
     "data": {
      "text/plain": [
       "'Cyrus C. Baruc'"
      ]
     },
     "execution_count": 23,
     "metadata": {},
     "output_type": "execute_result"
    }
   ],
   "source": [
    "cl = TitledName()\n",
    "cl.fullName()"
   ]
  },
  {
   "cell_type": "code",
   "execution_count": 25,
   "id": "727263e6-5c17-47b5-8d02-e49bfa838888",
   "metadata": {},
   "outputs": [
    {
     "data": {
      "text/plain": [
       "'Baruc, Cyrus, Cueva'"
      ]
     },
     "execution_count": 25,
     "metadata": {},
     "output_type": "execute_result"
    }
   ],
   "source": [
    "cl.fullNameLastFirst()"
   ]
  },
  {
   "cell_type": "code",
   "execution_count": 29,
   "id": "e205387e-e3ca-4bf2-bff7-fee0aa7cd5c5",
   "metadata": {},
   "outputs": [
    {
     "data": {
      "text/plain": [
       "'Mr. Cyrus C. Baruc'"
      ]
     },
     "execution_count": 29,
     "metadata": {},
     "output_type": "execute_result"
    }
   ],
   "source": [
    "cl.titledFullName()"
   ]
  },
  {
   "cell_type": "code",
   "execution_count": null,
   "id": "5c888a69-e4fc-44e2-8ec9-df440cb4e80f",
   "metadata": {},
   "outputs": [],
   "source": []
  }
 ],
 "metadata": {
  "kernelspec": {
   "display_name": "Python 3 (ipykernel)",
   "language": "python",
   "name": "python3"
  },
  "language_info": {
   "codemirror_mode": {
    "name": "ipython",
    "version": 3
   },
   "file_extension": ".py",
   "mimetype": "text/x-python",
   "name": "python",
   "nbconvert_exporter": "python",
   "pygments_lexer": "ipython3",
   "version": "3.11.7"
  }
 },
 "nbformat": 4,
 "nbformat_minor": 5
}
