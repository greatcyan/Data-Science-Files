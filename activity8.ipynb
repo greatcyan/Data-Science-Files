{
 "cells": [
  {
   "cell_type": "markdown",
   "id": "f3fd5586-3802-4866-b5d2-30d327a76a49",
   "metadata": {},
   "source": [
    "# Imports Exercise\n",
    "\n",
    "> Prerequisites: you might need to install the following python modules [numpy](https://numpy.org/install/), [pandas](https://pandas.pydata.org/getting_started.html), and [matplotlib](https://matplotlib.org/stable/users/getting_started/). Click the links for installation instructions\n",
    "\n",
    "Write the correct import statements below to correctly run the code cells right after it. You dont need to modify the cells after the import cell. \n"
   ]
  },
  {
   "cell_type": "markdown",
   "id": "728d153f-e3fd-4959-9bd2-7f87860f1d99",
   "metadata": {},
   "source": [
    "1. Import the library `numpy` and give it the alias `np`"
   ]
  },
  {
   "cell_type": "code",
   "execution_count": 2,
   "id": "b1ec9413-9551-4451-9a5e-5614ea4df7a6",
   "metadata": {},
   "outputs": [],
   "source": [
    "#import line here\n",
    "import numpy as np"
   ]
  },
  {
   "cell_type": "code",
   "execution_count": 4,
   "id": "d4d55430-2f1d-457b-adb7-620020867857",
   "metadata": {},
   "outputs": [
    {
     "name": "stdout",
     "output_type": "stream",
     "text": [
      "2.6666666666666665\n",
      "[2.         2.33333333 2.66666667 3.         3.33333333]\n",
      "[ 3.  8. -3.]\n"
     ]
    }
   ],
   "source": [
    "data = [\n",
    "    [1,2,3,4,5],\n",
    "    [6,7,8,9,10],\n",
    "    [-1,-2,-3,-4,-5]\n",
    "]\n",
    "\n",
    "print(np.mean(data))\n",
    "print(np.mean(data, axis = 0))\n",
    "print(np.mean(data, axis = 1))"
   ]
  },
  {
   "cell_type": "markdown",
   "id": "218ee0d2-40a4-468d-a9b1-dc2fbc81bc50",
   "metadata": {},
   "source": [
    "2. Import the function `read_csv()` from the pandas library"
   ]
  },
  {
   "cell_type": "code",
   "execution_count": 22,
   "id": "c63d616c-0926-4730-a166-e39a626988ba",
   "metadata": {},
   "outputs": [],
   "source": [
    "#import line here\n",
    "from pandas import read_csv"
   ]
  },
  {
   "cell_type": "code",
   "execution_count": 10,
   "id": "9dcf3b40-ff01-4d70-9155-cb05081c8aae",
   "metadata": {},
   "outputs": [],
   "source": [
    "dataframe = read_csv('https://raw.githubusercontent.com/mwaskom/seaborn-data/master/iris.csv')"
   ]
  },
  {
   "cell_type": "code",
   "execution_count": 12,
   "id": "13150812-ffa3-4735-8d71-ff8b9e58ac9b",
   "metadata": {},
   "outputs": [
    {
     "data": {
      "text/html": [
       "<div>\n",
       "<style scoped>\n",
       "    .dataframe tbody tr th:only-of-type {\n",
       "        vertical-align: middle;\n",
       "    }\n",
       "\n",
       "    .dataframe tbody tr th {\n",
       "        vertical-align: top;\n",
       "    }\n",
       "\n",
       "    .dataframe thead th {\n",
       "        text-align: right;\n",
       "    }\n",
       "</style>\n",
       "<table border=\"1\" class=\"dataframe\">\n",
       "  <thead>\n",
       "    <tr style=\"text-align: right;\">\n",
       "      <th></th>\n",
       "      <th>sepal_length</th>\n",
       "      <th>sepal_width</th>\n",
       "      <th>petal_length</th>\n",
       "      <th>petal_width</th>\n",
       "      <th>species</th>\n",
       "    </tr>\n",
       "  </thead>\n",
       "  <tbody>\n",
       "    <tr>\n",
       "      <th>0</th>\n",
       "      <td>5.1</td>\n",
       "      <td>3.5</td>\n",
       "      <td>1.4</td>\n",
       "      <td>0.2</td>\n",
       "      <td>setosa</td>\n",
       "    </tr>\n",
       "    <tr>\n",
       "      <th>1</th>\n",
       "      <td>4.9</td>\n",
       "      <td>3.0</td>\n",
       "      <td>1.4</td>\n",
       "      <td>0.2</td>\n",
       "      <td>setosa</td>\n",
       "    </tr>\n",
       "    <tr>\n",
       "      <th>2</th>\n",
       "      <td>4.7</td>\n",
       "      <td>3.2</td>\n",
       "      <td>1.3</td>\n",
       "      <td>0.2</td>\n",
       "      <td>setosa</td>\n",
       "    </tr>\n",
       "    <tr>\n",
       "      <th>3</th>\n",
       "      <td>4.6</td>\n",
       "      <td>3.1</td>\n",
       "      <td>1.5</td>\n",
       "      <td>0.2</td>\n",
       "      <td>setosa</td>\n",
       "    </tr>\n",
       "    <tr>\n",
       "      <th>4</th>\n",
       "      <td>5.0</td>\n",
       "      <td>3.6</td>\n",
       "      <td>1.4</td>\n",
       "      <td>0.2</td>\n",
       "      <td>setosa</td>\n",
       "    </tr>\n",
       "    <tr>\n",
       "      <th>...</th>\n",
       "      <td>...</td>\n",
       "      <td>...</td>\n",
       "      <td>...</td>\n",
       "      <td>...</td>\n",
       "      <td>...</td>\n",
       "    </tr>\n",
       "    <tr>\n",
       "      <th>145</th>\n",
       "      <td>6.7</td>\n",
       "      <td>3.0</td>\n",
       "      <td>5.2</td>\n",
       "      <td>2.3</td>\n",
       "      <td>virginica</td>\n",
       "    </tr>\n",
       "    <tr>\n",
       "      <th>146</th>\n",
       "      <td>6.3</td>\n",
       "      <td>2.5</td>\n",
       "      <td>5.0</td>\n",
       "      <td>1.9</td>\n",
       "      <td>virginica</td>\n",
       "    </tr>\n",
       "    <tr>\n",
       "      <th>147</th>\n",
       "      <td>6.5</td>\n",
       "      <td>3.0</td>\n",
       "      <td>5.2</td>\n",
       "      <td>2.0</td>\n",
       "      <td>virginica</td>\n",
       "    </tr>\n",
       "    <tr>\n",
       "      <th>148</th>\n",
       "      <td>6.2</td>\n",
       "      <td>3.4</td>\n",
       "      <td>5.4</td>\n",
       "      <td>2.3</td>\n",
       "      <td>virginica</td>\n",
       "    </tr>\n",
       "    <tr>\n",
       "      <th>149</th>\n",
       "      <td>5.9</td>\n",
       "      <td>3.0</td>\n",
       "      <td>5.1</td>\n",
       "      <td>1.8</td>\n",
       "      <td>virginica</td>\n",
       "    </tr>\n",
       "  </tbody>\n",
       "</table>\n",
       "<p>150 rows × 5 columns</p>\n",
       "</div>"
      ],
      "text/plain": [
       "     sepal_length  sepal_width  petal_length  petal_width    species\n",
       "0             5.1          3.5           1.4          0.2     setosa\n",
       "1             4.9          3.0           1.4          0.2     setosa\n",
       "2             4.7          3.2           1.3          0.2     setosa\n",
       "3             4.6          3.1           1.5          0.2     setosa\n",
       "4             5.0          3.6           1.4          0.2     setosa\n",
       "..            ...          ...           ...          ...        ...\n",
       "145           6.7          3.0           5.2          2.3  virginica\n",
       "146           6.3          2.5           5.0          1.9  virginica\n",
       "147           6.5          3.0           5.2          2.0  virginica\n",
       "148           6.2          3.4           5.4          2.3  virginica\n",
       "149           5.9          3.0           5.1          1.8  virginica\n",
       "\n",
       "[150 rows x 5 columns]"
      ]
     },
     "execution_count": 12,
     "metadata": {},
     "output_type": "execute_result"
    }
   ],
   "source": [
    "dataframe"
   ]
  },
  {
   "cell_type": "markdown",
   "id": "7f3f8ef0-5f8d-439f-b7ee-fa70f3f23a5b",
   "metadata": {},
   "source": [
    "3. Import `scatter` and `boxplot` from the library `pyplot`. `pyplot` is located inside the folder `matplotlib`"
   ]
  },
  {
   "cell_type": "code",
   "execution_count": 24,
   "id": "55e86261-e430-4889-907e-9ad4817aaf0b",
   "metadata": {},
   "outputs": [],
   "source": [
    "#import line here\n",
    "from matplotlib.pyplot import scatter, boxplot"
   ]
  },
  {
   "cell_type": "code",
   "execution_count": 16,
   "id": "ad0a05a5-379e-4c22-98ff-39e23bf4b4be",
   "metadata": {},
   "outputs": [
    {
     "data": {
      "text/plain": [
       "<matplotlib.collections.PathCollection at 0x19676523210>"
      ]
     },
     "execution_count": 16,
     "metadata": {},
     "output_type": "execute_result"
    },
    {
     "data": {
      "image/png": "[encoded data removed]",
      "text/plain": [
       "<Figure size 640x480 with 1 Axes>"
      ]
     },
     "metadata": {},
     "output_type": "display_data"
    }
   ],
   "source": [
    "scatter(dataframe['sepal_length'], dataframe['petal_length'])"
   ]
  },
  {
   "cell_type": "code",
   "execution_count": 26,
   "id": "477ad2e8-2647-44ba-a2df-312f837efe40",
   "metadata": {},
   "outputs": [
    {
     "data": {
      "text/plain": [
       "{'whiskers': [<matplotlib.lines.Line2D at 0x19678a3b1d0>,\n",
       "  <matplotlib.lines.Line2D at 0x19678a3b210>],\n",
       " 'caps': [<matplotlib.lines.Line2D at 0x19678a44090>,\n",
       "  <matplotlib.lines.Line2D at 0x19678a19ad0>],\n",
       " 'boxes': [<matplotlib.lines.Line2D at 0x19678a3a390>],\n",
       " 'medians': [<matplotlib.lines.Line2D at 0x19678a45150>],\n",
       " 'fliers': [<matplotlib.lines.Line2D at 0x19678a45cd0>],\n",
       " 'means': []}"
      ]
     },
     "execution_count": 26,
     "metadata": {},
     "output_type": "execute_result"
    },
    {
     "data": {
      "image/png": "[encoded data removed]",
      "text/plain": [
       "<Figure size 640x480 with 1 Axes>"
      ]
     },
     "metadata": {},
     "output_type": "display_data"
    }
   ],
   "source": [
    "boxplot(dataframe['sepal_length'])"
   ]
  },
  {
   "cell_type": "code",
   "execution_count": null,
   "id": "39c12776-ac2b-474d-b5b0-c273270e384c",
   "metadata": {},
   "outputs": [],
   "source": []
  }
 ],
 "metadata": {
  "kernelspec": {
   "display_name": "Python 3 (ipykernel)",
   "language": "python",
   "name": "python3"
  },
  "language_info": {
   "codemirror_mode": {
    "name": "ipython",
    "version": 3
   },
   "file_extension": ".py",
   "mimetype": "text/x-python",
   "name": "python",
   "nbconvert_exporter": "python",
   "pygments_lexer": "ipython3",
   "version": "3.11.7"
  }
 },
 "nbformat": 4,
 "nbformat_minor": 5
}
