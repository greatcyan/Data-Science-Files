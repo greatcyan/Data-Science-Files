{
 "cells": [
  {
   "cell_type": "markdown",
   "id": "c71a40e0-53ea-4e56-8f5c-767ead8ee93b",
   "metadata": {},
   "source": [
    "# Datatypes\n",
    "\n",
    "Python supports plenty of literals and data types, most of these you can discover on your own.\n",
    "\n",
    "For purposes of this module, we'll only look at a few: `int`, `float`, `str`, `bool`, `list`, and `dict`.\n",
    "However, we might come across the other data types along the way.\n",
    "\n",
    "## Numerical types\n",
    "\n",
    "These types represent numbers and will play along well with the arithmetic operators.\n",
    "\n",
    "### `int`\n",
    "\n",
    "The `int` datatype stores whole numbers and represents Mathematical integers.\n",
    "Just like Mathematical integers, the `int` datatype is unbounded.\n",
    "That is, we can represent as big or as small numbers as we want.\n",
    "\n",
    "Python also offers `int()` to coerce values to be represented as an `int`:"
   ]
  },
  {
   "cell_type": "code",
   "execution_count": null,
   "id": "b24645c4-5223-4eb9-94d4-299f08b51a19",
   "metadata": {},
   "outputs": [],
   "source": [
    "int(2.5)"
   ]
  },
  {
   "cell_type": "code",
   "execution_count": null,
   "id": "307f85de-e3b3-417a-a115-6689390e8969",
   "metadata": {},
   "outputs": [],
   "source": [
    "int('12345')"
   ]
  },
  {
   "cell_type": "markdown",
   "id": "d7cea783-5dd2-4bf3-8d9e-81a4079bff4f",
   "metadata": {},
   "source": [
    "### `float`\n",
    "\n",
    "Represents floating point numbers.\n",
    "These are numbers that have a fractional part.\n",
    "\n",
    "We also have `float()` to coerce values to be a `float`:"
   ]
  },
  {
   "cell_type": "code",
   "execution_count": null,
   "id": "36ccecc1-98e8-4426-9453-212cd0342062",
   "metadata": {},
   "outputs": [],
   "source": [
    "float(2)"
   ]
  },
  {
   "cell_type": "code",
   "execution_count": null,
   "id": "aa0f5a8c-926b-4d60-a6c5-c5ea5c047a7e",
   "metadata": {},
   "outputs": [],
   "source": [
    "float()"
   ]
  },
  {
   "cell_type": "code",
   "execution_count": null,
   "id": "d117ed1e-6e2f-4b84-a800-caebb9e9a1bf",
   "metadata": {},
   "outputs": [],
   "source": [
    "float(\"123.456\")"
   ]
  },
  {
   "cell_type": "markdown",
   "id": "dbbd3dc3-1910-441b-8764-1c8e3e2c1280",
   "metadata": {},
   "source": [
    "### Mixing types\n",
    "\n",
    "Mixing `int` and `float` together in an expression will typically result in the `int` being converted to a `float` first."
   ]
  },
  {
   "cell_type": "code",
   "execution_count": null,
   "id": "f71cb58f-b097-4270-9c14-f74915f90318",
   "metadata": {},
   "outputs": [],
   "source": [
    "2.0 + 3"
   ]
  },
  {
   "cell_type": "code",
   "execution_count": 1,
   "id": "f4b6b6b3-d828-4a0c-89d6-6016e5341079",
   "metadata": {},
   "outputs": [
    {
     "data": {
      "text/plain": [
       "50.0"
      ]
     },
     "execution_count": 1,
     "metadata": {},
     "output_type": "execute_result"
    }
   ],
   "source": [
    "5 * 10.0"
   ]
  },
  {
   "cell_type": "code",
   "execution_count": 6,
   "id": "77046539-813c-44a4-99ae-6437a3c25d48",
   "metadata": {},
   "outputs": [
    {
     "data": {
      "text/plain": [
       "0.0"
      ]
     },
     "execution_count": 6,
     "metadata": {},
     "output_type": "execute_result"
    }
   ],
   "source": [
    "1.0 // 2.0"
   ]
  },
  {
   "cell_type": "markdown",
   "id": "3afd672e-aa14-4e30-9789-fc676cda6fee",
   "metadata": {},
   "source": [
    "The `int`, `3`, is implicitly converted to a `float` and then added with the other `float`.\n",
    "Thus, we get a `5.0` as we're adding two `float`s.\n",
    "\n",
    "## Text sequence type\n",
    "\n",
    "Python represents words and characters as strings.\n",
    "Strings are immutable sequences of characters.\n",
    "\n",
    "Python accepts either single or double quotes to represent strings:"
   ]
  },
  {
   "cell_type": "code",
   "execution_count": 7,
   "id": "9ee36bf6-c4ba-44dc-ac3f-20032ae0dcda",
   "metadata": {},
   "outputs": [
    {
     "data": {
      "text/plain": [
       "'Hello'"
      ]
     },
     "execution_count": 7,
     "metadata": {},
     "output_type": "execute_result"
    }
   ],
   "source": [
    "\"Hello\""
   ]
  },
  {
   "cell_type": "code",
   "execution_count": 11,
   "id": "2de4152f-394a-4ea8-a515-963ed5e85581",
   "metadata": {},
   "outputs": [
    {
     "data": {
      "text/plain": [
       "'Hello'"
      ]
     },
     "execution_count": 11,
     "metadata": {},
     "output_type": "execute_result"
    }
   ],
   "source": [
    "\"Hello\""
   ]
  },
  {
   "cell_type": "code",
   "execution_count": 18,
   "id": "e049e668-4596-4b72-b755-ba89413d28d6",
   "metadata": {},
   "outputs": [
    {
     "data": {
      "text/plain": [
       "'Sam says,\\n \"jump!\"'"
      ]
     },
     "execution_count": 18,
     "metadata": {},
     "output_type": "execute_result"
    }
   ],
   "source": [
    "'Sam says,\\n \"jump!\"'"
   ]
  },
  {
   "cell_type": "markdown",
   "id": "a3b48558-0866-4e01-979f-41b4652aadb5",
   "metadata": {},
   "source": [
    "Even triple quotes are accepted:"
   ]
  },
  {
   "cell_type": "code",
   "execution_count": 15,
   "id": "4e2cd88d-cbe5-413d-a500-0054bf5f5ba2",
   "metadata": {},
   "outputs": [
    {
     "data": {
      "text/plain": [
       "'Triple\\nquotes\\nallow\\nmulti\\nline'"
      ]
     },
     "execution_count": 15,
     "metadata": {},
     "output_type": "execute_result"
    }
   ],
   "source": [
    "\"\"\"Triple\n",
    "quotes\n",
    "allow\n",
    "multi\n",
    "line\"\"\""
   ]
  },
  {
   "cell_type": "markdown",
   "id": "92679e25-d7c5-49d0-b717-536f3a9454ee",
   "metadata": {},
   "source": [
    "`\\n` is a special escape sequence that represents a linebreak (see more escape sequences: <https://docs.python.org/3/reference/lexical_analysis.html#escape-sequences>).\n",
    "If we print it out with `print`, the linebreaks are displayed as actual linebreaks:"
   ]
  },
  {
   "cell_type": "code",
   "execution_count": null,
   "id": "ec66b671-48f0-404e-9ae1-e730f4349273",
   "metadata": {},
   "outputs": [],
   "source": [
    "print(\"\"\"Triple\n",
    "quotes\n",
    "allow\n",
    "multi\n",
    "line\"\"\")"
   ]
  },
  {
   "cell_type": "markdown",
   "id": "8e6d8169-6603-4803-a3d2-a2af6c58e969",
   "metadata": {},
   "source": [
    "`str()` coerces values to be a string."
   ]
  },
  {
   "cell_type": "code",
   "execution_count": 19,
   "id": "07c2979c-fe21-43e2-947f-6a2028d63a76",
   "metadata": {},
   "outputs": [
    {
     "data": {
      "text/plain": [
       "'-5.0'"
      ]
     },
     "execution_count": 19,
     "metadata": {},
     "output_type": "execute_result"
    }
   ],
   "source": [
    "str(-5.0)"
   ]
  },
  {
   "cell_type": "code",
   "execution_count": 20,
   "id": "e8573c03-837d-4ab0-bc22-c6f46adb63aa",
   "metadata": {},
   "outputs": [
    {
     "data": {
      "text/plain": [
       "'4'"
      ]
     },
     "execution_count": 20,
     "metadata": {},
     "output_type": "execute_result"
    }
   ],
   "source": [
    "str(1+3)"
   ]
  },
  {
   "cell_type": "code",
   "execution_count": 21,
   "id": "8a390fa7-3100-4629-9c52-406269cd6f11",
   "metadata": {},
   "outputs": [
    {
     "data": {
      "text/plain": [
       "'-5.0'"
      ]
     },
     "execution_count": 21,
     "metadata": {},
     "output_type": "execute_result"
    }
   ],
   "source": [
    "str(-5.0)"
   ]
  },
  {
   "cell_type": "code",
   "execution_count": 22,
   "id": "0f759425-658e-43dc-b0a6-5bc28fff410d",
   "metadata": {},
   "outputs": [
    {
     "data": {
      "text/plain": [
       "'4'"
      ]
     },
     "execution_count": 22,
     "metadata": {},
     "output_type": "execute_result"
    }
   ],
   "source": [
    "str(1 + 3)"
   ]
  },
  {
   "cell_type": "code",
   "execution_count": 23,
   "id": "b32bd0e8-eca1-4a85-a225-19712d945c8a",
   "metadata": {},
   "outputs": [
    {
     "data": {
      "text/plain": [
       "'3.2857142857142856'"
      ]
     },
     "execution_count": 23,
     "metadata": {},
     "output_type": "execute_result"
    }
   ],
   "source": [
    "a = 23 / 7\n",
    "str(a)"
   ]
  },
  {
   "cell_type": "markdown",
   "id": "9f9d6bee-8543-45b7-b95d-893191e55417",
   "metadata": {},
   "source": [
    "### Concatenation\n",
    "\n",
    "String expression can be combined to form a new longer string expression.\n",
    "This is done through the operation concatenation (`+`)."
   ]
  },
  {
   "cell_type": "code",
   "execution_count": 24,
   "id": "bff53967-24c0-407b-b38f-0b9f16cfcfb5",
   "metadata": {},
   "outputs": [
    {
     "data": {
      "text/plain": [
       "'Hello world'"
      ]
     },
     "execution_count": 24,
     "metadata": {},
     "output_type": "execute_result"
    }
   ],
   "source": [
    "\"Hello\" + \" \" + \"world\""
   ]
  },
  {
   "cell_type": "markdown",
   "id": "0ca1ab81-9e1f-4035-a4e7-1c2fcb8ceaf2",
   "metadata": {},
   "source": [
    "### Replication\n",
    "\n",
    "Python strings support the `*` operator though.\n",
    "This multiplies strings to repeat them:"
   ]
  },
  {
   "cell_type": "code",
   "execution_count": 26,
   "id": "f46b714f-4b13-450c-9c20-c007c9d7789c",
   "metadata": {},
   "outputs": [
    {
     "data": {
      "text/plain": [
       "'HelloHelloHelloHelloHello'"
      ]
     },
     "execution_count": 26,
     "metadata": {},
     "output_type": "execute_result"
    }
   ],
   "source": [
    "\"Hello\"*5"
   ]
  },
  {
   "cell_type": "code",
   "execution_count": 27,
   "id": "502ba4db-1c94-4de7-a33c-6d5e8ae6f05c",
   "metadata": {},
   "outputs": [
    {
     "data": {
      "text/plain": [
       "'5,000,000,000'"
      ]
     },
     "execution_count": 27,
     "metadata": {},
     "output_type": "execute_result"
    }
   ],
   "source": [
    "\"5\" + \",000\" * 3"
   ]
  },
  {
   "cell_type": "code",
   "execution_count": 28,
   "id": "f390f603-3fec-4241-9ab7-dc7c02093917",
   "metadata": {},
   "outputs": [
    {
     "data": {
      "text/plain": [
       "'AAAAAAAAAA'"
      ]
     },
     "execution_count": 28,
     "metadata": {},
     "output_type": "execute_result"
    }
   ],
   "source": [
    "\"A\" * 10"
   ]
  },
  {
   "cell_type": "markdown",
   "id": "b37fcceb-7368-41ef-bf9e-19529ccf4b37",
   "metadata": {},
   "source": [
    "## Boolean type\n",
    "\n",
    "This is a value to represent true and false values.\n",
    "\n",
    "In Python, we use the keywords `True` and `False`:"
   ]
  },
  {
   "cell_type": "code",
   "execution_count": 31,
   "id": "fcffa5d8-3e31-4f6a-ad6c-168c6c1cbf1f",
   "metadata": {},
   "outputs": [
    {
     "data": {
      "text/plain": [
       "True"
      ]
     },
     "execution_count": 31,
     "metadata": {},
     "output_type": "execute_result"
    }
   ],
   "source": [
    "True"
   ]
  },
  {
   "cell_type": "code",
   "execution_count": 32,
   "id": "74908820-0d31-49bf-a142-e92f2097bd0f",
   "metadata": {},
   "outputs": [
    {
     "data": {
      "text/plain": [
       "False"
      ]
     },
     "execution_count": 32,
     "metadata": {},
     "output_type": "execute_result"
    }
   ],
   "source": [
    "False"
   ]
  },
  {
   "cell_type": "markdown",
   "id": "8a123fb7-453b-4e96-9a11-678586c79ae5",
   "metadata": {},
   "source": [
    "### Boolean operators\n",
    "\n",
    "We can combine boolean expressions using the operators `and`, `or`, `not`.\n",
    "\n",
    "`and`:"
   ]
  },
  {
   "cell_type": "code",
   "execution_count": 33,
   "id": "290383ed-94fa-454e-b331-6e007f70c3e5",
   "metadata": {},
   "outputs": [
    {
     "data": {
      "text/plain": [
       "True"
      ]
     },
     "execution_count": 33,
     "metadata": {},
     "output_type": "execute_result"
    }
   ],
   "source": [
    "True and True"
   ]
  },
  {
   "cell_type": "code",
   "execution_count": 34,
   "id": "175f5c52-6efb-4ce7-8f17-6a928f285268",
   "metadata": {},
   "outputs": [
    {
     "data": {
      "text/plain": [
       "False"
      ]
     },
     "execution_count": 34,
     "metadata": {},
     "output_type": "execute_result"
    }
   ],
   "source": [
    "True and False"
   ]
  },
  {
   "cell_type": "markdown",
   "id": "42f8df27-c30c-4b73-863a-322b02011fec",
   "metadata": {},
   "source": [
    "`or`:"
   ]
  },
  {
   "cell_type": "code",
   "execution_count": 35,
   "id": "520d6a58-bc77-4537-8ec6-0bcaecde4971",
   "metadata": {},
   "outputs": [
    {
     "data": {
      "text/plain": [
       "True"
      ]
     },
     "execution_count": 35,
     "metadata": {},
     "output_type": "execute_result"
    }
   ],
   "source": [
    "True or True"
   ]
  },
  {
   "cell_type": "code",
   "execution_count": 36,
   "id": "3005c970-277c-4fdd-af2f-c5e05aab8b9e",
   "metadata": {},
   "outputs": [
    {
     "data": {
      "text/plain": [
       "True"
      ]
     },
     "execution_count": 36,
     "metadata": {},
     "output_type": "execute_result"
    }
   ],
   "source": [
    "True or False"
   ]
  },
  {
   "cell_type": "markdown",
   "id": "1bfc0769-be12-4239-9bf3-1fb3a1776d5a",
   "metadata": {},
   "source": [
    "`not`:"
   ]
  },
  {
   "cell_type": "code",
   "execution_count": 37,
   "id": "5dd4e36c-8e06-4cf1-a0d9-9088db8618e5",
   "metadata": {},
   "outputs": [
    {
     "data": {
      "text/plain": [
       "False"
      ]
     },
     "execution_count": 37,
     "metadata": {},
     "output_type": "execute_result"
    }
   ],
   "source": [
    "not True"
   ]
  },
  {
   "cell_type": "code",
   "execution_count": 38,
   "id": "32c2e498-6b84-49d5-9063-7a93223b6319",
   "metadata": {},
   "outputs": [
    {
     "data": {
      "text/plain": [
       "True"
      ]
     },
     "execution_count": 38,
     "metadata": {},
     "output_type": "execute_result"
    }
   ],
   "source": [
    "not False"
   ]
  },
  {
   "cell_type": "markdown",
   "id": "14b23ad1-014d-4690-9393-d058ee3fbdc6",
   "metadata": {},
   "source": [
    "#### Compound Boolean\n",
    "\n",
    "And just like any expression we can combine boolean expression into compound expressions"
   ]
  },
  {
   "cell_type": "code",
   "execution_count": 39,
   "id": "345ca148-cb25-4f2a-87b3-4a47ffeb64e1",
   "metadata": {},
   "outputs": [
    {
     "data": {
      "text/plain": [
       "False"
      ]
     },
     "execution_count": 39,
     "metadata": {},
     "output_type": "execute_result"
    }
   ],
   "source": [
    "(True and True) and (True and False)"
   ]
  },
  {
   "cell_type": "code",
   "execution_count": 40,
   "id": "474ba82f-a380-4100-bfd4-3f2bb70b5eb4",
   "metadata": {},
   "outputs": [
    {
     "data": {
      "text/plain": [
       "True"
      ]
     },
     "execution_count": 40,
     "metadata": {},
     "output_type": "execute_result"
    }
   ],
   "source": [
    "x = True\n",
    "y = False\n",
    "x or (not y)"
   ]
  },
  {
   "cell_type": "markdown",
   "id": "793c1c58-78fb-4241-9aab-c4f08d3b1af6",
   "metadata": {},
   "source": [
    "#### Truth table\n",
    "\n",
    "Refer to the truth table below to see how operators behave\n",
    "\n",
    "| and       | left operand  | right operand |\n",
    "| --------- | ----- | ----- |\n",
    "| **True**  | True  | False |\n",
    "| **False** | False | False |\n",
    "\n",
    "| or        | left operand  | right operand |\n",
    "| --------- | ----- | ----- |\n",
    "| **True**  | True  | True  |\n",
    "| **False** | True  | False |\n",
    " "
   ]
  },
  {
   "cell_type": "markdown",
   "id": "361185fb-3334-4283-91d2-963976687a42",
   "metadata": {},
   "source": [
    "## Sequence type\n",
    "\n",
    "A sequence type is used to store multiple values a collective structure. There are multiple sequence datatypes in python: Lists, tuples, and dicts\n",
    "\n",
    "### Lists\n",
    "\n",
    "For Python, the basic type for sequences is the `list`.\n",
    "List literals are created with square brackets, `[]`."
   ]
  },
  {
   "cell_type": "code",
   "execution_count": 44,
   "id": "20be871c-8d7b-4f9f-80be-ec9af5f390a4",
   "metadata": {},
   "outputs": [
    {
     "data": {
      "text/plain": [
       "[1, 1, 6, True, 'five']"
      ]
     },
     "execution_count": 44,
     "metadata": {},
     "output_type": "execute_result"
    }
   ],
   "source": [
    "[1,2-1,3+3,True,'five']"
   ]
  },
  {
   "cell_type": "code",
   "execution_count": 42,
   "id": "56f06c02-a96d-47e5-94bd-2adc078cf130",
   "metadata": {},
   "outputs": [
    {
     "data": {
      "text/plain": [
       "[5, 0]"
      ]
     },
     "execution_count": 42,
     "metadata": {},
     "output_type": "execute_result"
    }
   ],
   "source": [
    "[5,0]"
   ]
  },
  {
   "cell_type": "code",
   "execution_count": 43,
   "id": "efee6663-9d79-4448-84cd-c5a8b43fc1a4",
   "metadata": {},
   "outputs": [
    {
     "data": {
      "text/plain": [
       "[]"
      ]
     },
     "execution_count": 43,
     "metadata": {},
     "output_type": "execute_result"
    }
   ],
   "source": [
    "[]"
   ]
  },
  {
   "cell_type": "markdown",
   "id": "c01f1924-d6de-481f-8ffd-0863791e692d",
   "metadata": {},
   "source": [
    "The list `[1,2,3,True,'five']` is a list containing the expressions, `1`,`2`,`3`, True, `'five'`. The expressions in a list are known as its **elements**. The list `[5,0]` is a list containing the elements `5` and `0`. The list `[]` is an empty list. An empty list is a list that doesnt have any elements inside of it. \n",
    "\n",
    "As we can see, the elements inside a list can be expressions of any datatype. And since lists are expressions themselves, we can also put lists inside lists."
   ]
  },
  {
   "cell_type": "code",
   "execution_count": null,
   "id": "07d957b7-a802-427e-bdce-6f9b956b6edf",
   "metadata": {},
   "outputs": [],
   "source": [
    "[[1,2,3,[4]],[],[5,6]]"
   ]
  },
  {
   "cell_type": "markdown",
   "id": "55a66fe4-93c9-4473-ba23-dd21949227f2",
   "metadata": {},
   "source": [
    "Note that while lists can contain a mix of different expression types, it is generally not advisable to create a mixed list. Lists and sequences in general are interacted with as a collective. A mixed collective of different types can result in unexpected behavior and type incompatiblilty."
   ]
  },
  {
   "cell_type": "markdown",
   "id": "6e0066bb-eef6-4117-b3ea-67abc4ff6dba",
   "metadata": {},
   "source": [
    "### Inserting items\n",
    "\n",
    "A lists contents can be changed using append and delete statements. Appending to list means adding an element at the end."
   ]
  },
  {
   "cell_type": "code",
   "execution_count": 45,
   "id": "e38d2e7a-e35a-40d7-9959-00d2c094be0d",
   "metadata": {},
   "outputs": [
    {
     "data": {
      "text/plain": [
       "['Apple', 'Banana', 'Cherry', 'Durian']"
      ]
     },
     "execution_count": 45,
     "metadata": {},
     "output_type": "execute_result"
    }
   ],
   "source": [
    "items = [\"Apple\", \"Banana\", \"Cherry\"]\n",
    "items.append(\"Durian\")\n",
    "items"
   ]
  },
  {
   "cell_type": "markdown",
   "id": "43d4f3d2-8318-4124-a5d8-af4f016f7069",
   "metadata": {},
   "source": [
    "Items can also be inserted in arbitrary positions within a list"
   ]
  },
  {
   "cell_type": "code",
   "execution_count": 46,
   "id": "9b9395cf-5e9c-4220-8d51-9b154725a915",
   "metadata": {},
   "outputs": [
    {
     "data": {
      "text/plain": [
       "['Apple', 'Banana', 'Orange', 'Cherry', 'Durian']"
      ]
     },
     "execution_count": 46,
     "metadata": {},
     "output_type": "execute_result"
    }
   ],
   "source": [
    "items.insert(2, \"Orange\")\n",
    "items"
   ]
  },
  {
   "cell_type": "markdown",
   "id": "09a524a9-ea1a-4bfd-a6f3-0e1e250480f5",
   "metadata": {},
   "source": [
    "Using `items.insert(2,\"Orange\")`, inserts an item in position 2 of the list \n",
    "\n",
    "> Note how the value of the list variable `items` was modified after using `append` and insert"
   ]
  },
  {
   "cell_type": "markdown",
   "id": "551f5c58-1ed2-4267-8e64-de468005f81e",
   "metadata": {},
   "source": [
    "### Retrieving items\n",
    "\n",
    "We can retrieve items from a list using list indexing. An indexing expression retrieves an element of a list at a specified position."
   ]
  },
  {
   "cell_type": "code",
   "execution_count": 47,
   "id": "d8d81c9d-e621-4311-855f-09aeaf5b8fe6",
   "metadata": {},
   "outputs": [
    {
     "data": {
      "text/plain": [
       "'Apple'"
      ]
     },
     "execution_count": 47,
     "metadata": {},
     "output_type": "execute_result"
    }
   ],
   "source": [
    "items[0]"
   ]
  },
  {
   "cell_type": "code",
   "execution_count": 48,
   "id": "2664683c-78c8-4812-a426-98299a67801f",
   "metadata": {},
   "outputs": [
    {
     "data": {
      "text/plain": [
       "'Orange'"
      ]
     },
     "execution_count": 48,
     "metadata": {},
     "output_type": "execute_result"
    }
   ],
   "source": [
    "items[2]"
   ]
  },
  {
   "cell_type": "code",
   "execution_count": 49,
   "id": "10bd3be0-4824-4f76-b02f-52042e62167b",
   "metadata": {},
   "outputs": [
    {
     "data": {
      "text/plain": [
       "'Cherry'"
      ]
     },
     "execution_count": 49,
     "metadata": {},
     "output_type": "execute_result"
    }
   ],
   "source": [
    "i = 3\n",
    "items[i]"
   ]
  },
  {
   "cell_type": "code",
   "execution_count": 50,
   "id": "bf0659ad-f007-45dc-9c0c-e9bc801f3a7d",
   "metadata": {},
   "outputs": [
    {
     "data": {
      "text/plain": [
       "'Orange'"
      ]
     },
     "execution_count": 50,
     "metadata": {},
     "output_type": "execute_result"
    }
   ],
   "source": [
    "items[i-1]"
   ]
  },
  {
   "cell_type": "markdown",
   "id": "753fce16-12b9-4564-abab-bb33425354e7",
   "metadata": {},
   "source": [
    "Indexing with `items[0]` evaluates into the element at position `0` of `items`. Note that lists and other python sequences start at position 0. The first item is located at position 0 (also known as index 0) and the last item is located at position size-1 (also known as index size-1)"
   ]
  },
  {
   "cell_type": "markdown",
   "id": "819e5d5f-4b89-4215-bbed-f7a30cf889d9",
   "metadata": {},
   "source": [
    "### Updating items\n",
    "\n",
    "We can also modify a list by reassigning the value of a specific element. "
   ]
  },
  {
   "cell_type": "code",
   "execution_count": 51,
   "id": "7dcaa1c0-828e-41e4-81ed-7352627bc8f5",
   "metadata": {},
   "outputs": [
    {
     "data": {
      "text/plain": [
       "['Apple', 'Banana', 'Strawberry']"
      ]
     },
     "execution_count": 51,
     "metadata": {},
     "output_type": "execute_result"
    }
   ],
   "source": [
    "items = [\"Apple\", \"Banana\", \"Cherry\"]\n",
    "items[2] = \"Strawberry\"\n",
    "items"
   ]
  },
  {
   "cell_type": "markdown",
   "id": "6e532cb4-01cf-46b1-8cf2-cd375d596b03",
   "metadata": {},
   "source": [
    "Running the cell above will overwrite the element at position 2/index 2 of the list. In this case, 'Orange' is overwritten into 'Strawberry'"
   ]
  },
  {
   "cell_type": "markdown",
   "id": "ec7720ad-ff93-49bd-863d-d45df07071d0",
   "metadata": {},
   "source": [
    "### Deleting items\n",
    "\n",
    "To remove an item from the list, we have `del` and `.remove()`.\n",
    "\n",
    "To remove an item based on a given index, use `del`:"
   ]
  },
  {
   "cell_type": "code",
   "execution_count": 52,
   "id": "566d64cc-fdbf-4acd-9f58-55fe88410b3b",
   "metadata": {},
   "outputs": [],
   "source": [
    "items = [\"Apple\", \"Banana\", \"Cherry\"]\n",
    "del items[1]"
   ]
  },
  {
   "cell_type": "code",
   "execution_count": 53,
   "id": "abee9f6d-acbb-4174-ba45-8db396d57b0b",
   "metadata": {},
   "outputs": [
    {
     "data": {
      "text/plain": [
       "['Apple', 'Cherry']"
      ]
     },
     "execution_count": 53,
     "metadata": {},
     "output_type": "execute_result"
    }
   ],
   "source": [
    "items"
   ]
  },
  {
   "cell_type": "markdown",
   "id": "51fed91e-9d57-4b6d-930d-06534d6a4f94",
   "metadata": {},
   "source": [
    "In the case above, the element at index 1, is `Banana`. Running `del items[1]` deletes the element at index 1 which is `Banana`. When we evaluate items again we see that `Banana` is deleted from `items`"
   ]
  },
  {
   "cell_type": "markdown",
   "id": "2ccf5e97-da9c-432b-8b5f-e50e58fa8dc3",
   "metadata": {},
   "source": [
    "We can also delete items based on value. This is done througn the remove function. This function removes the first item that matches the the specified value"
   ]
  },
  {
   "cell_type": "code",
   "execution_count": 54,
   "id": "b70002b2-6fdf-47b6-9095-7aaf9669bbd8",
   "metadata": {},
   "outputs": [
    {
     "data": {
      "text/plain": [
       "['Apple', 'Banana', 'Cherry']"
      ]
     },
     "execution_count": 54,
     "metadata": {},
     "output_type": "execute_result"
    }
   ],
   "source": [
    "items = ['Apple', 'Cherry', 'Banana', 'Cherry']\n",
    "items.remove('Cherry')\n",
    "items"
   ]
  },
  {
   "cell_type": "markdown",
   "id": "3151d5e4-e66c-4c2b-ae61-742870088d17",
   "metadata": {},
   "source": [
    "Note how the second instance `'Cherry'` is not deleted since `remove` only deletes the first match. \n",
    "\n",
    "### Length\n",
    "\n",
    "You can check the length/size of a list using `len()`. Using it on a list will evaluate to an integer that represents the number of elements in said list."
   ]
  },
  {
   "cell_type": "code",
   "execution_count": 55,
   "id": "fc3b4918-38b0-47ae-9a35-d00f92512e11",
   "metadata": {},
   "outputs": [
    {
     "data": {
      "text/plain": [
       "4"
      ]
     },
     "execution_count": 55,
     "metadata": {},
     "output_type": "execute_result"
    }
   ],
   "source": [
    "len([1,2,3,4])"
   ]
  },
  {
   "cell_type": "code",
   "execution_count": 56,
   "id": "1776d444-3014-4b77-8f45-5b27e85cf771",
   "metadata": {},
   "outputs": [
    {
     "data": {
      "text/plain": [
       "1"
      ]
     },
     "execution_count": 56,
     "metadata": {},
     "output_type": "execute_result"
    }
   ],
   "source": [
    "len([0])"
   ]
  },
  {
   "cell_type": "code",
   "execution_count": 57,
   "id": "d58fba0d-036e-42ac-8c43-1d677c5cf744",
   "metadata": {},
   "outputs": [
    {
     "data": {
      "text/plain": [
       "3"
      ]
     },
     "execution_count": 57,
     "metadata": {},
     "output_type": "execute_result"
    }
   ],
   "source": [
    "len(items)"
   ]
  },
  {
   "cell_type": "markdown",
   "id": "f5a844f5-8c25-458a-affe-c7d4ff37f95e",
   "metadata": {},
   "source": [
    "### Concatenation\n",
    "\n",
    "You can concatenate 2 list expressions together to form a new list. The process works similarly as string concatenation. It will evaluate into a new list where the elements of the right operand is attached to the end of the left operand"
   ]
  },
  {
   "cell_type": "code",
   "execution_count": 58,
   "id": "645b8432-c5a6-4b00-ba84-0e3a4c06a5f2",
   "metadata": {},
   "outputs": [
    {
     "data": {
      "text/plain": [
       "[1, 2, 3, 4, 5]"
      ]
     },
     "execution_count": 58,
     "metadata": {},
     "output_type": "execute_result"
    }
   ],
   "source": [
    "[1,2,3] + [4,5]"
   ]
  },
  {
   "cell_type": "code",
   "execution_count": 62,
   "id": "66788c77-6c84-45f9-9cda-12c7d7455e20",
   "metadata": {},
   "outputs": [],
   "source": [
    "items1 = ['Apple','Banana','Cherry']\n",
    "items2 = ['Durian']\n",
    "longerList = items1 + items2"
   ]
  },
  {
   "cell_type": "markdown",
   "id": "dabee4f3-6568-436c-85db-f7635834c85a",
   "metadata": {},
   "source": [
    "Unlike `append()`, using concatenation does not change the values of the original list. The concatenation expression evaluates into a new combined list"
   ]
  },
  {
   "cell_type": "code",
   "execution_count": 60,
   "id": "c824689d-9033-4131-a39e-ee99a39c96ed",
   "metadata": {},
   "outputs": [
    {
     "data": {
      "text/plain": [
       "['Apple', 'Banana', 'Cherry']"
      ]
     },
     "execution_count": 60,
     "metadata": {},
     "output_type": "execute_result"
    }
   ],
   "source": [
    "items1"
   ]
  },
  {
   "cell_type": "code",
   "execution_count": 61,
   "id": "e39b7434-1f87-44a0-a8ba-f7ad62c0cedf",
   "metadata": {},
   "outputs": [
    {
     "data": {
      "text/plain": [
       "['Durian']"
      ]
     },
     "execution_count": 61,
     "metadata": {},
     "output_type": "execute_result"
    }
   ],
   "source": [
    "items2"
   ]
  },
  {
   "cell_type": "code",
   "execution_count": 63,
   "id": "8a832950-ff44-42d0-92a0-cfb0fd560e3f",
   "metadata": {},
   "outputs": [
    {
     "data": {
      "text/plain": [
       "['Apple', 'Banana', 'Cherry', 'Durian']"
      ]
     },
     "execution_count": 63,
     "metadata": {},
     "output_type": "execute_result"
    }
   ],
   "source": [
    "longerList"
   ]
  },
  {
   "cell_type": "markdown",
   "id": "492aac5f-36be-4ce3-9ebf-b019573f91d1",
   "metadata": {},
   "source": [
    "## Tuples\n",
    "\n",
    "Python tuples are just like the Python list, except that they are **immutable**. That is, they are lists that cannot be modified after creation.\n",
    "\n",
    "We can create a tuple by separating values with a `,`:"
   ]
  },
  {
   "cell_type": "code",
   "execution_count": 65,
   "id": "f5355870-f08d-4f05-88ea-7f211a1fb169",
   "metadata": {},
   "outputs": [
    {
     "data": {
      "text/plain": [
       "(1, 2)"
      ]
     },
     "execution_count": 65,
     "metadata": {},
     "output_type": "execute_result"
    }
   ],
   "source": [
    "(1,2)"
   ]
  },
  {
   "cell_type": "markdown",
   "id": "9b726f50-fd81-49ff-99ce-b4e835de3cc5",
   "metadata": {},
   "source": [
    "> Python represents tuples as parentheses. You can also use parentheses on your tuples to make it more readable"
   ]
  },
  {
   "cell_type": "markdown",
   "id": "0f29ca89-2fb8-4da8-8f5d-b1e8be84358f",
   "metadata": {},
   "source": [
    "Reviewing the list operations discussed above, we can use operations on tuples that do not result in some form of modification. Retrieval, length, and concatenation are allowed"
   ]
  },
  {
   "cell_type": "code",
   "execution_count": 66,
   "id": "43623b83-fb6f-4673-b39d-4a9512c18aea",
   "metadata": {},
   "outputs": [
    {
     "data": {
      "text/plain": [
       "1.2"
      ]
     },
     "execution_count": 66,
     "metadata": {},
     "output_type": "execute_result"
    }
   ],
   "source": [
    "coords = 3.1,1.2\n",
    "coords[1]"
   ]
  },
  {
   "cell_type": "code",
   "execution_count": 67,
   "id": "9268bb11-38ea-4b3c-9a5e-891a06071b0d",
   "metadata": {},
   "outputs": [
    {
     "data": {
      "text/plain": [
       "2"
      ]
     },
     "execution_count": 67,
     "metadata": {},
     "output_type": "execute_result"
    }
   ],
   "source": [
    "len(coords)"
   ]
  },
  {
   "cell_type": "code",
   "execution_count": 70,
   "id": "09f9d3d6-a788-41fa-bcb1-d365fbca4232",
   "metadata": {},
   "outputs": [
    {
     "data": {
      "text/plain": [
       "(3.1, 1.2, 2.1)"
      ]
     },
     "execution_count": 70,
     "metadata": {},
     "output_type": "execute_result"
    }
   ],
   "source": [
    "coords + (2.1,)"
   ]
  },
  {
   "cell_type": "markdown",
   "id": "8e31fd00-b33b-4a8c-908b-7444856d114b",
   "metadata": {},
   "source": [
    "> The expression `(2.1,)` is evaluated as a tuple with one element. Just writing `2.1` will evaluate into a float\n",
    "\n",
    "Appending, deletion, removal, and insertion are not allowed"
   ]
  },
  {
   "cell_type": "code",
   "execution_count": 71,
   "id": "0e25c8fe-3461-4a28-8dd6-70c1f661494a",
   "metadata": {},
   "outputs": [
    {
     "ename": "AttributeError",
     "evalue": "'tuple' object has no attribute 'append'",
     "output_type": "error",
     "traceback": [
      "\u001b[1;31m---------------------------------------------------------------------------\u001b[0m",
      "\u001b[1;31mAttributeError\u001b[0m                            Traceback (most recent call last)",
      "Cell \u001b[1;32mIn[71], line 1\u001b[0m\n\u001b[1;32m----> 1\u001b[0m \u001b[43mcoords\u001b[49m\u001b[38;5;241;43m.\u001b[39;49m\u001b[43mappend\u001b[49m(\u001b[38;5;241m4.0\u001b[39m)\n",
      "\u001b[1;31mAttributeError\u001b[0m: 'tuple' object has no attribute 'append'"
     ]
    }
   ],
   "source": [
    "coords.append(4.0)"
   ]
  },
  {
   "cell_type": "code",
   "execution_count": 72,
   "id": "8de39d85-92f6-402a-bac0-705cb6c39535",
   "metadata": {},
   "outputs": [
    {
     "ename": "TypeError",
     "evalue": "'tuple' object doesn't support item deletion",
     "output_type": "error",
     "traceback": [
      "\u001b[1;31m---------------------------------------------------------------------------\u001b[0m",
      "\u001b[1;31mTypeError\u001b[0m                                 Traceback (most recent call last)",
      "Cell \u001b[1;32mIn[72], line 1\u001b[0m\n\u001b[1;32m----> 1\u001b[0m \u001b[38;5;28;01mdel\u001b[39;00m \u001b[43mcoords\u001b[49m\u001b[43m[\u001b[49m\u001b[38;5;241;43m1\u001b[39;49m\u001b[43m]\u001b[49m\n",
      "\u001b[1;31mTypeError\u001b[0m: 'tuple' object doesn't support item deletion"
     ]
    }
   ],
   "source": [
    "del coords[1]"
   ]
  },
  {
   "cell_type": "code",
   "execution_count": 73,
   "id": "a7a41298-0bb7-4af4-8e27-f843b717d796",
   "metadata": {},
   "outputs": [
    {
     "ename": "AttributeError",
     "evalue": "'tuple' object has no attribute 'remove'",
     "output_type": "error",
     "traceback": [
      "\u001b[1;31m---------------------------------------------------------------------------\u001b[0m",
      "\u001b[1;31mAttributeError\u001b[0m                            Traceback (most recent call last)",
      "Cell \u001b[1;32mIn[73], line 1\u001b[0m\n\u001b[1;32m----> 1\u001b[0m \u001b[43mcoords\u001b[49m\u001b[38;5;241;43m.\u001b[39;49m\u001b[43mremove\u001b[49m(\u001b[38;5;241m2.1\u001b[39m)\n",
      "\u001b[1;31mAttributeError\u001b[0m: 'tuple' object has no attribute 'remove'"
     ]
    }
   ],
   "source": [
    "coords.remove(2.1)"
   ]
  },
  {
   "cell_type": "code",
   "execution_count": 74,
   "id": "9083c670-ef7b-435c-b95b-546a086f136d",
   "metadata": {},
   "outputs": [
    {
     "ename": "AttributeError",
     "evalue": "'tuple' object has no attribute 'insert'",
     "output_type": "error",
     "traceback": [
      "\u001b[1;31m---------------------------------------------------------------------------\u001b[0m",
      "\u001b[1;31mAttributeError\u001b[0m                            Traceback (most recent call last)",
      "Cell \u001b[1;32mIn[74], line 1\u001b[0m\n\u001b[1;32m----> 1\u001b[0m \u001b[43mcoords\u001b[49m\u001b[38;5;241;43m.\u001b[39;49m\u001b[43minsert\u001b[49m(\u001b[38;5;241m0\u001b[39m,\u001b[38;5;241m0.1\u001b[39m)\n",
      "\u001b[1;31mAttributeError\u001b[0m: 'tuple' object has no attribute 'insert'"
     ]
    }
   ],
   "source": [
    "coords.insert(0,0.1)"
   ]
  },
  {
   "cell_type": "markdown",
   "id": "a1cb33bd-b189-4121-a8f4-6093ebd01e50",
   "metadata": {},
   "source": [
    "### Strings as tuples\n",
    "\n",
    "As is turns out, string expressions are similar to tuples of characters. You can interact with a string expression just like you will any tuple expression. Just keep in mind that the elements of a string can only be single characters."
   ]
  },
  {
   "cell_type": "code",
   "execution_count": 75,
   "id": "17fb216b-cb59-42dc-969b-723baa28c424",
   "metadata": {},
   "outputs": [
    {
     "data": {
      "text/plain": [
       "'a'"
      ]
     },
     "execution_count": 75,
     "metadata": {},
     "output_type": "execute_result"
    }
   ],
   "source": [
    "word = 'snakes'\n",
    "word[2]"
   ]
  },
  {
   "cell_type": "code",
   "execution_count": 76,
   "id": "181907ba-e23d-4fc6-b6b0-370024433dcf",
   "metadata": {},
   "outputs": [
    {
     "data": {
      "text/plain": [
       "6"
      ]
     },
     "execution_count": 76,
     "metadata": {},
     "output_type": "execute_result"
    }
   ],
   "source": [
    "len(word)"
   ]
  },
  {
   "cell_type": "markdown",
   "id": "27c21163-8e32-448c-937d-e10f9913edd4",
   "metadata": {},
   "source": [
    "### Packing and unpacking\n",
    "\n",
    "We've already seen what's called *tuple packing*."
   ]
  },
  {
   "cell_type": "code",
   "execution_count": null,
   "id": "0f6abf43-98c5-4870-9478-34bc7c1748dc",
   "metadata": {},
   "outputs": [],
   "source": [
    "coords = 2.1, 0.3, -5.0\n",
    "coords"
   ]
  },
  {
   "cell_type": "markdown",
   "id": "6a029244-84a7-40a4-a5a4-80bd382eeea8",
   "metadata": {},
   "source": [
    "The above statement packs the 3 values together down into a tuple and then assigns it to `coords`.\n",
    "\n",
    "The reverse is also possible, called *sequence unpacking*.\n",
    "\n",
    "Here's an example of a sequence unpack:"
   ]
  },
  {
   "cell_type": "code",
   "execution_count": 77,
   "id": "ea34e3f9-3d20-4967-a6e9-cdec5131dd4f",
   "metadata": {},
   "outputs": [
    {
     "data": {
      "text/plain": [
       "2.5"
      ]
     },
     "execution_count": 77,
     "metadata": {},
     "output_type": "execute_result"
    }
   ],
   "source": [
    "x,y = (2.5,13.1)\n",
    "x"
   ]
  },
  {
   "cell_type": "code",
   "execution_count": 78,
   "id": "b1f1828b-0d07-4676-b3fb-82d46c58bab7",
   "metadata": {},
   "outputs": [
    {
     "data": {
      "text/plain": [
       "13.1"
      ]
     },
     "execution_count": 78,
     "metadata": {},
     "output_type": "execute_result"
    }
   ],
   "source": [
    "y"
   ]
  },
  {
   "cell_type": "code",
   "execution_count": 80,
   "id": "043e9b5d-77a1-44b5-bb24-7307d6ec0fa3",
   "metadata": {},
   "outputs": [
    {
     "data": {
      "text/plain": [
       "(3.1, 1.2)"
      ]
     },
     "execution_count": 80,
     "metadata": {},
     "output_type": "execute_result"
    }
   ],
   "source": [
    "coords"
   ]
  },
  {
   "cell_type": "code",
   "execution_count": 79,
   "id": "9e41674e-cb2a-48ae-a9cb-4d81610edf23",
   "metadata": {},
   "outputs": [
    {
     "ename": "ValueError",
     "evalue": "not enough values to unpack (expected 3, got 2)",
     "output_type": "error",
     "traceback": [
      "\u001b[1;31m---------------------------------------------------------------------------\u001b[0m",
      "\u001b[1;31mValueError\u001b[0m                                Traceback (most recent call last)",
      "Cell \u001b[1;32mIn[79], line 1\u001b[0m\n\u001b[1;32m----> 1\u001b[0m a,b,c \u001b[38;5;241m=\u001b[39m coords\n\u001b[0;32m      2\u001b[0m a\n",
      "\u001b[1;31mValueError\u001b[0m: not enough values to unpack (expected 3, got 2)"
     ]
    }
   ],
   "source": [
    "a,b,c = coords\n",
    "a"
   ]
  },
  {
   "cell_type": "markdown",
   "id": "314c4b4e-9866-46c5-afc6-37aba91cb794",
   "metadata": {},
   "source": [
    "The tuple on the right-hand side is unpacked and assigned into the variables `x` and `y`.\n",
    "`x` gets assigned `2.5` and `y` is assigned `13.1`.\n",
    "\n",
    "Sequence unpacking requires the correct number of left-hand side variables to the number of right-hand side items.\n",
    "\n",
    "Note that it's called *sequence* unpacking.\n",
    "This means it also works for other sequences, such as lists and even `str`."
   ]
  },
  {
   "cell_type": "markdown",
   "id": "a97e51c7-59fe-4a1f-86e6-3b9e220989b1",
   "metadata": {},
   "source": [
    "## Dictionaries\n",
    "\n",
    "Dictionaries allow us to map almost arbitrary keys to values.\n",
    "For now, we can think of dictionaries as lists that allow us to \"index\" by a key. Unlike lists these keys do not have to be integers, it can be any hashable[^hashable] expression.\n",
    "\n",
    "[^hashable]: https://docs.python.org/3/glossary.html#term-hashable\n",
    "\n",
    "> Hashable values are values that are immutable, such as `int`, `float`, `str`, and other types that at least implement the `__hash__()` method. \n",
    "\n",
    "Dictionaries are created with `{}`.\n",
    "Each key-value entry of the dictionary is separated by a `:`, with the key on the left and its value to the right."
   ]
  },
  {
   "cell_type": "code",
   "execution_count": null,
   "id": "d812e187-b6c7-43c4-835a-805021dd5f35",
   "metadata": {},
   "outputs": [],
   "source": [
    "{\"one\": 1, \"two\": 2, \"three\": 3, \"four\": 4}"
   ]
  },
  {
   "cell_type": "markdown",
   "id": "deb95690-6cf4-4f08-91d6-17abf1ba36e3",
   "metadata": {
    "scrolled": true
   },
   "source": [
    "In the dictionary above, we use the string expression `\"one\"` as the key for the value `1`, `\"two\"` as the key for the value `2`, and so on. Similar to lists, tuples, and strings, we can retrieve values by indexing using the keys"
   ]
  },
  {
   "cell_type": "code",
   "execution_count": 82,
   "id": "a6e182f9-a79b-45d0-9dd5-d3f29d60d883",
   "metadata": {},
   "outputs": [
    {
     "data": {
      "text/plain": [
       "3"
      ]
     },
     "execution_count": 82,
     "metadata": {},
     "output_type": "execute_result"
    }
   ],
   "source": [
    "data = {\"name\": \"Fish\", \"quantity\": 3, \"price\": 412.25}\n",
    "data[\"quantity\"]"
   ]
  },
  {
   "cell_type": "code",
   "execution_count": 84,
   "id": "9b8b9c6d-a718-4198-881f-30f0b1ac5e98",
   "metadata": {},
   "outputs": [
    {
     "data": {
      "text/plain": [
       "412.25"
      ]
     },
     "execution_count": 84,
     "metadata": {},
     "output_type": "execute_result"
    }
   ],
   "source": [
    "key = \"price\"\n",
    "data[key]"
   ]
  },
  {
   "cell_type": "markdown",
   "id": "ae200d25-a718-4c1d-809e-2886b355cdbf",
   "metadata": {},
   "source": [
    "The expression `data[\"name\"]` retrieves the item associated to the key `\"name\"`, which in this case is `\"Fish\"`."
   ]
  },
  {
   "cell_type": "markdown",
   "id": "525b6d9a-7b71-496d-a706-9a08a26fc44d",
   "metadata": {},
   "source": [
    "Adding an entry to the dictionary is also done by first retrieving an item using indexing and assigning a value to it."
   ]
  },
  {
   "cell_type": "code",
   "execution_count": 85,
   "id": "2ef7a581-788f-49b8-8ca6-9140e1e7491c",
   "metadata": {},
   "outputs": [
    {
     "data": {
      "text/plain": [
       "{'name': 'Fish', 'quantity': 3, 'price': 412.25, 'date': '2 Feb 2024'}"
      ]
     },
     "execution_count": 85,
     "metadata": {},
     "output_type": "execute_result"
    }
   ],
   "source": [
    "data[\"date\"] = \"2 Feb 2024\"\n",
    "data"
   ]
  },
  {
   "cell_type": "markdown",
   "id": "f4b7a157-6436-4c4e-9843-cb452e377268",
   "metadata": {},
   "source": [
    "Updating is done the exact same way, but this time we retrieve an already existing entry and then reassigning a new value to it:"
   ]
  },
  {
   "cell_type": "code",
   "execution_count": 86,
   "id": "47a1a6aa-7337-4d8e-8d70-47bf93e73ce1",
   "metadata": {},
   "outputs": [
    {
     "data": {
      "text/plain": [
       "412.25"
      ]
     },
     "execution_count": 86,
     "metadata": {},
     "output_type": "execute_result"
    }
   ],
   "source": [
    "data[\"price\"]"
   ]
  },
  {
   "cell_type": "code",
   "execution_count": 87,
   "id": "5597940e-e242-45c8-9a78-b8c6f6be5ed5",
   "metadata": {},
   "outputs": [
    {
     "data": {
      "text/plain": [
       "{'name': 'Fish', 'quantity': 3, 'price': 450.0, 'date': '2 Feb 2024'}"
      ]
     },
     "execution_count": 87,
     "metadata": {},
     "output_type": "execute_result"
    }
   ],
   "source": [
    "data[\"price\"] = 450.00\n",
    "data"
   ]
  },
  {
   "cell_type": "code",
   "execution_count": null,
   "id": "73498bfe-58ae-4d0b-8f0b-60ff1f3e003c",
   "metadata": {},
   "outputs": [],
   "source": [
    "data[\"price\"]"
   ]
  },
  {
   "cell_type": "markdown",
   "id": "4a694b24-167e-4a56-a9cc-5ce4ae1b9ec5",
   "metadata": {},
   "source": [
    "Deleting a key is done with `del`:"
   ]
  },
  {
   "cell_type": "code",
   "execution_count": 88,
   "id": "9351fb24-3792-4cb6-906e-68e32912687b",
   "metadata": {},
   "outputs": [
    {
     "data": {
      "text/plain": [
       "{'name': 'Fish', 'quantity': 3, 'price': 450.0}"
      ]
     },
     "execution_count": 88,
     "metadata": {},
     "output_type": "execute_result"
    }
   ],
   "source": [
    "del data[\"date\"]\n",
    "data"
   ]
  },
  {
   "cell_type": "code",
   "execution_count": 89,
   "id": "ac6eb2ea-1b69-4406-bb02-008a054796ed",
   "metadata": {},
   "outputs": [
    {
     "ename": "KeyError",
     "evalue": "'date'",
     "output_type": "error",
     "traceback": [
      "\u001b[1;31m---------------------------------------------------------------------------\u001b[0m",
      "\u001b[1;31mKeyError\u001b[0m                                  Traceback (most recent call last)",
      "Cell \u001b[1;32mIn[89], line 1\u001b[0m\n\u001b[1;32m----> 1\u001b[0m \u001b[43mdata\u001b[49m\u001b[43m[\u001b[49m\u001b[38;5;124;43m\"\u001b[39;49m\u001b[38;5;124;43mdate\u001b[39;49m\u001b[38;5;124;43m\"\u001b[39;49m\u001b[43m]\u001b[49m\n",
      "\u001b[1;31mKeyError\u001b[0m: 'date'"
     ]
    }
   ],
   "source": [
    "data[\"date\"]"
   ]
  },
  {
   "cell_type": "markdown",
   "id": "00b1e58c-dc5d-4feb-b04f-4a72638fe3fd",
   "metadata": {},
   "source": [
    "> Now that the entry associated to `\"date\"` is now delete. Trying to retrieve it through indexing will cause a KeyError"
   ]
  },
  {
   "cell_type": "markdown",
   "id": "b7cfa18c-9344-4b91-b2fb-6381794fcdf6",
   "metadata": {},
   "source": [
    "## Type compatibility\n",
    "\n",
    "When it comes to expressions with operations, we must take into account if the operation is compatible with the dataype of the operands and vice versa. For example, we can expect that the addition operation (`+`) is compatible with numeric types."
   ]
  },
  {
   "cell_type": "code",
   "execution_count": null,
   "id": "dc9e47c3-04ee-4f9c-89ac-48f72071a33f",
   "metadata": {},
   "outputs": [],
   "source": [
    "1 + 2"
   ]
  },
  {
   "cell_type": "code",
   "execution_count": null,
   "id": "b5742f8c-2c73-4392-9be6-84704f667c21",
   "metadata": {},
   "outputs": [],
   "source": [
    "2.0 + 1.1"
   ]
  },
  {
   "cell_type": "code",
   "execution_count": null,
   "id": "cb3037e2-387f-490f-9133-7845925ae301",
   "metadata": {},
   "outputs": [],
   "source": [
    "1 + 2.2"
   ]
  },
  {
   "cell_type": "markdown",
   "id": "3530fcaa-9142-4c77-9eb6-f16ba6a6d27d",
   "metadata": {},
   "source": [
    "Some operation-operand combinations are not compatible, an example of this is discussed earlier, strings and (`-`)"
   ]
  },
  {
   "cell_type": "code",
   "execution_count": null,
   "id": "6d55d15c-a9b1-4aad-ab4c-62ba9b6c0708",
   "metadata": {},
   "outputs": [],
   "source": [
    "'abc' - 'a'"
   ]
  },
  {
   "cell_type": "markdown",
   "id": "686ec8d0-2923-4e20-a95b-31b4891a6ab7",
   "metadata": {},
   "source": [
    "Trying to evaluate incompatibile expressions will cause a `TypeError` as seen above"
   ]
  },
  {
   "cell_type": "markdown",
   "id": "6a4e1f93-642e-439e-9bd4-5e50b9be7b90",
   "metadata": {},
   "source": [
    "Sometimes you might expect values to be compatible but they are actually not"
   ]
  },
  {
   "cell_type": "code",
   "execution_count": null,
   "id": "751491f5-104f-4b49-9ddd-3299dcdf0fbb",
   "metadata": {},
   "outputs": [],
   "source": [
    "'123' + 4"
   ]
  },
  {
   "cell_type": "markdown",
   "id": "c082bb3a-ea3d-4738-81b5-c30fd601f950",
   "metadata": {},
   "source": [
    "In cases like this if you concatenate the two expression, you must expliciltly apply the necessary coercions"
   ]
  },
  {
   "cell_type": "code",
   "execution_count": null,
   "id": "975fed47-f50a-46ad-a645-8b78043939ce",
   "metadata": {},
   "outputs": [],
   "source": [
    "'123' + str(4)"
   ]
  },
  {
   "cell_type": "markdown",
   "id": "87beba21-52ca-497b-bde2-723d17064b0b",
   "metadata": {},
   "source": [
    "Or if you were intending to add"
   ]
  },
  {
   "cell_type": "code",
   "execution_count": null,
   "id": "bc2665fb-59bf-4160-9f10-7dfc086aa034",
   "metadata": {},
   "outputs": [],
   "source": [
    "int('123') + 4"
   ]
  },
  {
   "cell_type": "markdown",
   "id": "398d1281-8ca3-4977-a815-64fdd13e60b6",
   "metadata": {},
   "source": [
    "In some cases, you migh expect types to be incompatible but in fact they actually are"
   ]
  },
  {
   "cell_type": "code",
   "execution_count": null,
   "id": "4e07548a-e612-49dc-86bd-0bee2fada1ef",
   "metadata": {},
   "outputs": [],
   "source": [
    "True + True"
   ]
  },
  {
   "cell_type": "markdown",
   "id": "5abae9f7-7ec0-4326-9a39-e874860e1839",
   "metadata": {},
   "source": [
    "> When using numeric operations, python coerces booleans into their integer representations. `True` is coerced into `1` and `False` is coerced into 0"
   ]
  },
  {
   "cell_type": "code",
   "execution_count": null,
   "id": "6b1fd60e-24a4-4f63-a732-f42e196f7080",
   "metadata": {},
   "outputs": [],
   "source": [
    "(True * 3) + False"
   ]
  },
  {
   "cell_type": "markdown",
   "id": "69f610fc-b595-43bd-b3cf-9f897c29e9a7",
   "metadata": {},
   "source": [
    "## Python Operators Overview\n",
    "\n",
    "You can refer to the following table for a list of all the operators available in python:\n",
    "\n",
    "### Arithmetic\n",
    "\n",
    "These operators are mainly used for numerical calculations. But can also be used for non-numerical expressions (e.g. addition as concatenation, multiplication as repetition).\n",
    "\n",
    "\n",
    "| Operator | Name              | Example | Evaluation         |\n",
    "| -------- | ----------------- | ------- | ------------------ |\n",
    "| `+`        | Addition          | `10 + 3`  | `13`                 |\n",
    "| `-`        | Subtraction       | `10 - 3`  | `7`                  |\n",
    "| `*`        | Multiplication    | `10 * 3`  | `30`                 |\n",
    "| `/`        | Division          | `10 / 3`  | `3.3333333333333335` |\n",
    "| `%`        | Modulus/Remainder | `10 % 3`  | `1`                  |\n",
    "| `**`       | Exponentiation    | `10 ** 3` | `1000`               |\n",
    "| `//`       | Floor division    | `10 // 3` | `3`                  |\n",
    "\n",
    "\n",
    "\n",
    "### Assignment \n",
    "\n",
    "These operators change the values of the variables on the left hand side\n",
    "\n",
    "| Operator | Example       | Same As         |\n",
    "| -------- | ------------- | --------------- |\n",
    "| `=`        | `x = 5`         | `x = 5`           |\n",
    "| `+=`       | `x += 3`        | `x = x + 3`       |\n",
    "| `-=`       | `x -= 3`        | `x = x - 3`       |\n",
    "| `*=`       | `x *= 3`        | `x = x * 3`       |\n",
    "| `/=`       | `x /= 3`        | `x = x / 3`       |\n",
    "| `%=`       | `x %= 3`        | `x = x % 3`       |\n",
    "| `//=`      | `x //= 3`       | `x = x // 3`      |\n",
    "| `**=`      | `x **= 3`       | `x = x ** 3`      |\n",
    "| `&=`       | `x &= 3`        | `x = x & 3`       |\n",
    "| `\\|=`      | `x \\|= 3`       | `x = x \\| 3`      |\n",
    "| `^=`       | `x ^= 3`        | `x = x ^ 3`       |\n",
    "| `>>=`      | `x >>= 3`       | `x = x >> 3`      |\n",
    "| `<<=`      | `x <<= 3`       | `x = x << 3`      |\n",
    "| `:=`       | `print(x := 3)` | `x = 3`, `print(x)` |\n",
    "\n",
    "### Comparison operator\n",
    "\n",
    "These operators compare comparable types (like ints and floats) and returns a boolean literals depending on the comparison\n",
    "\n",
    "| Operator | Name                     | Example   | Evaluation |\n",
    "| -------- | ------------------------ | --------- | ---------- |\n",
    "| `==`     | Equal                    | `10 == 3` | `False`    |\n",
    "| `!=`     | Not equal                | `10 != 3` | `True`     |\n",
    "| `>`      | Greater than             | `10 > 3`  | `True`     |\n",
    "| `<`      | Less than                | `10 < 3`  | `False`    |\n",
    "| `>=`     | Greater than or equal to | `10 >= 3` | `True`     |\n",
    "| `<=`     | Less than or equal to    | `10 <= 3` | `False`    |\n",
    "\n",
    "### Boolean operators\n",
    "\n",
    "These operators are used on boolean expressions\n",
    "\n",
    "| Operator | Description                                               | Example          | Evaluation |\n",
    "| -------- | --------------------------------------------------------- | ---------------- | ---------- |\n",
    "| `and`    | `True` if left and right evaluate to `True`               | `True and False` | `False`    |\n",
    "| `or`     | `True` if at least one of the expressions evaluate `True` | `True or False`  | `True`     |\n",
    "| `not`    | Negate the result                                         | `not True`       | `False`    |\n",
    "\n",
    "### Identity operators\n",
    "\n",
    "These operators are used to check if the left operand evaluate into the same instance as the right operand (more about instances in a future discussion)\n",
    "\n",
    "\n",
    "| Operator | Description                               | Example      |\n",
    "| -------- | ----------------------------------------- | ------------ |\n",
    "| `is`     | evaluates `True` of left is the same as right | `x is y`     |\n",
    "| `is not` | evaluates `False` if left is the same as right | `x is not y` |\n",
    "\n",
    "### Membership operators\n",
    "\n",
    "These operators are used to check if the left operand is a member of the right operand. Right operand can be sequence types like lists,tuples,strings, and dicts\n",
    "\n",
    "| Operator | Description                                    | Example            | Evaluation |\n",
    "| -------- | ---------------------------------------------- | ------------------ | ---------- |\n",
    "| `in`     | evaluates `True` of left is a member of right  | `1 in [1,2,3]`     | `True`     |\n",
    "| `not in` | evaluates `False` if left is a member of right | `1 not in [1,2,3]` | `False`     |\n",
    "\n",
    "### Operator precedence\n",
    "\n",
    "As discussed in the the topic Expressions, ambiguous expressions are evaluate based on precedence rules. The following table arranges these operators in decreasing priority. Operations on the top of the table are prioritized first.\n",
    "\n",
    "| Operator                                                     | Description                                           |\n",
    "| ------------------------------------------------------------ | ----------------------------------------------------- |\n",
    "| `()`                                                         | Parentheses                                           |\n",
    "| `**`                                                         | Exponentiation                                        |\n",
    "| `+x`   `-x`   `~x`                                           | Unary plus, unary minus, and bitwise NOT              |\n",
    "| `*`   `/`   `//`   `%`                                       | Multiplication, division, floor division, and modulus |\n",
    "| `+`   `-`                                                    | Addition and subtraction                              |\n",
    "| `==`   `!=`   `>`   `>=`   `<`   `<=`   `is`   `is not`   `in`   `not in` | Comparisons, identity, and membership operators       |\n",
    "| `not`                                                        | NOT                                                   |\n",
    "| `and`                                                        | AND                                                   |\n",
    "| `or`                                                         | OR                                                    |"
   ]
  }
 ],
 "metadata": {
  "kernelspec": {
   "display_name": "Python 3 (ipykernel)",
   "language": "python",
   "name": "python3"
  },
  "language_info": {
   "codemirror_mode": {
    "name": "ipython",
    "version": 3
   },
   "file_extension": ".py",
   "mimetype": "text/x-python",
   "name": "python",
   "nbconvert_exporter": "python",
   "pygments_lexer": "ipython3",
   "version": "3.12.3"
  }
 },
 "nbformat": 4,
 "nbformat_minor": 5
}
