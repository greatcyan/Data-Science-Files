{
 "cells": [
  {
   "cell_type": "markdown",
   "id": "ec7016b4-33f4-4701-b25f-bdcbb11f6711",
   "metadata": {},
   "source": [
    "# Expressions\n",
    "Expressions are the building blocks of programming. It is used to represent values. It can also be combined with other expressions to create more expressions."
   ]
  },
  {
   "cell_type": "markdown",
   "id": "2e775945-bc2e-4c16-b26d-6865f85ce38b",
   "metadata": {},
   "source": [
    "## Literals\n",
    "\n",
    "Literals are the simplest forms of expressions. Just like any expression, literals represent some type of value. Literals are values that represent their value in a 'literal' sense. See the examples below. These expressions are literals"
   ]
  },
  {
   "cell_type": "code",
   "execution_count": null,
   "id": "76916ec1-801a-4503-9328-11656c2a616a",
   "metadata": {},
   "outputs": [],
   "source": [
    "4"
   ]
  },
  {
   "cell_type": "code",
   "execution_count": null,
   "id": "dbaac278-3308-4db7-b0b5-04308197bd90",
   "metadata": {},
   "outputs": [],
   "source": [
    "\"this\""
   ]
  },
  {
   "cell_type": "code",
   "execution_count": null,
   "id": "2cd3dfe4-d91a-470b-8120-3b82c0225563",
   "metadata": {},
   "outputs": [],
   "source": [
    "False"
   ]
  },
  {
   "cell_type": "markdown",
   "id": "8c77a3bf-9e94-4b2d-8947-db896d81fadc",
   "metadata": {},
   "source": [
    "You can see why they represent their value in a *literal* sense. The literal `2` *literally* represents the integer value 2. The literal `this` represents the word `this`. As seen in the examples above, literals (and expressions in general) can come in the form of numbers, words, truth values, and more. We will learn about the different types of values expressions can be in the topic **Datatypes**."
   ]
  },
  {
   "cell_type": "markdown",
   "id": "69552d92-f424-4487-a501-d922c3a924fb",
   "metadata": {},
   "source": [
    "## Combining Expressions\n",
    "Expression in python and programming are patterned after mathematical expressions. In the same way you can combine mathematical expressions, you can also combine programming expressions based on predefined rules. For example we can combine two integer literal expressions using addition and we will get a compound expression"
   ]
  },
  {
   "cell_type": "code",
   "execution_count": 4,
   "id": "e9fee733-b24f-462d-bb7d-6fbbaf07f83e",
   "metadata": {},
   "outputs": [
    {
     "data": {
      "text/plain": [
       "-1"
      ]
     },
     "execution_count": 4,
     "metadata": {},
     "output_type": "execute_result"
    }
   ],
   "source": [
    "2 + 1 - 4"
   ]
  },
  {
   "cell_type": "markdown",
   "id": "61e3028a-15d9-45d9-9f2c-becc6f0399f7",
   "metadata": {},
   "source": [
    "The expression `2 + 1` is a combination of the literals `2` and `1` using addition. The expression is combined using addition through the use of the operator `+`.\n",
    "\n",
    "As you can see when you run the cell above, it produces an output of `3`. When you run said cell, you tell python to evaluate the expression `2 + 1`. The evaluation of `2 + 1` is simply the sum `3`. \n",
    "\n",
    "Since `2 + 1` is also an expression, we can also combine it with other expressions through operations."
   ]
  },
  {
   "cell_type": "code",
   "execution_count": 5,
   "id": "77df023a-3c83-491e-a4f5-3fd33a9c05ba",
   "metadata": {},
   "outputs": [
    {
     "data": {
      "text/plain": [
       "-1"
      ]
     },
     "execution_count": 5,
     "metadata": {},
     "output_type": "execute_result"
    }
   ],
   "source": [
    "2 + 1 - 4"
   ]
  },
  {
   "cell_type": "markdown",
   "id": "7ae8e9da-c4b5-4575-82af-85ecb0c7ef22",
   "metadata": {},
   "source": [
    "When working with multiple operations in one expression, python follows predefined rules of precedence. On operators with the same amount of priority such as `+` and `-` in the cell above, python will combine the expressions from left to right. It will evaluate the leftmost expression first. In the case above it evaluates `2 + 1` into 3 and then evaluates `3 - 4` into -1.\n",
    "\n",
    "In other cases some operators will take priority over other operators, regardless if it is to the left or to the right."
   ]
  },
  {
   "cell_type": "code",
   "execution_count": 6,
   "id": "3a07cdc1-6dae-4529-938a-6bd717378cf5",
   "metadata": {},
   "outputs": [
    {
     "data": {
      "text/plain": [
       "7"
      ]
     },
     "execution_count": 6,
     "metadata": {},
     "output_type": "execute_result"
    }
   ],
   "source": [
    "1 + 3 * 2 "
   ]
  },
  {
   "cell_type": "code",
   "execution_count": 7,
   "id": "b30f3ed8-6ebe-4cd4-8bc1-afa661ac3d9a",
   "metadata": {},
   "outputs": [
    {
     "data": {
      "text/plain": [
       "7"
      ]
     },
     "execution_count": 7,
     "metadata": {},
     "output_type": "execute_result"
    }
   ],
   "source": [
    "3 * 2 + 1"
   ]
  },
  {
   "cell_type": "markdown",
   "id": "5145c597-0f0d-48d3-9c14-407a441db9cc",
   "metadata": {},
   "source": [
    "To promote code readability, you as a programmer can remove ambiguity by adding parentheses in your expressions. Expressions inside the **innermost** parentheses are prioritized above everything else"
   ]
  },
  {
   "cell_type": "code",
   "execution_count": 8,
   "id": "7c6ba341-e32e-40c5-970e-7f882990d30a",
   "metadata": {},
   "outputs": [
    {
     "data": {
      "text/plain": [
       "8"
      ]
     },
     "execution_count": 8,
     "metadata": {},
     "output_type": "execute_result"
    }
   ],
   "source": [
    "(1 + 3) * 2"
   ]
  },
  {
   "cell_type": "code",
   "execution_count": 9,
   "id": "0fcb5aa2-2030-4494-86a5-2bce19725b0c",
   "metadata": {},
   "outputs": [
    {
     "data": {
      "text/plain": [
       "20"
      ]
     },
     "execution_count": 9,
     "metadata": {},
     "output_type": "execute_result"
    }
   ],
   "source": [
    "4 + 2 * ((1 + 3) * 2)"
   ]
  },
  {
   "cell_type": "markdown",
   "id": "b68fb06d-405a-45ed-adb0-13274f83fdfd",
   "metadata": {},
   "source": [
    "## Variables"
   ]
  },
  {
   "cell_type": "markdown",
   "id": "13ccd88f-59bd-46f7-8b20-752938e5d6ab",
   "metadata": {},
   "source": [
    "Similar to math, another form of expression is the variable. It is called a variable because unlike literals, its value can **vary** depending on context.\n",
    "\n",
    "To create a variable, you must assign it with a value."
   ]
  },
  {
   "cell_type": "code",
   "execution_count": 15,
   "id": "2e78595b-858f-46ac-a05b-1c97df4502ca",
   "metadata": {},
   "outputs": [],
   "source": [
    "x = 3"
   ]
  },
  {
   "cell_type": "markdown",
   "id": "8480c274-9d8d-4c11-942d-b1f19c69016f",
   "metadata": {},
   "source": [
    "The cell above is known as an **asignment statement**. It is used to assign value to a variable. The variable in this case is named `x`. There are also rules on the allowed names for variables. And beyond those rules there are conventions on proper name choices.\n",
    "\n",
    "> Note how the cell above doesnt have an output. This is because assignments statements are not an expressions that can be evaluated.\n",
    "\n",
    "### Rules for naming variables\n",
    "- Variable names must start with a letter or underscore\n",
    "- Variable names must be a combination of letters, numbers, and underscores\n",
    "- Variable names cannot be reserved words (words that are reserved for python syntax)\n",
    "\n",
    "### Conventions for naming variables\n",
    "- Variables must be descriptive - it should describe whatever it is representing\n",
    "- Variables must be concise - it shouldnt be so long that it makes code unreadable\n",
    "- And more...\n",
    "\n",
    "If the rules are not followed, your variable name will produce an error in python. On the other hand conventions are not enforced by python. Not following conventions will still produce code that runs but it may result in code that is unreadable or hard to maintain.\n",
    "\n",
    "The following are examples of well-named variables:"
   ]
  },
  {
   "cell_type": "code",
   "execution_count": 16,
   "id": "73b79e49-8baa-46c4-8df8-f7578e537953",
   "metadata": {},
   "outputs": [],
   "source": [
    "size = 10\n",
    "airport_code = 'MNL'\n",
    "nCols = 12"
   ]
  },
  {
   "cell_type": "markdown",
   "id": "85c9fa4c-c68d-4f9f-8624-a8023b97e599",
   "metadata": {},
   "source": [
    "Variables are also expressions, so they can be used in the same way any other expressions are used. It can be combined through operations, or it can be evaluated as is."
   ]
  },
  {
   "cell_type": "code",
   "execution_count": 17,
   "id": "0adbb570-cd21-42c7-bfa0-21f4dcd10e2b",
   "metadata": {},
   "outputs": [
    {
     "data": {
      "text/plain": [
       "10"
      ]
     },
     "execution_count": 17,
     "metadata": {},
     "output_type": "execute_result"
    }
   ],
   "source": [
    "size"
   ]
  },
  {
   "cell_type": "code",
   "execution_count": 18,
   "id": "d809a4cc-e679-4fd5-a69a-e834049c09dc",
   "metadata": {},
   "outputs": [
    {
     "data": {
      "text/plain": [
       "20"
      ]
     },
     "execution_count": 18,
     "metadata": {},
     "output_type": "execute_result"
    }
   ],
   "source": [
    "size * 2"
   ]
  },
  {
   "attachments": {},
   "cell_type": "markdown",
   "id": "424b156f-9dfd-48ae-a5f3-17542068d9f5",
   "metadata": {},
   "source": [
    "Since we assigned the value `10` to `size` in the previous cells, We can use it to represent the literal expresison `10`.\n",
    "\n",
    "### Assignment Statements\n",
    "\n",
    "True to its name, a variable's value can change. To do this, we simply run another assignment statement"
   ]
  },
  {
   "cell_type": "code",
   "execution_count": 19,
   "id": "ca99a9fc-ac9a-425e-813d-c8bd06e2f068",
   "metadata": {},
   "outputs": [
    {
     "data": {
      "text/plain": [
       "15"
      ]
     },
     "execution_count": 19,
     "metadata": {},
     "output_type": "execute_result"
    }
   ],
   "source": [
    "size = 15\n",
    "size"
   ]
  },
  {
   "cell_type": "markdown",
   "id": "9cf183da-f552-4deb-a8ba-d671895bffd2",
   "metadata": {},
   "source": [
    "There are two parts to an assigment statement, the left-hand side (to the left of `=`) represents the variable name, and the right-hand side (to the right of `=`) represents the assigned expression. The left-hand side cannot be anything else other than a variable name. On the other hand you can put any expression on the right-hand side."
   ]
  },
  {
   "cell_type": "code",
   "execution_count": 20,
   "id": "190df9a3-e7d5-45cc-9308-1e21d6febf23",
   "metadata": {},
   "outputs": [
    {
     "data": {
      "text/plain": [
       "18"
      ]
     },
     "execution_count": 20,
     "metadata": {},
     "output_type": "execute_result"
    }
   ],
   "source": [
    "size = 15 + 3\n",
    "size"
   ]
  },
  {
   "cell_type": "code",
   "execution_count": 21,
   "id": "cde2a5df-0f3a-49f6-ab64-175dc67e4fe2",
   "metadata": {},
   "outputs": [
    {
     "data": {
      "text/plain": [
       "30"
      ]
     },
     "execution_count": 21,
     "metadata": {},
     "output_type": "execute_result"
    }
   ],
   "source": [
    "size1 = 10\n",
    "size2 =  20\n",
    "size3 =  size1 + size2\n",
    "size3"
   ]
  },
  {
   "cell_type": "code",
   "execution_count": 22,
   "id": "bd7d1d72-ea8e-4db5-894d-462cc8692b81",
   "metadata": {},
   "outputs": [
    {
     "data": {
      "text/plain": [
       "21"
      ]
     },
     "execution_count": 22,
     "metadata": {},
     "output_type": "execute_result"
    }
   ],
   "source": [
    "size = size + 3\n",
    "size"
   ]
  },
  {
   "cell_type": "markdown",
   "id": "aabfdf50-e656-464c-872b-a79787955b88",
   "metadata": {},
   "source": [
    "One source of confusion when it comes to assignment statements is the misconception that it is the same as the mathematical equality. It's easy to make this misconception because after all, they use the same symbol (`=`). When you see an assignment statement, instead of an equal sympbol, imagine an arrow pointing to the left. \n",
    "\n",
    "```\n",
    "size <- size + 3\n",
    "```\n",
    "\n",
    "Think of pushing the expression on the right-hand side into the variable in the left-hand side. The expression on the right-hand side will be evaluated, and whatever value it evaluates into, it will be pushed into the variable on the left-hand side, overwriting whatever value was originally inside. In the example `size = size + 3`, the right-hand side, evaluates into 30 + 3 or 33. The value 33 is then pushed into `size`. As a result the next time you evaluate `size` by itself, it evaluates to 33.\n",
    "\n",
    "The cell below shows what could happen if you repeatedly overwrite `size` by adding 1 to it"
   ]
  },
  {
   "cell_type": "code",
   "execution_count": 23,
   "id": "a5e562b0-a5ed-4e98-b17e-959accdf355a",
   "metadata": {},
   "outputs": [
    {
     "data": {
      "text/plain": [
       "24"
      ]
     },
     "execution_count": 23,
     "metadata": {},
     "output_type": "execute_result"
    }
   ],
   "source": [
    "size = size + 1\n",
    "size = size + 1\n",
    "size = size + 1\n",
    "size"
   ]
  },
  {
   "cell_type": "markdown",
   "id": "3818b299-c0e5-4331-a3c7-8c668c9009f0",
   "metadata": {},
   "source": [
    "There is a special name for the assignment statement `size = size + 3` or `size = size + 1`, these are called increments/decrements. It updates the value of an **existing** variable by a certain value. There is a shortcut for increment/decrement statements, which uses the `+=` or `-=` operator."
   ]
  },
  {
   "cell_type": "code",
   "execution_count": 24,
   "id": "f2e32e37-98c5-4a33-8fe8-76e642e5e8ec",
   "metadata": {},
   "outputs": [
    {
     "data": {
      "text/plain": [
       "11"
      ]
     },
     "execution_count": 24,
     "metadata": {},
     "output_type": "execute_result"
    }
   ],
   "source": [
    "size = 10\n",
    "size += 1 # size = size + 1\n",
    "size"
   ]
  },
  {
   "cell_type": "code",
   "execution_count": 25,
   "id": "5ce8b54d-9ffb-478c-92b7-a8549d4e2ace",
   "metadata": {},
   "outputs": [
    {
     "data": {
      "text/plain": [
       "3"
      ]
     },
     "execution_count": 25,
     "metadata": {},
     "output_type": "execute_result"
    }
   ],
   "source": [
    "size2 = 10\n",
    "size2 -= 5\n",
    "size2 -= 2\n",
    "size2"
   ]
  },
  {
   "cell_type": "code",
   "execution_count": null,
   "id": "7a75a266-fadf-4f59-b91d-111d64c7f0d1",
   "metadata": {},
   "outputs": [],
   "source": []
  }
 ],
 "metadata": {
  "kernelspec": {
   "display_name": "Python 3 (ipykernel)",
   "language": "python",
   "name": "python3"
  },
  "language_info": {
   "codemirror_mode": {
    "name": "ipython",
    "version": 3
   },
   "file_extension": ".py",
   "mimetype": "text/x-python",
   "name": "python",
   "nbconvert_exporter": "python",
   "pygments_lexer": "ipython3",
   "version": "3.12.3"
  }
 },
 "nbformat": 4,
 "nbformat_minor": 5
}
