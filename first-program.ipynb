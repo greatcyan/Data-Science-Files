{
 "cells": [
  {
   "cell_type": "markdown",
   "id": "65e3ac8d-22c1-4257-86eb-65972955a584",
   "metadata": {},
   "source": [
    "# First program\n",
    "\n",
    "The interpreter is handy for when we want to have Python calculate a few simple expressions, but it can get hard to use when we want to build programs out of it.\n",
    "\n",
    "A Python program is simply a file containing Python expressions and instructions, which Python will execute.\n",
    "The program can be as simple as one print statement:"
   ]
  },
  {
   "cell_type": "code",
   "execution_count": 3,
   "id": "40f9c0dc-a890-4e5c-888c-4bbfe20f1687",
   "metadata": {},
   "outputs": [
    {
     "name": "stdout",
     "output_type": "stream",
     "text": [
      "Hello world!\n"
     ]
    }
   ],
   "source": [
    "print(\"Hello world!\")"
   ]
  },
  {
   "cell_type": "code",
   "execution_count": 2,
   "id": "eff886ad-2ca7-4260-a6ec-f4f98e35bf33",
   "metadata": {},
   "outputs": [
    {
     "name": "stdout",
     "output_type": "stream",
     "text": [
      "Sam eats the apple.\n"
     ]
    }
   ],
   "source": [
    "subject = \"Sam\"\n",
    "verb = \"eats\"\n",
    "object = \"the apple\"\n",
    "\n",
    "print(subject + \" \" + verb + \" \" + object + \".\")"
   ]
  },
  {
   "cell_type": "markdown",
   "id": "f966ea31-affe-433f-bec8-8c7a9acd01c6",
   "metadata": {},
   "source": [
    "The function `print()` allows us to write string expressions in the output. This is commonly called as *printing*. In the case of jupyter, the string expression will be printed in the output section of the cell. On the case of python programs, the string expression will be be printed in the terminal. To demonstrate this lets create our first python program"
   ]
  },
  {
   "attachments": {},
   "cell_type": "markdown",
   "id": "052c3e38-35a5-4dd5-bca4-aad9862c7e18",
   "metadata": {},
   "source": [
    "## Writing your first program\n",
    "\n",
    "To start writing our Python program, we'll have to open up a new file in a text editor.\n",
    "\n",
    "Use any text editor (e.g. VS Code, Sublime Text, etc.) or Python IDE (e.g. PyCharm) that you're comfortable with.\n",
    "And while it's completely not necessary for Python to have a full-fledged IDE, it can be quite a help.\n",
    "\n",
    "Python is very strict with whitespaces and indentation as these are used to delineate sections of our program.\n",
    "In fact, random indentations in the source code is an error---they mean something!\n",
    "As such, if you can, set your text editor to interpret pressing the `<Tab>` key as inserting 4 spaces instead of an actual `<Tab>` character. \n",
    "We don't want to accidently mix in `<Tab>`s and `<Space>`s in our source file later on.\n",
    "\n",
    "Now, write our little program. \n",
    "\n",
    "```python\n",
    "print(\"Hello world!\")\n",
    "```\n",
    "![python_program.png](images/python_program.png)\n",
    "\n",
    "> For this to run correctly, make sure you run the command at the same directory as `hello.py`\n",
    "\n",
    "Save the file with the file extension `.py`.\n",
    "The `.py` indicates that the file is a Python program.\n",
    "In this case, let's save it as `hello.py`.\n",
    "\n",
    "## Running our program\n",
    "\n",
    "To run our program, we'll use `python` directly via a terminal (if you installed python through anaconda, you can use the anaconda prompt as your terminal). Make sure you run the command on the same directory the file `hello.py` is in. If python is installed correctly and if there are no errors in your program, you should see the following output:\n",
    "\n",
    "```shell\n",
    "$ python hello.py\n",
    "Hello world!\n",
    "```\n",
    "\n",
    "![python_program_output.png](images/python_program_output.png)\n",
    "\n",
    "Python will execute the file a line at a time.\n",
    "When no more lines are left to execute, the Python program finishes and stops.\n",
    "\n",
    "## Asking for user input\n",
    "\n",
    "To make our program more useful, we want it to accept user input.\n",
    "Instead of computing the same numbers over and over again, or having to edit the source code, we can ask for user input with `input()`.\n",
    "\n",
    "```python\n",
    "print(\"What's your name?\")\n",
    "name = input()\n",
    "\n",
    "print(\"Hello, \" + name)\n",
    "```\n",
    "\n",
    "```none\n",
    "What's your name?\n",
    "Sam\n",
    "Hello, Sam\n",
    "```\n",
    "\n",
    "`input()` will always try to evaluate user input into a `str` literal, so  we'll have to first coerce it to the appropriate datatype. Without the coercion you will encounter a type error due to type incompatibility. Remember this as it's an easy error to miss.\n",
    "\n",
    "```python\n",
    "num = input()\n",
    "print(num + 10)\n",
    "```\n",
    "\n",
    "```none\n",
    "Traceback (most recent call last):\n",
    "  File \"/home/user/program.py\", line 2, in <module>\n",
    "    print(num + 10)\n",
    "          ~~~~^~~~\n",
    "TypeError: can only concatenate str (not \"int\") to str\n",
    "```\n",
    "\n",
    "In this case we are trying to add two numbers. So we coerce, `num` into an integer first.\n",
    "\n",
    "```python\n",
    "num = input()\n",
    "num = int(num)\n",
    "print(num + 10)\n",
    "```\n",
    "\n",
    "```none\n",
    "25\n",
    "35\n",
    "```\n",
    "\n",
    "Here's another variant of this error:\n",
    "\n",
    "```python\n",
    "print(\"Enter a number\")\n",
    "num = input()\n",
    "print(num * 5)\n",
    "```\n",
    "\n",
    "```none\n",
    "Enter a number\n",
    "25\n",
    "2525252525\n",
    "```\n",
    "\n",
    "Python will not crash from this because the `*` operation is type compatible in this context. In this case it will be interpreted as a string replication, repeating `num` 5 times.\n",
    "\n",
    "## Writing comments\n",
    "\n",
    "It is a good idea to write comments in your source code.\n",
    "This serves as notes for the programmer (you, or other people) in the future.\n",
    "\n",
    "We can write comments using the `#` character.\n",
    "\n",
    "```python\n",
    "# This is a comment.\n",
    "```\n",
    "\n",
    "Comments are ignored by Python when executing and they can even appear after Python expressions.\n",
    "\n",
    "```python\n",
    "num = 1 + 1 # add 1 and 1 together\n",
    "```"
   ]
  },
  {
   "cell_type": "code",
   "execution_count": null,
   "id": "3edc1019-ec8a-4181-a3a2-c8ae0d4f55c4",
   "metadata": {},
   "outputs": [],
   "source": []
  }
 ],
 "metadata": {
  "kernelspec": {
   "display_name": "Python 3 (ipykernel)",
   "language": "python",
   "name": "python3"
  },
  "language_info": {
   "codemirror_mode": {
    "name": "ipython",
    "version": 3
   },
   "file_extension": ".py",
   "mimetype": "text/x-python",
   "name": "python",
   "nbconvert_exporter": "python",
   "pygments_lexer": "ipython3",
   "version": "3.12.3"
  }
 },
 "nbformat": 4,
 "nbformat_minor": 5
}
