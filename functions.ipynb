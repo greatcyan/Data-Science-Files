{
 "cells": [
  {
   "attachments": {},
   "cell_type": "markdown",
   "id": "d15f9555-afa4-4a8f-9d66-84ece62ff517",
   "metadata": {},
   "source": [
    "# Functions\n",
    "Functions allow programmers to package code into subprograms. This is done for many reasons.\n",
    "\n",
    "- It allows for code reuse without rewrite\n",
    "- It encapsulates and isolates code\n",
    "- It makes code more readable\n",
    "\n",
    "Lets start with an example of a function"
   ]
  },
  {
   "cell_type": "code",
   "execution_count": 2,
   "id": "22df625c-05bc-4278-881b-ea50f9dbab93",
   "metadata": {},
   "outputs": [],
   "source": [
    "def square(x):\n",
    "    product = x*x\n",
    "    return product"
   ]
  },
  {
   "cell_type": "markdown",
   "id": "db4a94ec-03ee-4388-862a-1c3d1be1e2e8",
   "metadata": {},
   "source": [
    "## Function Defintion\n",
    "\n",
    "The code above is what is known as a function definition. From it's name, we use it to **define** functions. It contains information on the name of the function, the arguments it accepts, and its behavior.\n",
    "\n",
    "The first line `def square(x):` is the header of the definition. You can find here it's name, and the arguments it accepts. Function definition headers always start with the keyword `def`. The name if this particular function is `square`. This is the name that will be used later to *invoke* the function. Enclosed in parentheses is `x`. The parentheses contains the parameters for the function. In this case there is one parameter, and it is `x`.\n",
    "\n",
    "The lines after the first one (second and third line) contains the body of the function definition. It contains the code that defines the behavior of the function when invoked. The second line `product = x*x`. Simply stores the value of `x*x` to the variable `product`. The third line, `return product` defines how a function invokation of square is evaluated. In this case the function square evaluates to the value of product\n",
    "\n",
    "## Function Invokation/Call/Application\n",
    "\n",
    "To use a function we simply invoke it. Heres an example of some invokations of `square()`"
   ]
  },
  {
   "cell_type": "code",
   "execution_count": 3,
   "id": "586d70f2-0588-4236-bdc0-2f7a6f1011a2",
   "metadata": {},
   "outputs": [
    {
     "data": {
      "text/plain": [
       "25"
      ]
     },
     "execution_count": 3,
     "metadata": {},
     "output_type": "execute_result"
    }
   ],
   "source": [
    "square(5)"
   ]
  },
  {
   "cell_type": "code",
   "execution_count": 4,
   "id": "f126665d-e89f-4e76-b9c7-7b5ff97d09e0",
   "metadata": {},
   "outputs": [
    {
     "data": {
      "text/plain": [
       "81"
      ]
     },
     "execution_count": 4,
     "metadata": {},
     "output_type": "execute_result"
    }
   ],
   "source": [
    "square(9)"
   ]
  },
  {
   "cell_type": "code",
   "execution_count": 6,
   "id": "a030f3ab-9610-4ecb-8ef3-bef4f26d1f03",
   "metadata": {},
   "outputs": [
    {
     "data": {
      "text/plain": [
       "36"
      ]
     },
     "execution_count": 6,
     "metadata": {},
     "output_type": "execute_result"
    }
   ],
   "source": [
    "square(3+3)"
   ]
  },
  {
   "cell_type": "code",
   "execution_count": 8,
   "id": "0f7e5182-d26d-46f0-ba8f-390a2d2a5f81",
   "metadata": {},
   "outputs": [
    {
     "data": {
      "text/plain": [
       "625"
      ]
     },
     "execution_count": 8,
     "metadata": {},
     "output_type": "execute_result"
    }
   ],
   "source": [
    "square(square(5))"
   ]
  },
  {
   "cell_type": "markdown",
   "id": "0f91736b-38c8-4396-bfab-b95d2cf49901",
   "metadata": {},
   "source": [
    "A function is invoked by writing its name followed by the passed **arguments** enclosed in parentheses. For example `square(5)` invokes the function `square()` with the argument `5`.\n",
    "\n",
    "With this function invokation, the argument `5` is assigned to the `square()`'s parameter `x`. And based on this context the function body is executed. In this case `product = x*x` assigns 25 to `product`. And the function ends by evaluating to the value of `product` which is 25 (as defined by the line `return product`). "
   ]
  },
  {
   "cell_type": "markdown",
   "id": "00544a72-4b7a-4548-913e-5a87071475fb",
   "metadata": {},
   "source": [
    "## Functions with multiple parameters\n",
    "Functions can have multiple parameters. When invoking, the number of arguments must be equal to the number of parameters in the definition."
   ]
  },
  {
   "cell_type": "code",
   "execution_count": 10,
   "id": "23b17168-f462-473e-afde-aa47126ec0e1",
   "metadata": {},
   "outputs": [
    {
     "name": "stdout",
     "output_type": "stream",
     "text": [
      "True\n",
      "False\n"
     ]
    }
   ],
   "source": [
    "def isDivisible(dividend, divisor):\n",
    "    remainder = dividend % divisor\n",
    "    return remainder == 0\n",
    "\n",
    "print(isDivisible(45,9))\n",
    "print(isDivisible(23+2,2))"
   ]
  },
  {
   "cell_type": "code",
   "execution_count": 17,
   "id": "22033edf-bcbc-4fc3-978b-ec799f0b82af",
   "metadata": {},
   "outputs": [
    {
     "name": "stdout",
     "output_type": "stream",
     "text": [
      "Hello, Rubelito R. Abella\n"
     ]
    }
   ],
   "source": [
    "def fullName(fname, mname, lname):\n",
    "    return fname + ' ' + mname[0] +'. ' + lname\n",
    "\n",
    "print('Hello, ' + fullName('Rubelito', 'Reboquio', 'Abella'))"
   ]
  },
  {
   "cell_type": "markdown",
   "id": "e50db6f7-e2c0-481f-93d1-6792ec0fbd31",
   "metadata": {},
   "source": [
    "## Functions with no parameters\n",
    "You can also write functions that have no parameters. When invoking these kinds of functions, you should leave the parentheses blank to pass zero arguments. "
   ]
  },
  {
   "cell_type": "code",
   "execution_count": 19,
   "id": "f92ba032-e88b-4668-80bd-522be2877d4c",
   "metadata": {},
   "outputs": [
    {
     "data": {
      "text/plain": [
       "3"
      ]
     },
     "execution_count": 19,
     "metadata": {},
     "output_type": "execute_result"
    }
   ],
   "source": [
    "def two():\n",
    "    return 2\n",
    "\n",
    "1 + two()"
   ]
  },
  {
   "cell_type": "markdown",
   "id": "9a20c5cf-002b-4b60-b5ca-15cbba5b544b",
   "metadata": {},
   "source": [
    "## Functions that do not have `return` statements\n",
    "Functions that do not contain `return` statements (lines that start with the keyword `return`) are functions that evaluate into the special value `None`."
   ]
  },
  {
   "cell_type": "code",
   "execution_count": 24,
   "id": "a99f4dc1-60e1-4f5d-a11e-1c03c780e5ac",
   "metadata": {},
   "outputs": [
    {
     "name": "stdout",
     "output_type": "stream",
     "text": [
      "None\n"
     ]
    }
   ],
   "source": [
    "def add(x,y):\n",
    "    z = x + y\n",
    "\n",
    "print(add(5,3))"
   ]
  },
  {
   "cell_type": "code",
   "execution_count": 22,
   "id": "190c3fed-1650-434e-9a50-f2b808ec79ec",
   "metadata": {},
   "outputs": [
    {
     "name": "stdout",
     "output_type": "stream",
     "text": [
      "Hello, Rubelito R. Abella\n",
      "None\n"
     ]
    }
   ],
   "source": [
    "def greeter(fname,mname,lname):\n",
    "    name = fullName(fname,mname,lname)\n",
    "    print('Hello, ' + name)\n",
    "\n",
    "value = greeter('Rubelito', 'Reboquio', 'Abella')\n",
    "print(value)"
   ]
  },
  {
   "cell_type": "markdown",
   "id": "2dbe4a04-cd6e-4255-9405-2cd3beb60aa2",
   "metadata": {},
   "source": [
    "In the second example above, the first line is the result of the print statement inside the function, while the second line is the result of printing the evaluation of `greeter()`"
   ]
  },
  {
   "cell_type": "markdown",
   "id": "44371d3a-2314-4bed-8396-3e5aebc0a390",
   "metadata": {},
   "source": [
    "## Isolation in functions\n",
    "\n",
    "As discussed earlier functions allow us to isolate code. This is possible because the code inside the function definition is self contained. Variables created inside these functions cannot be accessed outside."
   ]
  },
  {
   "cell_type": "code",
   "execution_count": 35,
   "id": "58285d1c-9f5f-48db-88d4-028bebda0dc6",
   "metadata": {},
   "outputs": [
    {
     "name": "stdout",
     "output_type": "stream",
     "text": [
      "Local values:\n",
      "3\n",
      "2\n",
      "5\n",
      "Global values:\n"
     ]
    },
    {
     "ename": "NameError",
     "evalue": "name 'x' is not defined",
     "output_type": "error",
     "traceback": [
      "\u001b[1;31m---------------------------------------------------------------------------\u001b[0m",
      "\u001b[1;31mNameError\u001b[0m                                 Traceback (most recent call last)",
      "Cell \u001b[1;32mIn[35], line 11\u001b[0m\n\u001b[0;32m      9\u001b[0m isolatedFunction(\u001b[38;5;241m3\u001b[39m)\n\u001b[0;32m     10\u001b[0m \u001b[38;5;28mprint\u001b[39m(\u001b[38;5;124m'\u001b[39m\u001b[38;5;124mGlobal values:\u001b[39m\u001b[38;5;124m'\u001b[39m)\n\u001b[1;32m---> 11\u001b[0m \u001b[38;5;28mprint\u001b[39m(\u001b[43mx\u001b[49m)\n\u001b[0;32m     12\u001b[0m \u001b[38;5;28mprint\u001b[39m(y)\n\u001b[0;32m     13\u001b[0m \u001b[38;5;28mprint\u001b[39m(z)\n",
      "\u001b[1;31mNameError\u001b[0m: name 'x' is not defined"
     ]
    }
   ],
   "source": [
    "def isolatedFunction(x):\n",
    "    y = 2\n",
    "    z = 5\n",
    "    print('Local values:')\n",
    "    print(x)\n",
    "    print(y)\n",
    "    print(z)\n",
    "\n",
    "isolatedFunction(3)\n",
    "print('Global values:')\n",
    "print(x)\n",
    "print(y)\n",
    "print(z)"
   ]
  },
  {
   "cell_type": "markdown",
   "id": "57a14f5d-6738-4658-953a-2aea89c9457c",
   "metadata": {},
   "source": [
    "In the case above the parameter `x` as well as the **local** variables `y` and `z` (variables defined inside the function) can only be accessed inside the function definition. Trying to access these values outside will cause an error."
   ]
  },
  {
   "cell_type": "markdown",
   "id": "ca55e2fe-a6c1-4d29-93b7-abbcf2f95f25",
   "metadata": {},
   "source": [
    "In some cases local variables can even share the names of global variables. When these ambiguous variables are accessed inside the function definition, they will be evaluated as local variables. On the other hand if said varibles are accessed outside the function definition, they will be evaluated as global variables"
   ]
  },
  {
   "cell_type": "code",
   "execution_count": 37,
   "id": "bb196865-8654-4af4-be77-0f54c6292938",
   "metadata": {},
   "outputs": [
    {
     "name": "stdout",
     "output_type": "stream",
     "text": [
      "Local values:\n",
      "-3\n",
      "3\n",
      "2\n",
      "5\n",
      "Global values:\n",
      "-3\n",
      "0\n",
      "-1\n",
      "-2\n"
     ]
    }
   ],
   "source": [
    "w = -3\n",
    "x = 0\n",
    "y = -1\n",
    "z = -2\n",
    "def isolatedFunction2(x):\n",
    "    y = 2\n",
    "    z = 5\n",
    "    print('Local values:')\n",
    "    print(w)\n",
    "    print(x)\n",
    "    print(y)\n",
    "    print(z)\n",
    "\n",
    "isolatedFunction2(3)\n",
    "print('Global values:')\n",
    "print(w)\n",
    "print(x)\n",
    "print(y)\n",
    "print(z)"
   ]
  },
  {
   "cell_type": "markdown",
   "id": "1bdae03c-6e0f-4c84-a5ce-a56d3bc55cec",
   "metadata": {},
   "source": [
    "## Optional parameters\n",
    "Python functions can be defined with optional parameters. A user can opt to not pass arguments associated with these parameters. Because of thiese, optional parameters must come with default values. Heres an example:"
   ]
  },
  {
   "cell_type": "code",
   "execution_count": 46,
   "id": "0604b3bf-7ef3-4a2e-b43c-b29dc63ff0c9",
   "metadata": {},
   "outputs": [
    {
     "data": {
      "text/plain": [
       "0"
      ]
     },
     "execution_count": 46,
     "metadata": {},
     "output_type": "execute_result"
    }
   ],
   "source": [
    "def sum(first=0, second=0, third=0):\n",
    "    return first + second + third\n",
    "\n",
    "sum()"
   ]
  },
  {
   "cell_type": "code",
   "execution_count": 47,
   "id": "17c1f7aa-86d3-4994-af3e-ed6b069dbc4b",
   "metadata": {},
   "outputs": [
    {
     "data": {
      "text/plain": [
       "6"
      ]
     },
     "execution_count": 47,
     "metadata": {},
     "output_type": "execute_result"
    }
   ],
   "source": [
    "sum(1,2,3)"
   ]
  },
  {
   "cell_type": "code",
   "execution_count": 48,
   "id": "fd6f4f41-b714-476c-ae96-4f042174745e",
   "metadata": {},
   "outputs": [
    {
     "data": {
      "text/plain": [
       "3"
      ]
     },
     "execution_count": 48,
     "metadata": {},
     "output_type": "execute_result"
    }
   ],
   "source": [
    "sum(4,-1)"
   ]
  },
  {
   "cell_type": "code",
   "execution_count": 49,
   "id": "a4aaaa2f-7f2a-4a64-81c5-d0ceb311ba66",
   "metadata": {},
   "outputs": [
    {
     "data": {
      "text/plain": [
       "9"
      ]
     },
     "execution_count": 49,
     "metadata": {},
     "output_type": "execute_result"
    }
   ],
   "source": [
    "sum(9)"
   ]
  },
  {
   "cell_type": "markdown",
   "id": "c63eb00c-365a-4b55-a675-138ead1a6287",
   "metadata": {},
   "source": [
    "When invoked with less arguments, python prioritizes assigning the leftmost values. for example, in the invokation `sum(4,-1)`, 4 is assigned to `first`, -1 is assigned to `second`. And since there are no arguments left, `third` defaults to 0."
   ]
  },
  {
   "cell_type": "code",
   "execution_count": 50,
   "id": "e10896e3-130b-454c-a228-429ae5258b4a",
   "metadata": {},
   "outputs": [
    {
     "data": {
      "text/plain": [
       "3"
      ]
     },
     "execution_count": 50,
     "metadata": {},
     "output_type": "execute_result"
    }
   ],
   "source": [
    "sum(third = 2, second = 1)"
   ]
  },
  {
   "cell_type": "markdown",
   "id": "b550e420-83c8-4a2b-b509-2e7f216f8687",
   "metadata": {},
   "source": [
    "You can also specify which value is passed to which parameter by explicitly writing arguments like the example above. Here, 2 is assigned to `third`, and 1 is assigned to `second`. Since there is no explicit definition for `first`, it defaults to 0"
   ]
  },
  {
   "cell_type": "markdown",
   "id": "97e50a30-2978-44fb-9229-31ba50d28cc3",
   "metadata": {},
   "source": [
    "You can also mix optional parameters with non-optional paramters. Just remember to write non-optional parameters first before writing optional parameters.\n",
    "\n",
    "> non-optional paramters are also known as **positional** paramters and optional paramters are also known as **key** parameters"
   ]
  },
  {
   "cell_type": "code",
   "execution_count": 52,
   "id": "e61b4b38-f6a4-4d50-bbfa-22482de96391",
   "metadata": {},
   "outputs": [
    {
     "data": {
      "text/plain": [
       "5"
      ]
     },
     "execution_count": 52,
     "metadata": {},
     "output_type": "execute_result"
    }
   ],
   "source": [
    "def value(x,y,optional1 = 1, optional2 = 0):\n",
    "    return (x + y - optional2) ** optional1\n",
    "\n",
    "value(3,2)"
   ]
  },
  {
   "cell_type": "code",
   "execution_count": 53,
   "id": "984e69cd-3e19-42a0-bb22-3a8b5fdf8640",
   "metadata": {},
   "outputs": [
    {
     "data": {
      "text/plain": [
       "3"
      ]
     },
     "execution_count": 53,
     "metadata": {},
     "output_type": "execute_result"
    }
   ],
   "source": [
    "value(3,2,optional2 = 2)"
   ]
  },
  {
   "cell_type": "code",
   "execution_count": 54,
   "id": "01498eef-adcf-4e7b-a110-761ad56bf63e",
   "metadata": {},
   "outputs": [
    {
     "data": {
      "text/plain": [
       "16"
      ]
     },
     "execution_count": 54,
     "metadata": {},
     "output_type": "execute_result"
    }
   ],
   "source": [
    "value(3,2,2,1)"
   ]
  },
  {
   "cell_type": "code",
   "execution_count": null,
   "id": "03da2bfd-410b-49d4-98d8-e56c0d9e67e9",
   "metadata": {},
   "outputs": [],
   "source": []
  }
 ],
 "metadata": {
  "kernelspec": {
   "display_name": "Python 3 (ipykernel)",
   "language": "python",
   "name": "python3"
  },
  "language_info": {
   "codemirror_mode": {
    "name": "ipython",
    "version": 3
   },
   "file_extension": ".py",
   "mimetype": "text/x-python",
   "name": "python",
   "nbconvert_exporter": "python",
   "pygments_lexer": "ipython3",
   "version": "3.12.3"
  }
 },
 "nbformat": 4,
 "nbformat_minor": 5
}
