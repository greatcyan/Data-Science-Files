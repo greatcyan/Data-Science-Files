{
 "cells": [
  {
   "attachments": {},
   "cell_type": "markdown",
   "id": "6e3b8d9d-51a9-4bb5-b66c-08797de63496",
   "metadata": {},
   "source": [
    "# Importing python libraries\n",
    "\n",
    "Python does not include the entirety of its massive library of premade functions when runnning programs. If a user wants to use these functions. The user must explicitly import said functions/libraries\n",
    "\n",
    "## Importing an entire library\n",
    "\n",
    "To import an entire library simply use the `import` keyword"
   ]
  },
  {
   "cell_type": "code",
   "execution_count": 2,
   "id": "768533a1-51df-434b-bb4f-0199182f9907",
   "metadata": {},
   "outputs": [],
   "source": [
    "import math"
   ]
  },
  {
   "cell_type": "markdown",
   "id": "65561959-753a-492e-b768-ba4730bc6b55",
   "metadata": {},
   "source": [
    "With the `math` library now imported you can freely use functions inside the math library using dot notation. For example, the ceiling function `ceil()` and the GCD funtion `gcd()`\n",
    "\n",
    "> Functions an classes inside `math` must be referenced using dot notation"
   ]
  },
  {
   "cell_type": "code",
   "execution_count": 5,
   "id": "def2af09-3ebf-4ac0-98a4-c8dd80d0215a",
   "metadata": {},
   "outputs": [
    {
     "data": {
      "text/plain": [
       "4"
      ]
     },
     "execution_count": 5,
     "metadata": {},
     "output_type": "execute_result"
    }
   ],
   "source": [
    "math.ceil(4)"
   ]
  },
  {
   "cell_type": "code",
   "execution_count": 7,
   "id": "b53ee187-7a5f-4997-ad29-3855995952db",
   "metadata": {},
   "outputs": [
    {
     "data": {
      "text/plain": [
       "5"
      ]
     },
     "execution_count": 7,
     "metadata": {},
     "output_type": "execute_result"
    }
   ],
   "source": [
    "math.gcd(10,5,15,20,100)"
   ]
  },
  {
   "cell_type": "markdown",
   "id": "93508f20-0543-4474-9e87-f389a13f4ddc",
   "metadata": {},
   "source": [
    "## Adding aliases to imports\n",
    "\n",
    "Some library names can be very long. For these cases it would be useful to add an alias to shorten their names. For example, we can give the `math` library the alias `m`"
   ]
  },
  {
   "cell_type": "code",
   "execution_count": 25,
   "id": "2971aaa1-7fb6-416d-85e1-ff8e1879bb09",
   "metadata": {},
   "outputs": [
    {
     "data": {
      "text/plain": [
       "4"
      ]
     },
     "execution_count": 25,
     "metadata": {},
     "output_type": "execute_result"
    }
   ],
   "source": [
    "import math as m\n",
    "m.ceil(4)"
   ]
  },
  {
   "cell_type": "markdown",
   "id": "a1520926-bea7-4bb0-9e20-c9bb0760a2cf",
   "metadata": {},
   "source": [
    "## Importing a class or function from a library\n",
    "\n",
    "Sometimes you might only need one function or class from a library, to specify the specific function or class, use the `from-import` statement. In the example below we import the `date` class from the `datetime` library"
   ]
  },
  {
   "cell_type": "code",
   "execution_count": 8,
   "id": "60cc8ce3-f109-4fb0-9761-0f063ee13b5c",
   "metadata": {},
   "outputs": [],
   "source": [
    "from datetime import date"
   ]
  },
  {
   "cell_type": "code",
   "execution_count": 9,
   "id": "fda610fb-39c0-4e3a-b4aa-fbe7ef515a95",
   "metadata": {},
   "outputs": [],
   "source": [
    "d1 = date(2024,1,1)"
   ]
  },
  {
   "cell_type": "markdown",
   "id": "aca24712-cc7d-40ef-aca4-54333cb91a3e",
   "metadata": {},
   "source": [
    "You can also import multiple classes and funtions from a library. Below we import the `datetime` class and  `timedelta` class in one line"
   ]
  },
  {
   "cell_type": "code",
   "execution_count": 10,
   "id": "c282520d-7580-44bc-b002-03779b9ea8f1",
   "metadata": {},
   "outputs": [],
   "source": [
    "from datetime import datetime,timedelta"
   ]
  },
  {
   "cell_type": "code",
   "execution_count": 22,
   "id": "d075a13b-4a29-4a1a-af72-bb695d09e07a",
   "metadata": {},
   "outputs": [
    {
     "name": "stdout",
     "output_type": "stream",
     "text": [
      "42\n",
      "3600\n"
     ]
    }
   ],
   "source": [
    "dt1 = datetime(2024,1,1,3,0,0)\n",
    "dt2 = datetime(2024,2,12,4,0,0)\n",
    "\n",
    "diff = dt2 - dt1\n",
    "print(diff.days)\n",
    "print(diff.seconds)"
   ]
  },
  {
   "cell_type": "markdown",
   "id": "ff1469ab-ed1f-4b66-b2bf-c93a31e66105",
   "metadata": {},
   "source": [
    "## Importing your own code\n",
    "\n",
    "Any .py file can be treated as a library. If you want to import functions writtend on a different file, you can use `import` statements to import either the entire library or select functions. For example, if your library's filename is `mylib.py`:"
   ]
  },
  {
   "cell_type": "code",
   "execution_count": 23,
   "id": "d1413a7b-f6fe-4264-9340-49cd195c502b",
   "metadata": {},
   "outputs": [
    {
     "name": "stdout",
     "output_type": "stream",
     "text": [
      "this is function 1\n"
     ]
    }
   ],
   "source": [
    "import mylib\n",
    "\n",
    "mylib.function1()"
   ]
  },
  {
   "cell_type": "markdown",
   "id": "a85153a7-6ff6-48a1-a9bc-2a686fe33bad",
   "metadata": {},
   "source": [
    "You can also place your library in a folder and import it using dot notation. In the example below. We have a library called `mylib2.py` which is inside the folder `myDir`"
   ]
  },
  {
   "cell_type": "code",
   "execution_count": 24,
   "id": "18b7bc02-9d9f-49af-b529-0623adf06f54",
   "metadata": {},
   "outputs": [
    {
     "name": "stdout",
     "output_type": "stream",
     "text": [
      "this is function 2\n"
     ]
    }
   ],
   "source": [
    "from myDir.mylib2 import function2\n",
    "\n",
    "function2()"
   ]
  },
  {
   "cell_type": "markdown",
   "id": "c3998621-c86d-417c-9f76-d78b448eea36",
   "metadata": {},
   "source": [
    "> When importing your own code, make sure your library or your folder is in the same directory as your jupyter notebook / python program"
   ]
  }
 ],
 "metadata": {
  "kernelspec": {
   "display_name": "Python 3 (ipykernel)",
   "language": "python",
   "name": "python3"
  },
  "language_info": {
   "codemirror_mode": {
    "name": "ipython",
    "version": 3
   },
   "file_extension": ".py",
   "mimetype": "text/x-python",
   "name": "python",
   "nbconvert_exporter": "python",
   "pygments_lexer": "ipython3",
   "version": "3.12.3"
  }
 },
 "nbformat": 4,
 "nbformat_minor": 5
}
