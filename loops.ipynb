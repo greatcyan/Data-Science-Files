{
 "cells": [
  {
   "cell_type": "markdown",
   "id": "ddf23fa1-6fef-4696-8230-c81f3ccc236b",
   "metadata": {},
   "source": [
    "# Loops\n",
    "\n",
    "Imperative programs, such as python programs are built by combining code into three ways: chains, branches/selection, and loops/repetition. Chains are pretty simple. We've seen a few examples of it. It is simply executing lines of code one after the other. The example below is a chain of three lines of code:"
   ]
  },
  {
   "cell_type": "code",
   "execution_count": null,
   "id": "d984c6ac-816a-400c-84a3-42c5356d0ff2",
   "metadata": {},
   "outputs": [],
   "source": [
    "x = 3\n",
    "y = 7\n",
    "print(x+y)"
   ]
  },
  {
   "cell_type": "markdown",
   "id": "49bb98bc-de60-4e94-97d4-b97db49e82d0",
   "metadata": {},
   "source": [
    "Branching/selection is also something we have discussed. We combine statements into branches using `if-else` and `if-elif` conditionals. The example below are two branches of code:"
   ]
  },
  {
   "cell_type": "code",
   "execution_count": null,
   "id": "a735aecc-23c5-466b-8d2e-50ffe840d46e",
   "metadata": {},
   "outputs": [],
   "source": [
    "password = 'pword'\n",
    "\n",
    "if len(password) < 7:\n",
    "    print('password too weak')\n",
    "else:\n",
    "    print('password accepted')"
   ]
  },
  {
   "cell_type": "markdown",
   "id": "b8860041-4bf1-4319-8462-fb6deebc4e73",
   "metadata": {},
   "source": [
    "The third way of combining code is through loops/repetition. The name is self-explanatory. Repetition allows us to repeatedly run lines of code.\n",
    "\n",
    "See the example below."
   ]
  },
  {
   "cell_type": "code",
   "execution_count": 2,
   "id": "7571a6b9-d0f2-4576-9e89-b90742c20873",
   "metadata": {},
   "outputs": [
    {
     "name": "stdout",
     "output_type": "stream",
     "text": [
      "again\n",
      "again\n",
      "again\n",
      "again\n",
      "again\n",
      "finish\n"
     ]
    }
   ],
   "source": [
    "i = 0\n",
    "while i < 5:\n",
    "    print('again')\n",
    "    i = i + 1\n",
    "print('finish')"
   ]
  },
  {
   "cell_type": "markdown",
   "id": "e797de4c-894f-4fa3-9b79-9476b78a2229",
   "metadata": {},
   "source": [
    "The code above repeatedly runs the last two lines 5 times.\n",
    "\n",
    "Lets dissect the code line by line to understand how it works.\n",
    "\n",
    "The first line `i=0`, is simply an assignment statement that **initializes** the value of `i` to `0`.\n",
    "\n",
    "The second line is known as a while statement. It is written similar to `if` and `elif` statements. It is the `while` keyword followed by boolean expression (any expression that evaluates into a boolean type value). The boolean expression inside this `while` statements is `i<3`. Like the `if`, `else`, and `elif` statements, we end the `while` statement with a `:` (colon)\n",
    "\n",
    "The third line is a print statement, simply printing the string literal `again`. The fourth line is another assignment statement. This statement reassigns the value of `i` to `i+1` (an increment statement, review assignment statements in the Expressions chapter). Notice how the third and fourth lines are indented. Again, indentation here is important. Changing the indentation will change the meaning of the program.\n",
    "\n",
    "The fifth line is another print statement, this time without indentation. This line prints the string literal `'finish'`.\n",
    "\n",
    "## How python interprets the code\n",
    "\n",
    "Lets take a step by step discussion on how python interprets the cell above:\n",
    "\n",
    "- Starting from line 1, python assigns the variable `i` with `0`.\n",
    "- **On the second line, python checks if the boolean expression inside the while statement is true. In this case \"Is `i < 3`\"? Yes it is. Since `0` is less than 5, it proceeds to the indented lines.**\n",
    "    - It executes the third line, printing the string `'again'`.\n",
    "    - It executes the fourth line, overwriting the value of `i` to `i+1`. Since `i` is zero before this line, the increment, will change the value of `i` to `0+1` or simply `1`.\n",
    "- **Instead of proceeding to the fifth line, python goes back to the the while statement, and checks again, \"Is `i < 3`? Since `1` (the current value of `i`) is still less than `3`. The check is successful and it proceeds to the indented lines again**\n",
    "    - It executes the third line, printing the string `'again'`.\n",
    "    - It executes the fourth line, overwriting the value of `i` to `i+1`. Since `i` is 1 before this line, the increment, will change the value to `i` of `1+1` or simply `2`.\n",
    "- **python goes back to the the while statement, and checks again, \"Is `i < 3`? Since `2` (the current value of `i`) is still less than `3`. The check is successful and it proceeds to the indented lines again**\n",
    "    - It executes the third line, printing the string `'again'`.\n",
    "    - It executes the fourth line, overwriting the value of `i` to `i+1`. Since `i` is 1 before this line, the increment, will change the value to `i` of `2+1` or simply `3`.\n",
    "- **python goes back to the the while statement, and checks again, \"Is `i < 3`? Since `3` (the current value of `i`) is not less than `3`. The check fails. It skips the indented lines and proceeds to the fifth line**\n",
    "- It executes the fifth line and prints `'finish'`\n",
    "\n",
    "As you can see, the indented lines after the `while` statement are repeated *while* the boolean expression remains true.\n",
    "\n",
    "Let's look at some more examples:"
   ]
  },
  {
   "cell_type": "code",
   "execution_count": 3,
   "id": "ec0b1975-5d1d-4bbf-9d4b-d513b6bbcb5a",
   "metadata": {},
   "outputs": [
    {
     "name": "stdout",
     "output_type": "stream",
     "text": [
      "countdown...\n",
      "5...\n",
      "4...\n",
      "3...\n",
      "2...\n",
      "1...\n",
      "0...\n",
      "lift off!\n"
     ]
    }
   ],
   "source": [
    "print('countdown...')\n",
    "i = 5\n",
    "while i >= 0:\n",
    "    print(str(i) + '...')\n",
    "    i = i - 1\n",
    "print('lift off!')"
   ]
  },
  {
   "cell_type": "markdown",
   "id": "46e75eb1-f779-40cb-a29b-7e8508b4e654",
   "metadata": {},
   "source": [
    "As expected, the indented lines right after the `while` statement are repeated until the boolean expresion `i >= 0` evaluates to `False`. In this case value of `i` starts as 5 and during every repetition, it is reduced/decremented by 1. Until it becomes `-1` which causes the boolean expression, `i >= 0` to fail (i.e. evaluates to `False`).\n",
    "\n",
    "In this example we are repeatedly printing the concatenation of `str(i)` (variable `i` coerced as an `int`), and `'...'`. Because of this print statement we are seeing how the value of `i` changes across every repetition."
   ]
  },
  {
   "cell_type": "markdown",
   "id": "494ba0b6-a64d-4e40-9539-f399514145ce",
   "metadata": {},
   "source": [
    "## Lists and loops"
   ]
  },
  {
   "cell_type": "code",
   "execution_count": 5,
   "id": "b0929271-79a1-44a6-875f-a0ee0568c076",
   "metadata": {},
   "outputs": [
    {
     "name": "stdout",
     "output_type": "stream",
     "text": [
      "Here are the items: Apple, Banana, Cherry, Durian, Eggplant, Fig, \n"
     ]
    }
   ],
   "source": [
    "fruits = ['Apple','Banana','Cherry','Durian','Eggplant','Fig']\n",
    "i = 0\n",
    "string_of_fruits = ''\n",
    "while i < len(fruits):\n",
    "    string_of_fruits = string_of_fruits + fruits[i] + ', '\n",
    "    i = i + 1\n",
    "\n",
    "print('Here are the items: ' + string_of_fruits)"
   ]
  },
  {
   "cell_type": "markdown",
   "id": "2456ec7d-9abe-4263-ba2a-2e10c5565119",
   "metadata": {},
   "source": [
    "Here is a more complex example. We have a list containing strings called `fruits`. And we have `i` which starts as 0, and `string_of_fruits` which starts as `''` (an empty string, a string with no contents).\n",
    "\n",
    "Our while loop has the boolean expression `i < len(fruits)`. This expression basically checks if the variable `i` is less than the length of the list `fruits`.\n",
    "\n",
    "The statements that get repeated are lines 5 and 6. Line 5 reassigns the variable `string_of_fruits` with the concatenation `string_of_fruits + fruits[i] + ', '`. This expression concatenates the current value of `string_of_fruits` and `fruits[i]`, which is the element of `fruits` at position `i`.\n",
    "\n",
    "To see this clearer, lets print the value of `string_of_fruits` at every repetition of the loop. I have added comments to show the print statements I have added."
   ]
  },
  {
   "cell_type": "code",
   "execution_count": 6,
   "id": "b1d74f8b-339a-47e4-9ee6-6579aa039724",
   "metadata": {},
   "outputs": [
    {
     "name": "stdout",
     "output_type": "stream",
     "text": [
      "\n",
      "Apple, \n",
      "Apple, Banana, \n",
      "Apple, Banana, Cherry, \n",
      "Apple, Banana, Cherry, Durian, \n",
      "Here are the items: Apple, Banana, Cherry, Durian, \n"
     ]
    }
   ],
   "source": [
    "fruits = ['Apple','Banana','Cherry','Durian']\n",
    "i = 0\n",
    "string_of_fruits = ''\n",
    "print(string_of_fruits) #value of string_of_fruits before the while loop begins\n",
    "while i < len(fruits):\n",
    "    string_of_fruits = string_of_fruits + fruits[i] + ', '\n",
    "    print(string_of_fruits) #value of string_of_fruits during every repetition (after reassignment)\n",
    "    i = i + 1\n",
    "\n",
    "print('Here are the items: ' + string_of_fruits)"
   ]
  },
  {
   "cell_type": "markdown",
   "id": "06c55179-c5bb-49bc-9d72-5e2e66c21047",
   "metadata": {},
   "source": [
    "As expected, before the loop `string_of_fruits` is an empty string. You can see this as the blank line at the start of the output. On the first repetition `string_of_fruits` gets updated by concatenating it with the `fruits[0]` or the first element of the list `fruit`. On the second repetition, `string_of_fruits` gets updated again by concatenating it with `fruits[1]`, or the second element of the `fruits`. And so on, until the boolean expression `i < len(fruits)` fails and the while loop stops."
   ]
  },
  {
   "cell_type": "markdown",
   "id": "0693b8f4-15e4-41db-b434-3803790c76e0",
   "metadata": {},
   "source": [
    "## Branches inside loops"
   ]
  },
  {
   "cell_type": "code",
   "execution_count": 7,
   "id": "3602feca-31c2-452b-abeb-bdde5e3d7935",
   "metadata": {},
   "outputs": [
    {
     "name": "stdout",
     "output_type": "stream",
     "text": [
      "7\n",
      "6\n",
      "6\n"
     ]
    }
   ],
   "source": [
    "values = [2,7,3,2,6,6]\n",
    "\n",
    "i = 0\n",
    "while i < len(values):\n",
    "    if values[i] > 3:\n",
    "        print(values[i])\n",
    "    i = i + 1"
   ]
  },
  {
   "cell_type": "markdown",
   "id": "d1634bf4-1380-443a-84f3-cb2274e8a7ff",
   "metadata": {},
   "source": [
    "In the example above we can see how we can put branches inside our while loops. Here we have an while loop that starts with `i` as `0`. It checks if `i < len(values)`: While this is true it repeats the following:\n",
    "It checks if the element at position `i` is greater than 3. If it is, it prints the element. It then increments `i` by one."
   ]
  },
  {
   "attachments": {},
   "cell_type": "markdown",
   "id": "7b09684e-b51d-4c0b-9f42-4ba99365a242",
   "metadata": {},
   "source": [
    "## Loops inside loops\n",
    "\n",
    "We can also put loops inside loops, these are know as nested loops"
   ]
  },
  {
   "cell_type": "code",
   "execution_count": 11,
   "id": "335b35f8-45bf-4a9b-b3e0-03bc19be8aab",
   "metadata": {},
   "outputs": [
    {
     "name": "stdout",
     "output_type": "stream",
     "text": [
      "i=0, j=0\n",
      "i=0, j=1\n",
      "i=0, j=2\n",
      "\n",
      "i=1, j=0\n",
      "i=1, j=1\n",
      "i=1, j=2\n",
      "\n",
      "i=2, j=0\n",
      "i=2, j=1\n",
      "i=2, j=2\n",
      "\n",
      "i=3, j=0\n",
      "i=3, j=1\n",
      "i=3, j=2\n",
      "\n"
     ]
    }
   ],
   "source": [
    "i = 0\n",
    "while i < 4:\n",
    "    j = 0\n",
    "    while j < 3:\n",
    "        print('i=' + str(i) + ', ' + 'j=' + str(j))\n",
    "        j = j + 1\n",
    "    print()\n",
    "    i = i + 1"
   ]
  },
  {
   "cell_type": "markdown",
   "id": "d41a98e0-3d1a-4503-877c-685a6816b19d",
   "metadata": {},
   "source": [
    "The example above shows the values of `i` and `j` during every repetition. Looking at this example closely we can see how the inner loop:\n",
    "\n",
    "```python\n",
    "... j=0\n",
    "... j=1\n",
    "... j=2\n",
    "```\n",
    "\n",
    "is repeated 4 times (i.e. the number of repetitions as specified by the outer loop)"
   ]
  },
  {
   "cell_type": "markdown",
   "id": "8c27cf2e-6a37-4cfb-aecc-ced6efa5e632",
   "metadata": {},
   "source": [
    "Nested loops allow us to create interesting loop patterns. Such as the nested loop below which increases the number of repetitions of the inner loop"
   ]
  },
  {
   "cell_type": "code",
   "execution_count": 15,
   "id": "7bc89c40-dbd3-45d1-be2b-31919b440cf7",
   "metadata": {},
   "outputs": [
    {
     "name": "stdout",
     "output_type": "stream",
     "text": [
      "\n",
      "i=1, j=0\n",
      "\n",
      "i=2, j=1\n",
      "\n",
      "i=3, j=2\n",
      "\n"
     ]
    }
   ],
   "source": [
    "i = 0\n",
    "j = 0\n",
    "while i < 4:\n",
    "    while j < i: # instead of looping a set amount of times, it loops based on the value of i\n",
    "        print('i=' + str(i) + ', ' + 'j=' + str(j))\n",
    "        j = j + 1\n",
    "    print() # prints an empty line\n",
    "    i = i + 1"
   ]
  },
  {
   "cell_type": "markdown",
   "id": "539395bc-1eb4-485d-9272-e2e95b6d5ecd",
   "metadata": {},
   "source": [
    "In the example above we simply change the boolean expression inside the inner loop from `j < 3` to `j < i`. With this change, the inner loops number of repetitions become dependent on the value of `i`. In this case `i` is incremented by 1 during every repetition of the outer loop. Because of this, the inner loop's repetition amount is also incremented by 1."
   ]
  },
  {
   "cell_type": "code",
   "execution_count": 17,
   "id": "8fd40f90-99b2-4d27-8699-5a1f48d7a0a5",
   "metadata": {},
   "outputs": [],
   "source": [
    "while False:\n",
    "    print('again')"
   ]
  },
  {
   "cell_type": "markdown",
   "id": "cb62c50a-08a3-4c42-8ecc-30ee34e8e545",
   "metadata": {},
   "source": [
    "## Infinite loops\n",
    "\n",
    "One thing you need to be careful of when it comes to loops is accidentally creating an infinite loop. An infinite loop occurs when the loop has no way of ending.\n",
    "\n",
    "```python\n",
    "while True:\n",
    "    print('again')\n",
    "```\n",
    "\n",
    "If we try to run the code above, we repeat the second line again and again. But since the boolean expression is always True, the loop will never end. If your try to run this code. You'll see that python will execute the indented line again and again until it cannot anymore.\n",
    "\n",
    "The example above is very obvious. In some cases you might not notice that you accidentally created an infinite loop\n",
    "\n",
    "```python\n",
    "int i = 0\n",
    "while i < 5:\n",
    "    print('again')\n",
    "```\n",
    "\n",
    "The example above will also produce an infinte loop. As you can see you missed the line that reassigns the value of i. And since the value of `i` doesnt change. Python will keep evaluating `0 < 5`, which is always true, resulting in boolean expression that cannot fail, and therefore an infinite loop.\n",
    "\n",
    "```python\n",
    "int i = 0\n",
    "while i < 5:\n",
    "    print('again')\n",
    "    i = i - 1\n",
    "```\n",
    "\n",
    "The example above does change the value of `i` but because you are decrementing `i`. No matter how many times your decrease `i` it will not result in the failure of the boolean expression `i < 5`. Therefore the boolean expression is always true, causing an infinite loop\n",
    "\n",
    "```python\n",
    "int i = 0\n",
    "while i < 5:\n",
    "    print('again')\n",
    "i = i + 1\n",
    "```\n",
    "\n",
    "In the example above we have the correct modification for i, which is increment. But unfortunately we did not put the correct indentation on this line. This means that the `i = i + 1` is placed outside of the loop. Which means this line will never be reached until the loop is finsished. And since the loop above is missing the correct increment, it will never finish."
   ]
  },
  {
   "attachments": {},
   "cell_type": "markdown",
   "id": "a76cd920-9f4b-4cec-996e-0017acb7c8c8",
   "metadata": {},
   "source": [
    "## `for` loops\n",
    "\n",
    "Python has special repetition statements that are useful for working with sequence datatypes. These are known as `for` loops"
   ]
  },
  {
   "cell_type": "code",
   "execution_count": 18,
   "id": "d90b41ea-9806-43f2-a67b-bddd9833eb5d",
   "metadata": {},
   "outputs": [
    {
     "name": "stdout",
     "output_type": "stream",
     "text": [
      "Apple\n",
      "Banana\n",
      "Cherry\n",
      "Durian\n"
     ]
    }
   ],
   "source": [
    "fruits = ['Apple','Banana','Cherry','Durian']\n",
    "\n",
    "for f in fruits:\n",
    "    print(f)"
   ]
  },
  {
   "cell_type": "markdown",
   "id": "43b40b42-cdb3-4444-8d39-bd50a1d005d4",
   "metadata": {},
   "source": [
    "A `for` loop goes through the elements of a sequence (lists, tuples, strings, dictionaries, etc.) to allow us to interact with the elements individually.\n",
    "\n",
    "In the code above, we write `for f in fruits:`. A good way to read this line in english is *\"for every f in fruits\"*. \n",
    "\n",
    "On the first repetition of the for loop, the first element of `fruits` is assigned to the the variable `f`. It then proceeds to the indented lines. In this case we have one line which simply prints the value stored in `f` which is `'Apple'`. It then returns to the start of the loop, but this time reassigning `f` to the second element of `fruits`. It then proceeds to the indented lines again and prints the value store in `f`. This time the stored value is `Banana`.\n",
    "\n",
    "The for loop repeats this process until there are no more elements in `fruits`.\n",
    "\n",
    "The `for` loop above has the same results as the `while` loop below:"
   ]
  },
  {
   "cell_type": "code",
   "execution_count": null,
   "id": "3bffdda4-e9c2-4f04-b6b9-1ac4dc7d4e5b",
   "metadata": {},
   "outputs": [],
   "source": [
    "fruits = ['Apple','Banana','Cherry','Durian']\n",
    "\n",
    "i = 0\n",
    "while i < len(fruits):\n",
    "    f = fruits[i]\n",
    "    print(f)\n",
    "    i = i + 1"
   ]
  },
  {
   "cell_type": "markdown",
   "id": "ff06e79f-b711-4060-9d8f-57979e977cd9",
   "metadata": {},
   "source": [
    "As said before, `for` loops will work with other python sequence:"
   ]
  },
  {
   "cell_type": "code",
   "execution_count": 19,
   "id": "8fac839d-ad71-42fd-ae59-aff9f78a289d",
   "metadata": {},
   "outputs": [
    {
     "name": "stdout",
     "output_type": "stream",
     "text": [
      "1\n",
      "2\n",
      "3\n",
      "4\n"
     ]
    }
   ],
   "source": [
    "for element in 1,2,3,4:\n",
    "    print(element)"
   ]
  },
  {
   "cell_type": "code",
   "execution_count": 20,
   "id": "0157f69a-c053-452e-b043-80ef87fcceff",
   "metadata": {},
   "outputs": [
    {
     "name": "stdout",
     "output_type": "stream",
     "text": [
      "w\n",
      "o\n",
      "r\n",
      "d\n"
     ]
    }
   ],
   "source": [
    "for character in 'word':\n",
    "    print(character)"
   ]
  },
  {
   "cell_type": "code",
   "execution_count": 21,
   "id": "1fda5626-228d-4f70-bf43-0f80cad11aa0",
   "metadata": {},
   "outputs": [
    {
     "name": "stdout",
     "output_type": "stream",
     "text": [
      "a 1\n",
      "b 2\n",
      "c 3\n"
     ]
    }
   ],
   "source": [
    "items = {'a':1,'b':2,'c':3}\n",
    "for key in items:\n",
    "    print(key, items[key])"
   ]
  },
  {
   "cell_type": "markdown",
   "id": "e14dff22-e13e-4913-878c-cb8d8cf6419b",
   "metadata": {},
   "source": [
    "> As you can see in the code above, `key` is assigned to the keys of the entries instead of the values"
   ]
  },
  {
   "cell_type": "code",
   "execution_count": null,
   "id": "34296bdb-27e5-45dd-ae0a-10add3bdee14",
   "metadata": {},
   "outputs": [],
   "source": []
  }
 ],
 "metadata": {
  "kernelspec": {
   "display_name": "Python 3 (ipykernel)",
   "language": "python",
   "name": "python3"
  },
  "language_info": {
   "codemirror_mode": {
    "name": "ipython",
    "version": 3
   },
   "file_extension": ".py",
   "mimetype": "text/x-python",
   "name": "python",
   "nbconvert_exporter": "python",
   "pygments_lexer": "ipython3",
   "version": "3.12.3"
  }
 },
 "nbformat": 4,
 "nbformat_minor": 5
}
