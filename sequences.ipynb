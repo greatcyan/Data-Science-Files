{
 "cells": [
  {
   "cell_type": "markdown",
   "id": "7a7134b3-cec6-49ae-a4ab-3c12a3a0eaff",
   "metadata": {},
   "source": [
    "# More about sequences\n",
    "## `list`/`tuple`/`string` slicing\n",
    "\n",
    "Given a python list, tuple, or string you can easily extract a **slice** using advanced indexing. A slice is a list/tuple/string formed from the same elements of a given list. For example you can extract a slice that contains first 3 elements of a list using the following indexing:"
   ]
  },
  {
   "cell_type": "code",
   "execution_count": 12,
   "id": "1da712b8-8018-4be9-a14c-0105259c9c8b",
   "metadata": {},
   "outputs": [
    {
     "data": {
      "text/plain": [
       "[0, 1, 2]"
      ]
     },
     "execution_count": 12,
     "metadata": {},
     "output_type": "execute_result"
    }
   ],
   "source": [
    "items = [0,1,2,3,4,5,6,7,8]\n",
    "items[0:3]"
   ]
  },
  {
   "cell_type": "markdown",
   "id": "edd08155-3d41-45ed-a7d6-73c8118bc75f",
   "metadata": {},
   "source": [
    "The slice `items[i:j]` corresponds to the list containing the elements from position `i` until `j-1`. In the case above, with the index `[0:3]` we extract the elements from position 0 until position 3-1. Here are some more examples"
   ]
  },
  {
   "cell_type": "code",
   "execution_count": 13,
   "id": "91c27d26-8687-44e1-9f30-a61a217dc941",
   "metadata": {},
   "outputs": [
    {
     "data": {
      "text/plain": [
       "[0, 1, 2, 3]"
      ]
     },
     "execution_count": 13,
     "metadata": {},
     "output_type": "execute_result"
    }
   ],
   "source": [
    "items[0:4]"
   ]
  },
  {
   "cell_type": "code",
   "execution_count": 14,
   "id": "6f3cc364-fd1c-44fe-9e67-0854fa744f02",
   "metadata": {},
   "outputs": [
    {
     "data": {
      "text/plain": [
       "[]"
      ]
     },
     "execution_count": 14,
     "metadata": {},
     "output_type": "execute_result"
    }
   ],
   "source": [
    "items[2:2]"
   ]
  },
  {
   "cell_type": "code",
   "execution_count": 15,
   "id": "4a703711-11f3-4044-aff3-a36e96ebe959",
   "metadata": {},
   "outputs": [
    {
     "data": {
      "text/plain": [
       "[3, 4, 5, 6, 7]"
      ]
     },
     "execution_count": 15,
     "metadata": {},
     "output_type": "execute_result"
    }
   ],
   "source": [
    "items[3:-1]"
   ]
  },
  {
   "cell_type": "markdown",
   "id": "044557aa-15eb-4ac6-8846-19ca5c15b3de",
   "metadata": {},
   "source": [
    "If you omit the first index in the slice by default python starts extracting from the first element. On the other hand if you omit the second index in the slice, by default python will extract up to the last element."
   ]
  },
  {
   "cell_type": "code",
   "execution_count": 16,
   "id": "9639dd9c-9122-4b0f-a992-9d7cdc0a4f07",
   "metadata": {},
   "outputs": [
    {
     "data": {
      "text/plain": [
       "[0, 1]"
      ]
     },
     "execution_count": 16,
     "metadata": {},
     "output_type": "execute_result"
    }
   ],
   "source": [
    "items[:2]"
   ]
  },
  {
   "cell_type": "code",
   "execution_count": 17,
   "id": "31bba227-ad50-4199-ad1d-9881911f6625",
   "metadata": {},
   "outputs": [
    {
     "data": {
      "text/plain": [
       "[0, 1, 2, 3]"
      ]
     },
     "execution_count": 17,
     "metadata": {},
     "output_type": "execute_result"
    }
   ],
   "source": [
    "items[:4]"
   ]
  },
  {
   "cell_type": "code",
   "execution_count": 18,
   "id": "09d57b0b-16db-4c87-b10e-4538d41d8ba4",
   "metadata": {},
   "outputs": [
    {
     "data": {
      "text/plain": [
       "[2, 3, 4, 5, 6, 7, 8]"
      ]
     },
     "execution_count": 18,
     "metadata": {},
     "output_type": "execute_result"
    }
   ],
   "source": [
    "items[2:]"
   ]
  },
  {
   "cell_type": "code",
   "execution_count": 19,
   "id": "48a838b7-42d4-4207-bc8f-accfcf977c91",
   "metadata": {},
   "outputs": [
    {
     "data": {
      "text/plain": [
       "[0, 1, 2, 3, 4, 5, 6, 7, 8]"
      ]
     },
     "execution_count": 19,
     "metadata": {},
     "output_type": "execute_result"
    }
   ],
   "source": [
    "items[:]"
   ]
  },
  {
   "cell_type": "markdown",
   "id": "21c223f5-3126-4d0c-985a-cc559f96db51",
   "metadata": {},
   "source": [
    "If you add a third index in the slice (e.g. `items[i:j:k]`) python will skip `k-1` elements when extracting"
   ]
  },
  {
   "cell_type": "code",
   "execution_count": 21,
   "id": "6199c285-4c9f-4694-898c-b79577824216",
   "metadata": {},
   "outputs": [
    {
     "data": {
      "text/plain": [
       "[1, 3, 5]"
      ]
     },
     "execution_count": 21,
     "metadata": {},
     "output_type": "execute_result"
    }
   ],
   "source": [
    "items[1:6:2]"
   ]
  },
  {
   "cell_type": "code",
   "execution_count": 22,
   "id": "b3a9772c-b766-477e-963c-9a9ed4bdc822",
   "metadata": {},
   "outputs": [
    {
     "data": {
      "text/plain": [
       "[1, 2, 3, 4, 5]"
      ]
     },
     "execution_count": 22,
     "metadata": {},
     "output_type": "execute_result"
    }
   ],
   "source": [
    "items[1:6:1]"
   ]
  },
  {
   "cell_type": "code",
   "execution_count": 23,
   "id": "0ddd2819-18d2-4124-adc2-b958896b5283",
   "metadata": {},
   "outputs": [
    {
     "data": {
      "text/plain": [
       "[0, 3, 6]"
      ]
     },
     "execution_count": 23,
     "metadata": {},
     "output_type": "execute_result"
    }
   ],
   "source": [
    "items[::3]"
   ]
  },
  {
   "cell_type": "code",
   "execution_count": 27,
   "id": "9eed9ebc-f431-4dd6-9401-674845a5a7bc",
   "metadata": {},
   "outputs": [
    {
     "data": {
      "text/plain": [
       "[8, 7, 6, 5, 4, 3, 2, 1, 0]"
      ]
     },
     "execution_count": 27,
     "metadata": {},
     "output_type": "execute_result"
    }
   ],
   "source": [
    "items[::-1]"
   ]
  },
  {
   "cell_type": "code",
   "execution_count": 30,
   "id": "5aa62098-90b0-4f81-925d-206a7f7f7fab",
   "metadata": {},
   "outputs": [
    {
     "data": {
      "text/plain": [
       "[1, 3, 5, 7]"
      ]
     },
     "execution_count": 30,
     "metadata": {},
     "output_type": "execute_result"
    }
   ],
   "source": [
    "items[1::2]"
   ]
  },
  {
   "cell_type": "markdown",
   "id": "c71de2f8-420b-43e0-9b48-bccbf751947f",
   "metadata": {},
   "source": [
    "Slicing works for tuples and strings as well"
   ]
  },
  {
   "cell_type": "code",
   "execution_count": 83,
   "id": "993d7559-cbf9-42e0-ab1e-8f4674f1a206",
   "metadata": {},
   "outputs": [
    {
     "data": {
      "text/plain": [
       "(1, 3)"
      ]
     },
     "execution_count": 83,
     "metadata": {},
     "output_type": "execute_result"
    }
   ],
   "source": [
    "coords = 0,1,2,3,4,5\n",
    "\n",
    "coords[1:4:2]"
   ]
  },
  {
   "cell_type": "code",
   "execution_count": 39,
   "id": "44d89a74-3cb4-4acf-a7af-31d1fbb88833",
   "metadata": {},
   "outputs": [
    {
     "data": {
      "text/plain": [
       "'qec'"
      ]
     },
     "execution_count": 39,
     "metadata": {},
     "output_type": "execute_result"
    }
   ],
   "source": [
    "word = 'sequences'\n",
    "\n",
    "word[2:7:2]"
   ]
  },
  {
   "cell_type": "markdown",
   "id": "c98f7ef5-64c1-4d1e-a0a9-69f4f2d13fd8",
   "metadata": {},
   "source": [
    "Take note that just like item retrievel, slicing does not change the value of the original sequence. This is the reason why slicing works on immutable types like tuples and strings. Slicing a sequence creates a new value and the original value is unaffected"
   ]
  },
  {
   "cell_type": "code",
   "execution_count": 41,
   "id": "bb98ab88-236d-4a6b-84d4-910921afde7a",
   "metadata": {},
   "outputs": [
    {
     "name": "stdout",
     "output_type": "stream",
     "text": [
      "[0, 1, 2]\n",
      "[0, 1, 2, 3, 4, 5, 6, 7, 8]\n"
     ]
    }
   ],
   "source": [
    "items = [0,1,2,3,4,5,6,7,8]\n",
    "print(items[0:3])\n",
    "print(items)"
   ]
  },
  {
   "cell_type": "markdown",
   "id": "67e91128-ed8d-4830-a04e-d6e61b761c6d",
   "metadata": {},
   "source": [
    "## Some more sequence related functions\n",
    "\n",
    "Here are functions related to sequences that are can be helpful for us"
   ]
  },
  {
   "cell_type": "markdown",
   "id": "034dc229-bcdd-4f4e-aa77-b2112a887756",
   "metadata": {},
   "source": [
    "### `zip()` \n",
    "\n",
    "The `zip()` accepts n sequences and combines them together like a zipper. The first element of the zipped sequence is a tuple containing the first elements of all the sequences, the second element of the zipped sequence is a tuple containing the second elements of all the sequence and so on until one of the sequences runs out of elements.\n",
    "\n",
    "The value returned by the `zip()` function is a zip object. This object has to be coerced into the correct sequence type first so that it can be used"
   ]
  },
  {
   "cell_type": "code",
   "execution_count": 60,
   "id": "ad54ec05-ac54-44de-a965-b25a3a74c0fd",
   "metadata": {},
   "outputs": [
    {
     "data": {
      "text/plain": [
       "((0, 0.0, 'x'), (1, 0.1, 'y'), (2, 0.2, 'z'))"
      ]
     },
     "execution_count": 60,
     "metadata": {},
     "output_type": "execute_result"
    }
   ],
   "source": [
    "tuple(zip([0,1,2,3,4],(0.0,0.1,0.2,0.3),'xyz'))"
   ]
  },
  {
   "cell_type": "code",
   "execution_count": 61,
   "id": "2ceab20b-6b95-4eb7-ae2c-6085935e1060",
   "metadata": {},
   "outputs": [
    {
     "data": {
      "text/plain": [
       "[(0, 0.0, 'x'), (1, 0.1, 'y'), (2, 0.2, 'z')]"
      ]
     },
     "execution_count": 61,
     "metadata": {},
     "output_type": "execute_result"
    }
   ],
   "source": [
    "list(zip([0,1,2,3,4],(0.0,0.1,0.2,0.3),'xyz'))"
   ]
  },
  {
   "cell_type": "markdown",
   "id": "23e0364d-af96-4a4b-b6f2-0037b656b89a",
   "metadata": {},
   "source": [
    "### `enumerate()`\n",
    "\n",
    "The `enumerate()` function zips a sequence with its indices. Just like `zip()`, `enumerate()`'s result should be cast to the correct sequence type"
   ]
  },
  {
   "cell_type": "code",
   "execution_count": 63,
   "id": "774894e3-eece-47fb-9145-941c51c15401",
   "metadata": {},
   "outputs": [
    {
     "data": {
      "text/plain": [
       "((0, 'a'), (1, 'b'), (2, 'c'), (3, 'd'), (4, 'e'))"
      ]
     },
     "execution_count": 63,
     "metadata": {},
     "output_type": "execute_result"
    }
   ],
   "source": [
    "tuple(enumerate('abcde'))"
   ]
  },
  {
   "cell_type": "markdown",
   "id": "327f3339-a397-48aa-9f43-b5382af4f64d",
   "metadata": {},
   "source": [
    "### `range()`\n",
    "\n",
    "The `range()` function helps us create sequences given a range of values. For example, if we want to create a list of integers from 1 to 10, we can use `range()` as such:"
   ]
  },
  {
   "cell_type": "code",
   "execution_count": 68,
   "id": "3b2660ed-56f3-4719-8923-d80d2a046889",
   "metadata": {},
   "outputs": [
    {
     "data": {
      "text/plain": [
       "[1, 2, 3, 4, 5, 6, 7, 8, 9, 10]"
      ]
     },
     "execution_count": 68,
     "metadata": {},
     "output_type": "execute_result"
    }
   ],
   "source": [
    "list(range(1,11)) #the results of range() must be coerced into the correct sequence type"
   ]
  },
  {
   "cell_type": "markdown",
   "id": "6059b6b7-d15b-4282-ab19-8fdf0f3079e8",
   "metadata": {},
   "source": [
    "A tuple of elements from 100 to 1000 with each with each element increasing by 100 each:"
   ]
  },
  {
   "cell_type": "code",
   "execution_count": 71,
   "id": "eb774878-f40a-439d-bc75-2bbe2ba8d6ba",
   "metadata": {},
   "outputs": [
    {
     "data": {
      "text/plain": [
       "(100, 200, 300, 400, 500, 600, 700, 800, 900, 1000)"
      ]
     },
     "execution_count": 71,
     "metadata": {},
     "output_type": "execute_result"
    }
   ],
   "source": [
    "tuple(range(100,1001,100)) # we write 1001 as the range end since python always excludes the range end"
   ]
  },
  {
   "cell_type": "markdown",
   "id": "923afd17-8bce-45d7-9a9a-cf927ad977d2",
   "metadata": {},
   "source": [
    "if we pass one arguments to `range()` python will start as zero and end at the passed argument minus 1:"
   ]
  },
  {
   "cell_type": "code",
   "execution_count": 74,
   "id": "32f1387f-8ffe-41cb-8dab-8642510209a1",
   "metadata": {},
   "outputs": [
    {
     "data": {
      "text/plain": [
       "[0, 1, 2, 3, 4]"
      ]
     },
     "execution_count": 74,
     "metadata": {},
     "output_type": "execute_result"
    }
   ],
   "source": [
    "list(range(5))"
   ]
  },
  {
   "cell_type": "markdown",
   "id": "cac8ff8e-baea-4b0d-a743-aec9d128c005",
   "metadata": {},
   "source": [
    "The `range()` function is also the most efficient way of creating simple `for` loops:"
   ]
  },
  {
   "cell_type": "code",
   "execution_count": 73,
   "id": "f53a55ba-ac46-4242-8dbc-244199ad5a72",
   "metadata": {},
   "outputs": [
    {
     "name": "stdout",
     "output_type": "stream",
     "text": [
      "10\n",
      "9\n",
      "8\n",
      "7\n",
      "6\n",
      "5\n",
      "4\n",
      "3\n",
      "2\n",
      "1\n"
     ]
    }
   ],
   "source": [
    "for i in range(10,0,-1):\n",
    "    print(i)"
   ]
  },
  {
   "cell_type": "markdown",
   "id": "723d3f97-932b-40f3-84e7-d89263e12b0a",
   "metadata": {},
   "source": [
    "# Comprehension\n",
    "\n",
    "Python also allows us to quickly create sequences from for loops. This is done through sequence **comprehension**. Comprehension works by collecting the results of a for loop into a list. For example the code below stores the squares of a list of integers into the list `newList`:"
   ]
  },
  {
   "cell_type": "code",
   "execution_count": 65,
   "id": "a6b669f4-b930-4813-b232-cbd12b3962f7",
   "metadata": {},
   "outputs": [
    {
     "data": {
      "text/plain": [
       "[1, 4, 9, 16]"
      ]
     },
     "execution_count": 65,
     "metadata": {},
     "output_type": "execute_result"
    }
   ],
   "source": [
    "newList = []\n",
    "for elem in [1,2,3,4]:\n",
    "    newList.append(elem*elem)\n",
    "\n",
    "newList"
   ]
  },
  {
   "cell_type": "markdown",
   "id": "fc4c19cb-55f3-44d5-8545-191ffe84c262",
   "metadata": {},
   "source": [
    "This code can be summarized using comprehension as follow:"
   ]
  },
  {
   "cell_type": "code",
   "execution_count": 66,
   "id": "2cc72859-4f6e-444c-910e-9b67cbc4e2a5",
   "metadata": {},
   "outputs": [],
   "source": [
    "newList = [elem*elem for elem in [1,2,3,4]]"
   ]
  },
  {
   "cell_type": "markdown",
   "id": "f53bb132-7bc8-4368-8313-1b8f34ff69fa",
   "metadata": {},
   "source": [
    "This helps us quickly create populated sequences just by describing the elements in a for loop"
   ]
  },
  {
   "cell_type": "code",
   "execution_count": 79,
   "id": "9ec902d2-305c-49a3-8e70-d756143a15eb",
   "metadata": {},
   "outputs": [
    {
     "data": {
      "text/plain": [
       "(0.0, 1.0, 2.0, 3.0, 4.0, 5.0, 6.0, 7.0, 8.0, 9.0)"
      ]
     },
     "execution_count": 79,
     "metadata": {},
     "output_type": "execute_result"
    }
   ],
   "source": [
    "tuple(float(i) for i in range(10)) #without the tuple() coercion, a comprehension will result in a generator object"
   ]
  },
  {
   "cell_type": "code",
   "execution_count": 82,
   "id": "1ee95218-2140-41d0-8e2a-1eb331c445a9",
   "metadata": {},
   "outputs": [
    {
     "data": {
      "text/plain": [
       "{'a': 0, 'b': 1, 'c': 2, 'd': 3}"
      ]
     },
     "execution_count": 82,
     "metadata": {},
     "output_type": "execute_result"
    }
   ],
   "source": [
    "{key:val for key,val in zip('abcd',range(4))}"
   ]
  },
  {
   "cell_type": "markdown",
   "id": "c92e12ae-dbc3-4e94-be0c-83af66434526",
   "metadata": {},
   "source": [
    "## Sets\n",
    "\n",
    "One more datatype we missed in python is the set dataype. A `set` in python is similar to sets in math. Sets do not guarantee the order of the elements, and unlike lists or tuples, it's values cannot repeat. Sets are created by surrounding a sequence of expressions in curly braces (`{}`)"
   ]
  },
  {
   "cell_type": "code",
   "execution_count": 87,
   "id": "1601c47e-f1f8-4633-b4ef-aed1b52f8e4e",
   "metadata": {},
   "outputs": [
    {
     "name": "stdout",
     "output_type": "stream",
     "text": [
      "{'a', 'b', 'c', 'd'}\n",
      "4\n"
     ]
    }
   ],
   "source": [
    "values = {'a','b','c','d','a','d'}\n",
    "print(values)\n",
    "print(len(values))"
   ]
  },
  {
   "cell_type": "markdown",
   "id": "c88ad153-3655-4dc9-b10f-63749326aa9f",
   "metadata": {},
   "source": [
    "> Notice how duplicated values are ommited when sets are evaluated.\n",
    "\n",
    "Python sets can also be operated on like mathematical sets. We can perform, union, intersection, and difference"
   ]
  },
  {
   "cell_type": "code",
   "execution_count": 93,
   "id": "f883f427-685c-452d-9e27-7b10de735e93",
   "metadata": {},
   "outputs": [
    {
     "data": {
      "text/plain": [
       "{'a', 'b', 'c', 'd', 'e', 'f'}"
      ]
     },
     "execution_count": 93,
     "metadata": {},
     "output_type": "execute_result"
    }
   ],
   "source": [
    "values.union({'c','d','e','f'})"
   ]
  },
  {
   "cell_type": "code",
   "execution_count": 95,
   "id": "86c3fd7a-51d7-471f-8ec3-004af114d2f8",
   "metadata": {},
   "outputs": [
    {
     "data": {
      "text/plain": [
       "{'c', 'd'}"
      ]
     },
     "execution_count": 95,
     "metadata": {},
     "output_type": "execute_result"
    }
   ],
   "source": [
    "values.intersection({'c','d','e','f'})"
   ]
  },
  {
   "cell_type": "code",
   "execution_count": 96,
   "id": "f65eb17c-5d9c-4b32-b712-da41a0c558ae",
   "metadata": {},
   "outputs": [
    {
     "data": {
      "text/plain": [
       "{'a', 'b'}"
      ]
     },
     "execution_count": 96,
     "metadata": {},
     "output_type": "execute_result"
    }
   ],
   "source": [
    "values - {'c','d','e','f'}"
   ]
  },
  {
   "cell_type": "markdown",
   "id": "c7cca6cd-b2d8-4335-9d8c-ccdb7d2e4b33",
   "metadata": {},
   "source": [
    "Sets also support `for` loops and comprehensions. But be wary when using them in for loop, because the order of elements of a set may not be what you expect:"
   ]
  },
  {
   "cell_type": "code",
   "execution_count": 97,
   "id": "dd430b75-a3b4-4a83-89f7-b229b41aad3a",
   "metadata": {},
   "outputs": [
    {
     "name": "stdout",
     "output_type": "stream",
     "text": [
      "0\n",
      "1\n",
      "2\n",
      "3\n",
      "4\n",
      "5\n"
     ]
    }
   ],
   "source": [
    "for elem in {5,4,3,2,1,0,1,2}:\n",
    "    print(elem)"
   ]
  },
  {
   "cell_type": "code",
   "execution_count": 98,
   "id": "aa7428db-c051-4f25-ac0d-ea3f780e4e1e",
   "metadata": {},
   "outputs": [
    {
     "data": {
      "text/plain": [
       "{2, 3, 4, 5, 6, 7, 8, 9, 10}"
      ]
     },
     "execution_count": 98,
     "metadata": {},
     "output_type": "execute_result"
    }
   ],
   "source": [
    "{i for i in range(10,1,-1)}"
   ]
  },
  {
   "cell_type": "code",
   "execution_count": null,
   "id": "84ce1648-a49d-450a-8cfd-e2ed06e6fa50",
   "metadata": {},
   "outputs": [],
   "source": []
  }
 ],
 "metadata": {
  "kernelspec": {
   "display_name": "Python 3 (ipykernel)",
   "language": "python",
   "name": "python3"
  },
  "language_info": {
   "codemirror_mode": {
    "name": "ipython",
    "version": 3
   },
   "file_extension": ".py",
   "mimetype": "text/x-python",
   "name": "python",
   "nbconvert_exporter": "python",
   "pygments_lexer": "ipython3",
   "version": "3.12.3"
  }
 },
 "nbformat": 4,
 "nbformat_minor": 5
}
